{
  "cells": [
    {
      "cell_type": "markdown",
      "metadata": {
        "id": "9Yzm21SolhN3"
      },
      "source": [
        "# Data Cleaning"
      ]
    },
    {
      "cell_type": "markdown",
      "metadata": {
        "id": "pYAtigtelhN8"
      },
      "source": [
        "` Data cleaning is a time consuming and unenjoyable task, yet it's a very important one. Keep in mind, \"garbage in, garbage out\".`\n",
        "\n",
        "#### Feeding dirty data into a model will give us results that are meaningless.\n",
        "\n",
        "### Objective:\n",
        "\n",
        "1. Getting the data \n",
        "2. Cleaning the data \n",
        "3. Organizing the data - organize the cleaned data into a way that is easy to input into other algorithms\n",
        "\n",
        "### Output :\n",
        "#### cleaned and organized data in two standard text formats:\n",
        "\n",
        "1. Corpus - a collection of text\n",
        "2. Document-Term Matrix - word counts in matrix format"
      ]
    },
    {
      "cell_type": "markdown",
      "metadata": {
        "id": "y2NNlO1dlhN-"
      },
      "source": [
        "## Problem Statement"
      ]
    },
    {
      "cell_type": "markdown",
      "metadata": {
        "id": "bGLXULVJlhN-"
      },
      "source": [
        "Look at transcripts of various comedians and note their similarities and differences and find if the stand up comedian of your choice has comedy style different than other comedian.\n"
      ]
    },
    {
      "cell_type": "markdown",
      "metadata": {
        "id": "x5dnZhyrlhN_"
      },
      "source": [
        "## Getting The Data"
      ]
    },
    {
      "cell_type": "markdown",
      "metadata": {
        "id": "KxaAkfo3lhOA"
      },
      "source": [
        "You can get the transcripts of some comedian from [Scraps From The Loft](http://scrapsfromtheloft.com). \n",
        "\n",
        "You can take help of IMDB and select only 10 or 20 comedian having highest rating.\n",
        "\n",
        "\n",
        "\n",
        "\n",
        "\n",
        "\n",
        "### For example:"
      ]
    },
    {
      "cell_type": "code",
      "execution_count": 27,
      "metadata": {
        "id": "G_XC1MJOlhOA"
      },
      "outputs": [],
      "source": [
        "# Web scraping, pickle imports\n",
        "import requests\n",
        "from bs4 import BeautifulSoup\n",
        "import pickle\n",
        "\n",
        "# Scrapes transcript data from scrapsfromtheloft.com\n",
        "def url_to_transcript(url):\n",
        "    '''Returns transcript data specifically from scrapsfromtheloft.com.'''\n",
        "    page = requests.get(url).text\n",
        "    soup = BeautifulSoup(page, \"lxml\")\n",
        "    text = [p.text for p in soup.find(class_=\"ast-container\").find_all('p')]\n",
        "    print(url)\n",
        "    return text\n",
        "\n",
        "# URLs of transcripts in scope\n",
        "urls = ['https://scrapsfromtheloft.com/comedy/dave-chappelle-sticks-stones-transcript/',\n",
        "        'https://scrapsfromtheloft.com/comedy/pete-davidson-alive-from-new-york-transcript/',\n",
        "        'https://scrapsfromtheloft.com/comedy/neal-brennan-blocks-transcript/',\n",
        "        'https://scrapsfromtheloft.com/comedy/vir-das-losing-it-transcript/',\n",
        "        'https://scrapsfromtheloft.com/comedy/chris-rock-total-blackout-the-tamborine-extended-cut-transcript/',\n",
        "        'https://scrapsfromtheloft.com/comedy/george-carlin-doin-it-again-transcript/',\n",
        "        'https://scrapsfromtheloft.com/comedy/norm-macdonald-hitlers-dog-gossip-trickery-2017-full-transcript/',\n",
        "        'https://scrapsfromtheloft.com/comedy/eddie-murphy-raw-transcript/',\n",
        "        'https://scrapsfromtheloft.com/comedy/hasan-minhaj-homecoming-king-transcript/',\n",
        "        'https://scrapsfromtheloft.com/comedy/bill-burr-paper-tiger-transcript/',\n",
        "        'https://scrapsfromtheloft.com/comedy/ricky-gervais-supernature-transcript/',\n",
        "        'https://scrapsfromtheloft.com/comedy/louis-c-k-sorry-transcript/',\n",
        "        'https://scrapsfromtheloft.com/comedy/bo-burnham-inside-transcript/',\n",
        "        'https://scrapsfromtheloft.com/comedy/taylor-tomlinson-quarter-life-crisis-transcript/',\n",
        "        'https://scrapsfromtheloft.com/comedy/trevor-noah-i-wish-you-would-transcript/']\n",
        "\n",
        "# Comedian names\n",
        "comedians = ['dave', 'pete', 'brennan', 'vir', 'rock', 'carlin', 'norm', 'murphy', 'hasan', 'burr', 'ricky', 'louis', 'burnham', 'taylor', 'trevor']"
      ]
    },
    {
      "cell_type": "code",
      "execution_count": 28,
      "metadata": {
        "id": "ZYz9E_0vlhOD"
      },
      "outputs": [
        {
          "name": "stdout",
          "output_type": "stream",
          "text": [
            "https://scrapsfromtheloft.com/comedy/dave-chappelle-sticks-stones-transcript/\n",
            "https://scrapsfromtheloft.com/comedy/pete-davidson-alive-from-new-york-transcript/\n",
            "https://scrapsfromtheloft.com/comedy/neal-brennan-blocks-transcript/\n",
            "https://scrapsfromtheloft.com/comedy/vir-das-losing-it-transcript/\n",
            "https://scrapsfromtheloft.com/comedy/chris-rock-total-blackout-the-tamborine-extended-cut-transcript/\n",
            "https://scrapsfromtheloft.com/comedy/george-carlin-doin-it-again-transcript/\n",
            "https://scrapsfromtheloft.com/comedy/norm-macdonald-hitlers-dog-gossip-trickery-2017-full-transcript/\n",
            "https://scrapsfromtheloft.com/comedy/eddie-murphy-raw-transcript/\n",
            "https://scrapsfromtheloft.com/comedy/hasan-minhaj-homecoming-king-transcript/\n",
            "https://scrapsfromtheloft.com/comedy/bill-burr-paper-tiger-transcript/\n",
            "https://scrapsfromtheloft.com/comedy/ricky-gervais-supernature-transcript/\n",
            "https://scrapsfromtheloft.com/comedy/louis-c-k-sorry-transcript/\n",
            "https://scrapsfromtheloft.com/comedy/bo-burnham-inside-transcript/\n",
            "https://scrapsfromtheloft.com/comedy/taylor-tomlinson-quarter-life-crisis-transcript/\n",
            "https://scrapsfromtheloft.com/comedy/trevor-noah-i-wish-you-would-transcript/\n"
          ]
        }
      ],
      "source": [
        "# # Actually request transcripts (takes a few minutes to run)\n",
        "transcripts = [url_to_transcript(u) for u in urls]"
      ]
    },
    {
      "cell_type": "code",
      "execution_count": 29,
      "metadata": {
        "colab": {
          "background_save": true
        },
        "id": "XLanBi3OlhOE"
      },
      "outputs": [
        {
          "name": "stdout",
          "output_type": "stream",
          "text": [
            "mkdir: transcripts: File exists\n"
          ]
        }
      ],
      "source": [
        "# Pickle files for later use\n",
        "\n",
        "# Make a new directory to hold the text files\n",
        "!mkdir transcripts\n",
        "\n",
        "for i, c in enumerate(comedians):\n",
        "    with open(\"transcripts/\" + c + \".txt\", \"wb\") as file:\n",
        "        pickle.dump(transcripts[i], file)"
      ]
    },
    {
      "cell_type": "code",
      "execution_count": 30,
      "metadata": {
        "colab": {
          "background_save": true
        },
        "id": "NmlsowsklhOF"
      },
      "outputs": [],
      "source": [
        "# Load pickled files\n",
        "data = {}\n",
        "for i, c in enumerate(comedians):\n",
        "    with open(\"transcripts/\" + c + \".txt\", \"rb\") as file:\n",
        "        data[c] = pickle.load(file)"
      ]
    },
    {
      "cell_type": "code",
      "execution_count": 31,
      "metadata": {
        "colab": {
          "background_save": true
        },
        "id": "jYhv0VMOlhOF",
        "outputId": "1197f532-0062-49ac-f156-2f90e4732e39"
      },
      "outputs": [
        {
          "data": {
            "text/plain": [
              "dict_keys(['dave', 'pete', 'brennan', 'vir', 'rock', 'carlin', 'norm', 'murphy', 'hasan', 'burr', 'ricky', 'louis', 'burnham', 'taylor', 'trevor'])"
            ]
          },
          "execution_count": 31,
          "metadata": {},
          "output_type": "execute_result"
        }
      ],
      "source": [
        "# Double check to make sure data has been loaded properly\n",
        "data.keys()"
      ]
    },
    {
      "cell_type": "code",
      "execution_count": 32,
      "metadata": {
        "colab": {
          "background_save": true
        },
        "id": "jrO-iXTSlhOG",
        "outputId": "042518eb-5db4-4b6d-bd8c-f4b374e6d489"
      },
      "outputs": [
        {
          "data": {
            "text/plain": [
              "['Exploring mental health decline over 2020, the constant challenges our world faces, and the struggles of life itself, Bo Burnham creates a wonderful masterpiece to explain each of these, both from general view and personal experience.',\n",
              " '* * *']"
            ]
          },
          "execution_count": 32,
          "metadata": {},
          "output_type": "execute_result"
        }
      ],
      "source": [
        "# More checks\n",
        "data['burnham'][:2]"
      ]
    },
    {
      "cell_type": "markdown",
      "metadata": {
        "id": "l-yNk-oxlhOG"
      },
      "source": [
        "## Cleaning The Data"
      ]
    },
    {
      "cell_type": "markdown",
      "metadata": {
        "id": "8kXwSP-TlhOH"
      },
      "source": [
        "When dealing with numerical data, data cleaning often involves removing null values and duplicate data, dealing with outliers, etc. With text data, there are some common data cleaning techniques, which are also known as text pre-processing techniques.\n",
        "\n",
        "With text data, this cleaning process can go on forever. There's always an exception to every cleaning step. So, we're going to follow the MVP (minimum viable product) approach - start simple and iterate.\n",
        "### Assignment:\n",
        "1. Perform the following data cleaning on transcripts:\n",
        "i) Make text all lower case\n",
        "ii) Remove punctuation\n",
        "iii) Remove numerical values\n",
        "iv) Remove common non-sensical text (/n)\n",
        "v) Tokenize text\n",
        "vi) Remove stop words"
      ]
    },
    {
      "cell_type": "code",
      "execution_count": 33,
      "metadata": {
        "colab": {
          "background_save": true
        },
        "id": "DT2xhPqtlhOH",
        "outputId": "9f844d56-c446-4d61-e9bb-e4f8c55f4730"
      },
      "outputs": [
        {
          "data": {
            "text/plain": [
              "'dave'"
            ]
          },
          "execution_count": 33,
          "metadata": {},
          "output_type": "execute_result"
        }
      ],
      "source": [
        "# Let's take a look at our data again\n",
        "next(iter(data.keys()))"
      ]
    },
    {
      "cell_type": "code",
      "execution_count": 34,
      "metadata": {
        "colab": {
          "background_save": true
        },
        "id": "uhJrqWyzlhOH",
        "outputId": "9ecda888-b92a-4645-f48f-7dc7f0293145"
      },
      "outputs": [
        {
          "data": {
            "text/plain": [
              "['Sticks & Stones is Dave Chappelle’s fifth Netflix special.\\nIn the promotional trailer Morgan Freeman narrates as Chappelle swaggers across a salt flat in leather pants, aviator shades and a remarkably long t-shirt.',\n",
              " '[Morgan Freeman] This is Dave. He tells jokes for a living. Hopefully he makes people laugh, but these days it’s a high stakes game.',\n",
              " 'Hmm, how did we get here, I wonder? I don’t mean that metaphorically, I’m really asking: how did Dave get here? I mean, what the fuck is this?',\n",
              " 'But what do I know? I’m just Morgan Freeman.',\n",
              " 'Anyway, I guess what I’m trying to say is\\xa0if you say anything… you risk everything. But if that’s the way it’s gotta be—okay, fine, fuck it! ',\n",
              " 'Ahahah, he’s back folks!',\n",
              " 'Sticks & Stones streamed August 26, 2019 on Netflix.',\n",
              " '“TELL ME SOMETHING’',\n",
              " 'YOU MOTHAFUCKAS\\nCAN’T TELL ME NOTHIN’',\n",
              " 'I’D RATHER DIE THAN\\nTO LISTEN TO YOU…”',\n",
              " '—KENDRICK LAMAR,\\nPULITZER PRIZE WINNER',\n",
              " '“I KNOW REAL N*GGAS\\nHAPPEN TO LOVE IT”',\n",
              " '—SHAWN CARTER\\n(BILLIONAIRE)',\n",
              " '♪ I was dreaming When I wrote this ♪\\n♪ Forgive me if it goes astray ♪\\n♪ But when I woke up this morning ♪\\n♪ Could’ve sworn it was Judgment Day ♪\\n♪ Sky was all purple ♪\\n♪There were people running everywhere ♪',\n",
              " 'And this is the bar of the whole song. Prince say…',\n",
              " '♪ Trying to run from my destruction ♪\\n♪ You know I didn’t even care ♪',\n",
              " 'Good people of Atlanta, we must never forget… that Anthony Bourdain… Yeah! …killed himself. Anthony Bourdain had the greatest job that show business ever produced. This n i g g a flew around the world… …and ate delicious meals with outstanding people. That man with that job hung himself in a luxury suite in France.',\n",
              " '♪ They say 2000-zero-zero ♪\\n♪ Party over, oops, out of time ♪\\n♪ So, tonight I’m gonna party ♪\\n♪ Like it’s 1999 ♪',\n",
              " 'I knew a n i g g a in high school that was an urban genius. This motherfucker’s grades was so good, he got all the way from the hood to an Ivy League school with a full scholarship. From there, the motherfucker got himself into one of the best law schools in the country. And when he was in law school, he met a woman and they fell in love. And they were gonna get married. I remember him telling me about it. He was home for Christmas, and I told him, I said, “My man, my man… save that bitch for late in your life.”',\n",
              " 'But he’s in love. He didn’t listen to me. He married her while he was in law school, and sadly, they got divorced, while he was in law school. He was a street n i g g a from the hood. This man had nothing… and that bitch took half of that. And then, I just never saw him again for years, and then, two years ago, I was home in DC doing some shoppin’, tryin’ to buy my sons some socks at Foot Locker. I go to Foot Locker. Guess who’s the manager? That n i g g a. Dressed like a referee, the whole shit. This motherfucker is 45 years old! We went out drinking that night just tryin’ to catch up, and… and he told me. He said he’s been living with his mother for, like, ten years, just trying to get back on his feet.',\n",
              " 'But that’s not the point of the story. The point of the story is… never occurred to this n i g g a to kill himself. He’s alive and well in D.C. I even suggested to him that he should try it out. Like, “I don’t know, maybe…”',\n",
              " 'Nobody’s life is perfect. No matter what it looks like from the outside, you don’t know what the fuck’s going on inside. I have a great life, but it’s not a perfect life, but it’s good. It’s… My shit’s like an above ground pool. You ever seen one of them? It’s a pool.',\n",
              " 'So, in that spirit, tonight I thought I’d start my show a little differently. Tonight I’m gonna do something that I’m not particularly good at but that I like to do. Tonight I’m gonna try some impressions out. I only got two. Aight, the first impression’s kind of dumb, but I like it. This… This is my impression, you ready? This is my impression… of the Founding Fathers of America… when the Constitution was being written. You ready? Here it goes. Hurry up and finish that Constitution, n i g g e r. I’m trying to get some sleep. It’s not bad, right?',\n",
              " 'All right, the next one… The next one’s a little harder. I want to see if you can guess who it is I’m doing an impression of. All right? Let me get into character. You gotta guess who it is, though. Okay, here it goes. Uh, duh. Hey! Durr! If you do anything wrong in your life, duh, and I find out about it, I’m gonna try to take everything away from you, and I don’t care when I find out. Could be today, tomorrow, 15, 20 years from now. If I find out, you’re fucking-duh-finished.',\n",
              " '– Trump.',\n",
              " '– Who… Who’s that?',\n",
              " '– Trump',\n",
              " '– Trump.',\n",
              " 'That’s YOU! That’s what the audience sounds like to me. That’s why I don’t be coming out doing comedy all the time, ’cause y’all n i g g a s is the worst motherfuckers I’ve ever tried to entertain in my FUCKING life.',\n",
              " 'Ugh. I’m goddamn sick of it. This is the worst time ever to be a celebrity. You’re gonna be finished. Everyone’s doomed. Michael Jackson has been dead for ten years and this n i g g a has two new cases. And if you haven’t watched that documentary… uh, then I’m begging you, don’t watch it. It’s fucking gross. I felt like HBO was sticking baby dicks in my ears for four hours straight. Really nasty shit. I don’t want to know all these things. Turns out, uh, Michael Jackson allegedly likes a long gander at the anus. They said he stares at people’s buttholes. That’s what they said. That’s how gross the documentary was.',\n",
              " 'I’m gonna say something that I’m not allowed to say. But I gotta be real. Uh… I don’t believe these motherfuckers. I do not believe them. But… let me qualify the statement. I… I am what’s known on the streets as a victim blamer. You know what I mean? If somebody come up to me like, “Dave, Dave, Chris Brown just beat up Rihanna.” I’ll be like, “Well, what did she do?” “Dave, Michael Jackson was molesting children.” “Well, what were those kids wearing at the time?”',\n",
              " 'I don’t think he did it. But you know what? Even if he did do it… You know what I mean? You know what I mean? Eh… I mean, it’s Michael Jackson. I know more than half the people in this room have been molested in their lives. But it wasn’t no goddamn Michael Jackson, was it? This kid got his dick sucked by the King of Pop. All we get is awkward Thanksgivings for the rest of our lives.',\n",
              " 'You know how good it must’ve felt to go to school the next day after that shit? “Hey, Billy, how was the weekend?” “How was my weekend? Michael Jackson sucked my dick! And that was my first sexual experience. If I’m starting here, then sky’s the limit!”',\n",
              " 'I know it seems harsh, but, man, somebody’s gotta teach these kids. There’s no such thing as a free trip to Hawaii. He’s gonna want to look at your butthole or something.',\n",
              " 'You know why I don’t believe it? You know why I don’t believe it? Because if Michael Jackson’s out here doing all this molesting, then– then why not Macaulay Culkin? Hmm? Macaulay Culkin stated in an interview that Michael Jackson never did anything inappropriate with him or even around him. Think about that shit. You know… I’m not a pedophile. But if I was… Macaulay Culkin’s the first kid I’m fucking, I’ll tell you that right now. I’d be a goddamn hero. “Hey, that guy over there fucked the kid from Home Alone. And you know how hard he is to catch.”',\n",
              " '♪ My mind’s telling me, “No” ♪',\n",
              " '– Oh! R. Kelly!',\n",
              " 'Well, okay. R. Kelly is different. I mean, you know, if I’m a bettin’ man, I’m gonna put my money on “He probably did that shit.” I’m pretty sure he did that shit. You know, it was bad, okay, so a couple years ago, I was doing a show in Detroit. And I’m sitting backstage in my dressing room and a friend of mine comes by, this chick, Dream Hampton. Dream, uh, tells me, right before I’m going on stage, she goes, “Dave, I’m working on a documentary about R. Kelly. “Would you like to be in it?” And I was like, “Nah, bitch, I’m cool.”',\n",
              " 'I went onstage, I just forgot about the shit, and then two years later, the documentary comes out, Surviving R. Kelly. And when it comes out, Dream’s promotin’ shit and she keeps bringing me up. She said, “I asked Dave Chappelle to be in my documentary, and he said it was too hot for TV.” Bitch, I did not say that. That does not even sound like how I talk. “Oh, that’s too hot for TV.” I would never say that shit.',\n",
              " 'But I’m gonna tell you guys why I wasn’t in the documentary. It’s a very simple reason, and, uh, I cannot stress this point enough. The only reason that I didn’t do it was because, and this is very important… I don’t know this n i g g a at all! I don’t know anything! I don’t know anything that they don’t tell me about. I don’t hang out with this n i g g a. Nothing. So what the fuck do I got to be in the documentary for?',\n",
              " 'This guy, R. Kelly, got another sex tape out now. Can you believe that shit? This guy makes more sex tapes than he does music. He’s like the DJ Khaled of sex tapes. “Another one.” Like, damn, n i g g a! That’s a lot of tapes. The new one’s so bad that they didn’t even show it. I’ve never seen anything like this. The prosecutor in Chicago came out in a press conference and read to the media a transcript of a sex tape. Have you ever heard of such a thing? This n i g g a read the sex tape. And it was so bad that R. Kelly sounded guilty in the transcripts. It’s fucking amazing. Sixteen times the girl’s age was mentioned. Isn’t that crazy? This motherfucker is an idiot. He was fuckin’ her like, “Yeah, this is the best 14-year-old pussy I’ve ever had in my life.” She was like, “You like this 14-year-old pussy?” Like, “Oh, yeah, I love this.” I’m like, “Man, you need to shut the fuck up.” You gotta give your lawyer something to work with. You supposed to be on the tape like, “This is the best… 36-year-old pussy I’ve ever had in my life.” Then your lawyer can be like, “Your Honor, clearly my client thought that this woman was 36, as he mentioned some 16 times in the tape.”',\n",
              " 'They gonna know you lying, though, you know what I mean. Everybody knows… no such thing as good 36-year-old pussy. Doesn’t matter what I say. And if you at home watching this shit on Netflix, remember, bitch, you clicked on my face.',\n",
              " 'Celebrity hunting season. Doesn’t matter what I say, they’re going to get everybody eventually. Like, look, I don’t think I did anything wrong, but… but we’ll see. They even got poor Kevin Hart. Can you imagine such a thing? Kevin Hart, let me tell you something. It was… It was Kevin Hart’s dream to host the Oscars. That’s what he told me. And I remember when he told me, ’cause I was thinking to myself, “Well, that’s an awfully strange dream for an African American.” What kind of n i g g a dreams of hosting the Oscars? Kevin did, that’s who. And he did it. Against all the odds, Kevin became the most famous comedian this world has ever seen, and he got the job that only one black man before him had had. He was gonna host the 80th Oscars.',\n",
              " 'And I don’t know what you know about Kevin, but I know Kevin Hart is damn near perfect. As close to perfect as anybody I’ve ever seen. In fact, Kevin is precisely four tweets shy of being perfect. Ten years ago, Kevin had made some very homophobic comments. And I’m not gonna repeat what he said… because this is Atlanta. You know what I mean. I’m sure there’s a lot of gay men here tonight… with their wives. Far be it from me to offend anybody.',\n",
              " 'All right, I’ll tell you what he said. But just remember, these are not my words. These were Kevin’s words. And it was a long time ago. And I’m paraphrasing, ’cause I’m not good at telling other people’s jokes. Okay, Kevin said… that if his little son was demonstrating or-or-or exhibiting, uh, homosexual behavior around the house, that he’d chastise him. He’d say, “Hey, that’s gay.” And then he said he would smash a dollhouse over that child’s head.',\n",
              " 'Ooh, the gay community was furious. And I don’t blame ’em. I got a lot of gay friends. And all of them, 100% of them, all have told me fuckin’ horror stories about the shit they had to go through just to be themselves. Crazy, crazy stories. And in all those stories, I gotta say, not one of them has ever mentioned anything like… their father smashing a fucking dollhouse over their head. ‘Cause, clearly, Kevin was joking. Think about it. You would have to buy this n i g g a a dollhouse to break it over his head in the first place. Does that sound right? Is anybody gonna do that?',\n",
              " 'The gay community was upset, and then they put so much pressure on the Academy of Motion Pictures and Sciences that they went to Kevin and said, “If you don’t apologize to that community, then you cannot host these Oscars.” And then Kevin said, “Fuck it, I quit.” And then he went on every talk show in America and apologized for six weeks.',\n",
              " 'Kevin fucked up. I understand the mistake he made because I’ve made the same mistake early in my career. This is many years ago, 15 years ago. It was when I was doing Chappelle’s Show. There’s a– Thank you. Thank you. On network television, they have a department that’s called Standards and Practices. This is the department that tells you what you can and cannot say on television. And if you’re doing your job well, you should never hear from ’em. But if you’re making Chappelle’s Show, you’ll hear from these motherfuckers all the time.',\n",
              " 'And remember, this was 15 years ago. I made a mistake. I didn’t even know I’d done anything wrong. I had written a sketch… that had the word… “f a g g o t” in it. So I had to go to Standards and Practices. They call me up. I don’t know why they’re calling me, but I like the lady that runs the department. She’s usually really fair and was one of my favorite people I’ve ever worked with. So she sits me down. We have a nice conversation. She tells me, “Oh, the sketches are great.” I go, “Oh, fantastic. Well, then… well, then, why am I here?” She said, “Because, David, there’s no way… that you can ever say the word… “f a g g o t” on our network.',\n",
              " 'I didn’t know I did anything wrong. I didn’t try to defend myself. I said, “All right. Fuck it, I’ll take it out. Have a good afternoon.” And as I was leaving, it occurred to me. “Hey. Hey, Renée, quick question. It’s just a question. Seriously, I wanna know. Like, wh-why is it… why is it that… that I can say the word “n i g g e r” with impunity… …but I can’t say the word “f a g g o t”?” And she said, “Because, David, you are not gay.” I said, “Well, Renée… I’m not a n i g g e r either.”',\n",
              " 'But, you see, what I didn’t realize at the time and what Kevin had to learn the hard way is we were breaking an unwritten and unspoken rule of show business. And if I say it, you’ll know that I’m telling you the truth. The rule is that no matter what you do in your artistic expression, you are never, ever, allowed to upset… the alphabet people. You know who I mean. Those people that took 20% of the alphabet for themselves. I’d say the letters, but I don’t want to conjure their anger. Ah, it’s too late now. I’m talking about them L’s and them B’s and them G’s and the T’s.',\n",
              " 'People would be surprised. I have friends of all kinds of letters. Everybody loves me and I love everybody. I got friends who are L’s. I got friends who are B’s. And I got friends who are G’s. But the T’s hate my fuckin’ guts. And I don’t blame ’em. It’s not their fault. It’s mine. I can’t stop telling jokes about these n i g g a s. I don’t want to write these jokes, but I just can’t stop!',\n",
              " 'You know, you hear all those letters together all the time. “LBGT, LBGT,” and you think it’s just one big movement. It’s not. All those letters are their own movement. They just travel in the same car together. And… my guess is…',\n",
              " 'Oh! What is this, high school? This n i g g a probably got a babysitter or something. Go and answer your phone, n i g g a. Get that shit out of here. I’m… I’m in the middle of something important. Wouldn’t it be funny if we made fun of him and he’s like, “Ha, ha,” and he went outside like, “Hello?” “Mama’s dead.” “Oh, no!” “Mama’s dead.” That was a weird-timed phone call, wasn’t it? It’s like his phone is gay.',\n",
              " 'Like I was saying… my guess is… the G’s are driving that car. That makes sense to me. ‘Cause there’s white men in the G’s. And these people are trying to get around, uh, discrimination and oppression, and you know how white dudes are. “We know these roads. In fact, we built these roads. “The rest of you, buckle up. We’ll get you to where you want to go.”',\n",
              " 'So the G’s are just driving the car. Of course, next to the G’s in the passenger seat… is the L’s. Everybody likes the L’s, except for the G’s. I don’t know what that’s about. I just know the G’s don’t like them that much. The G’s always say, like, little subliminal digs on ’em. It’s unnecessary shit. It’s not mean, but you know what I mean? They just be like… “I wouldn’t wear that.”',\n",
              " 'And the only thing that breaks the tension between the L’s and the G’s are the B’s in the backseat. That’s right. There you go. Everybody scream out when you hear your letter. If there’s one thing that the L’s and the G’s agree on, is it’s that the B’s are fuckin’ gross. They seem greedy to the L’s and the G’s. You know what I mean? ‘Cause they’re just sittin’ in the back seat like, “Yeah, man, I’ll fuck anybody in this car. What’s going on, man?”',\n",
              " 'And sitting next to the B’s, all the way in the backseat by themselves looking out the window… that’s the T’s. Everybody in the car respects the T’s, but everyone also… resents the T’s. It’s not the T’s’ fault, but everyone in the car just feels like the T’s are making the trip take longer. Anything the T’s say gets on everybody’s nerves. And then, the T’s don’t even say anything bad. They just be in the back talking to themselves. “Hm… “I’m hot.” “Shut up. Shut the fuck up, okay? You should roll the window down, you… Bitch, I don’t know what you…” “What? I just said I was hot. Can you pull over at the next exit? I need to use the restroom.” “There is not a restroom for you for four states, n i g g a! Will you just shut the fuck up so we can get where we’re going?”',\n",
              " 'And just when that car can’t get any more tense, the Q’s are a hitchhiker that they pick up on the road. Some white dude in booty shorts just walking in the freeway. The G’s see him. “Hm, that guy might be one of us. Hey, are you okay? You need some help?” And he come over there with them booty shorts, leaning on the window. “Hey, what’s going on, fellas?” Lady. Whatever pronoun makes you feel comfortable in the back. Yeah. I don’t really know where I’m going. I don’t know if I’m gay or I’m straight or whatever. All I know for sure is that, um… I really want to get in this car.” And they make him get in and sit between the B’s and the T’s. I feel bad for T’s. But they’re so confusing. And it’s not all my fault. I-I feel like they need to take some responsibility for my jokes. ‘Cause I didn’t come up with this idea on my own, this idea that a person can be born in the wrong body. But they have to admit that’s a fucking hilarious predicament. It’s really fucking funny. If it happened to me, you’d laugh. Wouldn’t you? That wouldn’t be funny if it happened to me? I think it would be. What if… What if it did? What if… What if I was… What if I was Chinese? But… But born in this n i g g a body. That’s not funny? And for the rest of my life, I had to go around making that face. “Hey, everybody, I’m Chinese!” And everyone gets mad. “Stop making that face. That’s offensive.” -“What?” “This is how I feel inside.”',\n",
              " '\\xa0',\n",
              " 'It’s hard not to write these jokes. It’s hard not to think about it. Even when I watch sports, I’d be thinking about it. Like, think about it. Okay, say… say LeBron James, uh, changed his gender. You know what I mean? Okay. Can he stay in the NBA, or, because he’s a woman, does he have to go to the WNBA where he will score 840 points a game? What does it actually mean to be equal? You know what I mean? Like, if women are actually equal to men, then there would be no WNBA, would there? You would just be good enough to play in the NBA with us.',\n",
              " 'Or, here’s another idea that’s going to be very controversial, you could… shut the fuck up. I’m sorry, ladies. I just… I got a fucking Me Too headache. Y’all is killing me right now. It’s really fuckin’ tough to watch what’s going on. You know, ladies, I said it in my last special, and I got in a lot of trouble for this. I told you, you were right. But the way you’re going about it is not going to work. But I’m biased. I said it. Louis C.K. was a very good friend of mine before he died in that terrible masturbation accident. And it was his room. You read the story. He was masturbating in his own room. That’s where you supposed to masturbate. Then he said, “Hey, everybody, I’m gonna pull my dick out.” Nobody ran for the door or nothing like that. They all just kind of hung out, like, “I wonder if this guy is serious.” And he came on his own stomach. There it is. What is the threat? Have any women ever seen a guy that just came on his own stomach? This is the least threatening motherfucker the Earth has ever seen. All you see is shame in their face and… cum dripping down like pancake butter. He didn’t do anything that you can call the police for. I dare you to try. Call the police on him. “Hello? Police, yes. I am… I am on the other line with comedian Louis C.K., and I think that he is masturbating while I’m on the phone.” You know what the police are gonna say in Atlanta? “Well, what are you guys talking about? Mm-hm. Mm-hmm.” They ruined this n i g g a’s life, and now he’s coming back playing comedy clubs, and they acting like if he’s able to do that, that’s gonna hurt women.',\n",
              " 'What the fuck is your agenda, ladies? Is– Is sexism dead? No, in fact, the opposite happened. I said it was gonna get worse, and they said I was tone deaf. But eight states, including your state, have passed the most stringent anti-abortion laws this nation has seen since Roe v. Wade. I… I told you. I told you. I’ll be real with you, and I know nobody gives a fuck what I think anyway. -Uh… I’m not for abortion. -Oh, shut up, n i g g a. I’m not for it, but I’m not against it either. It all depends… on who I get pregnant. I don’t care– I’ll tell you right now. I don’t care what your religious beliefs are or anything. If you have a dick, you need to shut the fuck up on this one. Seriously. This is theirs. The right to choose is their unequivocal right. Not only do I believe they have the right to choose, I believe that they shouldn’t have to consult anybody, -except for a physician… …about how they exercise that right. Gentleman, that is fair. And ladies, to be fair to us, I also believe if you decide to have the baby, a man should not have to pay. That’s fair. If you can kill this motherfucker, I can at least abandon ’em. It’s my money, my choice. And if I’m wrong, then perhaps we’re wrong. So, figure that shit out for yourselves. I mean, really, uh, what the fuck are we doing? I can’t live in this new world you’re proposing.',\n",
              " 'And meanwhile, while we’re worrying about this other shit, look at what’s happening. They just killed another 12 people in a mass shooting in Virginia Beach. This shit’s happening every week. It happens so much, I’m almost– I don’t care anymore. I came home early from the road. I had a $12,000 suit on, ’cause life’s been going good. And I got home early, and dinner was cookin’. You ever come home when dinner’s cookin’? Doesn’t that smell good? And my son saw me, and he was like, “Dad’s home.” And he got up from the table and ran over to give me a hug, but he had chicken grease all over his face, so I stiffed on him, like, “Yo, yo, yo, yo, yo, my man, my man. Watch these threads, son. This is an expensive suit. I don’t want you to get that chicken grease all over me.” A-And he was like, “What the f… Chicken grease? Dad, this is duck.” Hmm. A tear came out of my eyes. I never dreamt I’d do so well in life that I’d raise a n i g g a with duck grease all over his face. And we sat down, we just talked about everything. I was telling my wife about how my shows were going, and I told her my trans jokes, and she was like, “Oh, I hate that joke.” And you know why she hates the joke? ‘Cause she’s Asian. But you know what I mean? I don’t make that face at the house, u-unless we’re really fightin’. And me and her, we weren’t arguing, but you know what I mean? She’s like, “You need to stop doing that.”',\n",
              " 'And then, I tried to change the subject. “Oh, how is school going, boys?” And my son’s telling me, “Well, we didn’t have school today, technically.” I’m like, “What… What’s going on?” He said, “Well there was, like, a school shooting drill.” I never heard of this. You know what this is? They have drills that they make kids do, uh, where they practice what to do if somebody comes to shoot up their school. I’d never heard of that before. I was like, “What the fuck?” I had to tell my sons the truth. I didn’t want to tell them this shit. “Son… Son, listen to me. Fuck that drill. If somebody comes to your school and wants to shoot it up, I’m just gonna be honest with you. You probably gonna get shot, n i g g a. I’m just being real. You got a famous dad. I talk a lot of shit. They gonna be gunning for you, little buddy. Just stay low and run in a zigzag pattern, and don’t try to save anybody, son. Do you understand me?” Why would you have kids rehearse for some shit they have no control over? All you’re doing is training these kids to worry. It’s the stupidest drill I’ve ever heard of. And while you’re in there training ’em during these drills, well, aren’t you training the shooter, too? This n i g g a’s in here listening and learning like the other kids. Sittin’ in the back… “So, where are we supposed to meet? Okay.”',\n",
              " 'All right. If you’re a parent, this shit is terrifying. This shit is real scary. All the parents is looking at each other crazy, because we know, as parents, that one of us is raising the shooter. We just don’t know which one of us it is. All we know for sure… is that if you’re a white parent, the chances that it’s you… …it’s exponentially higher than the rest of us. Shooting up school is a white kids’ game. It’s fuckin’ crazy. You know, I hated school, too. It never occurred to me… kill everybody in school? It’s fuckin’ crazy. Just do what I did, n i g g a. Try some things. “Have you skipped school, n i g g a? Skip school! Take a walk and meet some other kids. Fuck school, n i g g a. Try drugs. Have you tried drugs out? N i g g a, that might…” Some scary shit. I’ve given this a lot of thought. I don’t see any peaceful way to disarm America’s whites. There’s only one thing that’s going to save this country from itself. Same thing that always saves this country from itself, and that is African Americans. Right. And I know the question that a lot of y’all have in your minds is, “Should we do it?” Yeah. Fuck yeah, we should do it. Listen, no matter what they say or how they make you feel, remember, this is your country, too. -It is incumbent upon us… to save our country. And you know what we have to do. This is a fuckin’ election year. We gotta be serious. Every able-bodied African American must register for a legal firearm. That’s the only way they’ll change the law.',\n",
              " 'I hate guns, personally. I can’t stand ’em. Yeah, but I have several. I don’t want ’em, but I feel like I need ’em. Don’t forget where I live. I live in Ohio. And anyone that knows anything about Ohio knows that even the word “Ohio” is an old Native American word. It means, literally, uh, “land of poor white people.” And I don’t know what’s going on down here, but in my experience, uh, poor white people love, and, I mean, they fucking love… heroin. They can’t seem to get enough of it. I didn’t know what I was looking at at first. I was driving, like, “Why are all these white people so sleepy out here?” It’s really bad. Matter of fact, I was coming out of the nightclub the other night in Dayton, and I had parked my car in the alley, and no one was out. I didn’t have no bodyguards or nothing. I was home. I figured everything was fine. And as soon as I open my car door, all by myself, suddenly, uh, one of these heroin-addicted whites just pops out of a trash can. It scared the shit out of me. I screamed. “Aah!” And then, I realized it was a woman. She was fucked up. She was like… “Hey, man. Hey, man. Relax, okay? I’m sick, all right? I need some drugs, man. Please? I’ll suck your dick for five dollars, man.” I was like, “Ick… Two.”',\n",
              " 'Obviously, I’m joking. This opioid crisis is a crisis. I see it everyday. It’s as bad as they say. It’s ruining lives, it’s… destroying families. Sadly, you know what it reminds me of? Seeing it? Reminds me of us. These white folks look exactly like us during the crack epidemic. You know, it’s really crazy to see. And all this shit they talk about on the news about how divided the nation is, I don’t believe it. I feel like, nowadays, we’re gettin’ a real good look at each other. It’s wild, because I even have insight into how the white community must’ve felt watching the black community go through the scourge of crack… because I don’t care either. “Hang in there, Whites. Just say no. What’s so hard about that?” Remember when y’all said that to us? But it’s okay. There’s no grudges. Now you finally got it right. Once it started happening to your kids, you realize it’s a health crisis. These people are sick. They are not criminals. They are sick. Be that as it may, I’m armed to the teeth.',\n",
              " 'First gun I bought was a 12-gauge shotgun. I didn’t want the gun. Remember, though, I’d moved to a farm and I was sittin’ on the porch, and I see a white dude walking across my property, entitled, like he’s supposed to be there. He had a rifle over his shoulder, too. Ain’t that a bitch? I said, “What the fuck is this guy doing on my property?” I was mad as shit, but I was unarmed. So, I ended up just waving to this motherfucker like a bitch. I was just, like… And as soon as he got far enough away, I ran to my car and sped to Kmart. This is in a rural white area. And remember, I was nervous, ’cause the guy was on my property, I’m black, and I was sweating. You know what I mean? And I ran to the gun counter. Black and sweaty, sweating and black, and I looked up and I was like… I looked like a slave or something. I said, “I need a gun. Immediately.” Like that. Just like that. The guy didn’t ask no questions, he just… grabbed a 12-gauge shotgun, handed it to me. I’d never even held a gun before. I’m like… “Well, I need… I need some bullets, too.” And the guy reached under the counter, put two boxes of shells on the counter. He said, “All right, buddy. Which box do you want?” I didn’t know. One box had a picture of some ducks on it. The other box had a picture of some deer. I said, “Well, what’s that box with them ducks?” He said, “Oh, that there’s bird shot.” And then he goes just like this, I’m not exaggerating, he goes, “That won’t kill a man.” He said, “It’ll just pepper him up nicely.” I said, “What the fuck? Pepper?” You know what it means to pepper a motherfucker up? It means that when the shell explodes, hot BBs will shoot out of the barrel of the gun, not killing a motherfucker, but penetrating their skin and shallow flesh. Boy, that’s gotta hurt. Hot BBs? “Aah! Aaaah!” Remember when Dick Cheney shot a motherfucker in the face and he lived? That was bird shot. I said, “Well, what’s that box with the deer on it?” He goes, “Oh, that there is buckshot. That’ll put a hole in a goddamn truck if you wanted to. So, which box do you want?” And he picked the one with the deer up and shook it. I thought he was trying to trick me. I was like, “Do you have a box, uh, with a picture of a white dude trespassing on it? ‘Cause… ….that’s exactly the strength I’m looking for. But I didn’t know that if you’re defending your home with a shotgun, the formula dictates that you’re supposed to buy both boxes. This was not a formula that I was familiar with. It goes like this: there’s six shots in a 12-gauge shotgun. So when you load the gun, you load it like this. First shot, bird shot. Next shot, buckshot. Bird shot, and then after that, gun’s Jamaican. Buckshot, buckshot, buckshot. But you gotta picture it.',\n",
              " 'Okay, like, say I’m in bed and I’m sleepin’, and suddenly, my wife wakes me up. “David. David, wake up!” And I’m like, “Uh, oh. Look who’s come around.” And I pull my dick over the top of my pajamas. And she’s says, “No, I hear somethin’.” I go, “Oh, this bitch.” So I get up out of bed… Uh, grab the gun. I say, “Wait here, baby. I’ll go check it out. Just lock the door behind me.” Oh, my God, she’s right. Right there in the kitchen is a heroin-addicted white and… he’s digging through the change jar by the door. “I work really hard for that change. I gotta do something.” So, first, I rack the shotgun. “Hey, motherfucker!” Click-clack. That’s a test. That click-clack sound will stop a rational human being in their tracks. But, sure enough, this person is not rational. They’re sick on drugs. They’re digging in the change. I gotta act fast. This n i g g a’s almost got $1.50. “I warned you.” Bird shot! And there it goes. Hot BB’s will permeate his yellow heroin skin. Remember, I’m not killing him, I’m just “peppering him up nice.” He lets out a heroin scream. No! And that should be the end of it. But… Uh-oh. I miscalculated. While he’s on the ground screaming, I notice that his teeth are horribly miscolored. That’s not heroin at all, is it? That’s crystal meth. He pops right back up, unscathed. Time for the heavy stuff. Clack-clack. Buckshot! And then, if he got a friend with him, I got one more bird shot left. And I repeat the cycle. After that n i g g a, it’s slugs for everybody. And I’ll be in a kitchen full of dying heroin addicts, saying stupid heroin last words. “You shot me, bro.” “Oh, it hurts, man. It hurts. Ah.” Their last words are always the dumbest words, like… “Why is your dick out?”',\n",
              " 'I’m just afraid of being attacked. It happens to the best of us. Don’t ever forget what happened to that French actor. You know who I’m talking about. Jussie Smollett, he’s a very French… A very famous French actor. Y’all never heard of Jussie Smollett? Jussie Smollett is an actor from France. A-And he became famous on a show called Empire. And one night, he was in Chicago late at night, and was the victim… He was the victim of a racist and homophobic attack. You see, Jussie Smollett is… gay, and he is black, not just French. Oh, it was a crazy story. Apparently, when he’s walking down the street late at night, two white men came out of the shadows, uh… with MAGA hats on and beat him up. Tied a rope around his neck, called him all kinds of n i g g a s and… and… put some bleach on him and ran off into the night. This shit was, like, international news. And everybody was furious, especially in Hollywood. It’s all over everybody’s Twitter feed and Instagram page. “Justice for Jussie” and all this shit. The whole country was up in arms. We was talking about it all the time on the news, and… and, for some reason, uh, African Americans, we were like oddly quiet. We were so quiet about this shit that the gay community started accusing the African American community of being homophobic for not supporting him. But what they didn’t understand is that we were supporting him with our silence. Because we understood that this n i g g a was clearly lying. None of these details added up at all. He said he’s walking down the street in Chicago and-and, uh, white dudes come up to him and say, “Hey, man, aren’t you that f a g g o t n i g g e r from Empire?” What the fuck? Does that sound like how white people talk? I know white people. They don’t talk like that. “Are you that f a g g o t n i g g e r from Empire?” They would never say that. It sounds like something… that I would say. If you’re racist and homophobic, you don’t even know who this n i g g a is. You can’t watch Empire.',\n",
              " 'Black people never feel sorry for the police, but this time, we even felt sorry for the police. Can you imagine if you was a police veteran taking this kid’s police report? “Okay, Mr. Smollett. Please, tell me what happened.” “All right, you… 2:00 a.m. You left the house at 2:00 a.m. It was minus 16 degrees and… -All right. You were walking? You were walking. All right. And… and where were you going? Subway? Sandwiches? That’s when the men approached you? Did you see them? Do you have any– Okay, what did they have on? MAGA hats? MAGA hats on in Chicago? Excuse me, one second, Mr. Smollett. Frank, come here for a second. Find out where Kanye West was last night.” Such a fucking outrageous story. He said they put a rope around his neck. Has anyone here ever been to Chicago? Yes! All right. All right, so you’ve been there. Now, tell me, how much rope do you remember seeing? Who the fuck is carrying rope? Like, when did you get mugged, n i g g a, in 1850? -Who’s got rope? – Who’s got rope? Man, that shit was awful.',\n",
              " 'So, okay. I’m doing a show somewhere, and I’m on stage, and I was a little drunk, you know. I figured, “Fuck, let me talk about that n i g g a a little bit.” I figured it’d be safe, ’cause, you know, everybody’s phones are locked up… And I went in on this kid. I was talking all kinds of shit. Now, I didn’t know that there was a journalist in the audience. And unfortunately for me, that motherfucker… took impeccable notes. He told everybody everything I said. He was even puttin’ the jokes in the headline. The headline said, “Dave Chappelle Says He Wants To Smash A Dollhouse Over Jussie Smollett’s Head.” I thought for sure when I read that headline, I said, “Well, that’s it for me. I’m canceled.” But lucky for me, that very same day, the Chicago police caught the motherfuckers that actually did it, and, hilariously, they were both, uh, Nigerian. Not only were they not white, they were very, very black. They were Nigerian, which is the funniest shit. The whole story is funnier now. “This is MAGA country, you f a g g o t n i g g e r.” “You f a g g o t n i g g e r.”',\n",
              " 'If… If you’re in a group that I made fun of, then just know that I probably will only make fun of you if I see myself in you. I make fun of poor white people because I was once poor. And I know that the only difference between a poor black person and a poor white person is that a poor white person feels like it’s not supposed to be happening to them. Yeah! Everything else is the same. I know what it’s like to have a cold house. I wasn’t allowed to touch the thermostat growing up without asking my father, and it would be fuckin’ freezing in the house. I’d be like, “Dad, please. Can I please just turn the heat up to, like, I don’t know, 32, n i g g a? It’s really cold.” And my dad would say, “Just put more clothes on, David.” “I got all three of my outfits on, n i g g a. Will you look at me? I’m freezing up here.” And he said, “Just don’t think about how cold you are, David.” And I said this. I didn’t say it to him, but I said it in front of him so he could hear. I said, “I fuckin’ hate being poor.” And my dad got really upset. He didn’t scream or howl. That wasn’t his way. He just threw his newspaper on the floor, and he said, “David, David, David. You are not poor.” He said, “Poor is a mentality.” He said, “It’s a mentality that very few people ever recover from. Don’t you forget it, son. You are broke.” He said, “These are just financial circumstances that I hope to overcome one day very soon.” And I said, “Well, Dad, whatever you want to call this, uh, it’s wildly uncomfortable.”',\n",
              " 'There was a big dance coming up in the middle school. I was 12 years old. I said, “Dad, can I go to the dance?” He said, “Of course you can go. I want you to get out and meet some more kids.” I said, “Great. Uh, it costs three dollars to get in.” And my dad said, “Ooh… Sorry, son, uh… I don’t have it.” I was like, “What the fuck? You don’t have three dollars? Well, then, how are we alive, Dad? Wish I found some way out of this hell! I’d do anything to not be poor. I will show Michael Jackson my anus if I get a chance. I just gotta get out of this hell.” Dad said, “If you want to go to the dance bad enough, I’ll tell you what. There’s some money in the change jar, get the money from there.” I was 12 years old. That’s what I did. I showed up to the dance early. There’s a long line of kids waiting behind me while I’m at the door, trying to count out 300 pennies to get inside. I will never forget this shit as long as I fuckin’ live. Oh, man, you know. If you’ve been poor, you know what that feels like. You ashamed all the time. Feels like it’s your fault. And all them kids was laughing, “Ha, ha, ha, look how poor Dave Chappelle is.” Oh. Like, when I think back at it, that was really the only time in my life that I ever thought to myself, “I should kill everybody at school.”',\n",
              " 'Thank you very much, everybody, and good night.',\n",
              " '♪ Got loyalty, got royalty Inside my DNA ♪\\n♪ Got loyalty, got royalty Inside my DNA ♪\\n♪ I got loyalty, got royalty Inside my DNA ♪\\n♪ I got… This is my heritage, all I’m inheritin’ ♪\\n♪ Money and power The makin’ of marriages ♪\\n♪ Tell me somethin’ ♪\\n♪ You motherfuckers Can’t tell me nothin’ ♪\\n♪ I’d rather die than to listen to you ♪\\n♪ My DNA not for imitation ♪\\n♪ Your DNA an abomination This how it is when you’re in the Matrix ♪\\n♪ Dodgin’ bullets, reapin’ what you sow ♪\\n♪ Stackin’ up the footage Livin’ on the go, sleepin’ in a villa ♪\\n♪ Sippin’ from a Grammy Walkin’ in the buildin’ ♪\\n♪ Diamond in the ceilin’ Marble floors ♪\\n♪ Beach inside the window Peekin’ out the window ♪\\n♪ Baby in the pool, Godfather goals Only Lord knows ♪\\n♪ I’ve been goin’ hammer Dodgin’ paparazzi ♪\\n♪ Freakin’ through the cameras ♪\\n♪ Eat at Four Daughters Brock wearin’ sandals ♪\\n♪ Yoga on a Monday Stretchin’ to Nirvana ♪\\n♪ Watchin’ all the snakes Curvin’ all the fakes ♪\\n♪ Phone never on, I don’t conversate I don’t compromise, I just penetrate ♪\\n♪ Sex, money, murder, these are the breaks These are the times, level number nine ♪\\n♪ Look up in the sky, ten is on the way Sentence on the way, killings on the way ♪\\n♪ Motherfucker, I got winners on the way ♪\\n♪ You ain’t shit Without a body on your belt ♪\\n♪ You ain’t shit Without a ticket on your plate ♪\\n♪ You ain’t sick enough To pull it on yourself ♪\\n♪ You ain’t rich enough To hit the lot and skate ♪\\n♪ Tell me when destruction Gonna be my fate ♪\\n♪ Gonna be your fate Gonna be our faith ♪\\n♪ Peace to the world, let it rotate ♪\\n♪ Sex, money, murder, our DNA ♪\\n♪ Mommy ♪\\n♪ Why does everybody have a bomb? ♪\\n♪ Mommy ♪\\n♪ Why does everybody have a bomb? ♪',\n",
              " 'By the way… Vanglorious! This is protected by the red, the black, and the green, at the crossroad, with a key, sissy!',\n",
              " 'thanks dude',\n",
              " 'Your email address will not be published. Required fields are marked *',\n",
              " 'Name*',\n",
              " 'E-mail*',\n",
              " 'Website',\n",
              " ' \\n\\n',\n",
              " 'Dave Chappelle talks about Kanye West, the 2022 midterm elections and Donald Trump.',\n",
              " 'Dave Chappelle delivers a speech at his prestigious alma mater that reflects on his comedy roots, his rise to fame and why artists “should never behave.”',\n",
              " 'With topics ranging from tight rompers to ugly bras to why every man needs a box spring, Iliza remains the hilarious, affecting voice of her generation.',\n",
              " 'Features Gabriel “Fluffy” Iglesias as he talks about growing up in Los Angeles, an attempt at extortion towards him, and where he holds the record for receiving the highest fine on stage.']"
            ]
          },
          "execution_count": 34,
          "metadata": {},
          "output_type": "execute_result"
        }
      ],
      "source": [
        "# Notice that our dictionary is currently in key: comedian, value: list of text format\n",
        "next(iter(data.values()))"
      ]
    },
    {
      "cell_type": "code",
      "execution_count": 35,
      "metadata": {
        "colab": {
          "background_save": true
        },
        "collapsed": true,
        "id": "7ZFYqsmSlhOI"
      },
      "outputs": [],
      "source": [
        "# We are going to change this to key: comedian, value: string format\n",
        "def combine_text(list_of_text):\n",
        "    '''Takes a list of text and combines them into one large chunk of text.'''\n",
        "    combined_text = ' '.join(list_of_text)\n",
        "    return combined_text"
      ]
    },
    {
      "cell_type": "code",
      "execution_count": 36,
      "metadata": {
        "colab": {
          "background_save": true
        },
        "collapsed": true,
        "id": "jWLHkTOilhOI"
      },
      "outputs": [],
      "source": [
        "# Combine it!\n",
        "data_combined = {key: [combine_text(value)] for (key, value) in data.items()}"
      ]
    },
    {
      "cell_type": "code",
      "execution_count": 37,
      "metadata": {
        "colab": {
          "background_save": true
        },
        "id": "h-YJFP_ZlhOI",
        "outputId": "7333451e-c803-451e-dd9d-8ee61e089dba"
      },
      "outputs": [
        {
          "data": {
            "text/html": [
              "<div>\n",
              "<style scoped>\n",
              "    .dataframe tbody tr th:only-of-type {\n",
              "        vertical-align: middle;\n",
              "    }\n",
              "\n",
              "    .dataframe tbody tr th {\n",
              "        vertical-align: top;\n",
              "    }\n",
              "\n",
              "    .dataframe thead th {\n",
              "        text-align: right;\n",
              "    }\n",
              "</style>\n",
              "<table border=\"1\" class=\"dataframe\">\n",
              "  <thead>\n",
              "    <tr style=\"text-align: right;\">\n",
              "      <th></th>\n",
              "      <th>transcript</th>\n",
              "    </tr>\n",
              "  </thead>\n",
              "  <tbody>\n",
              "    <tr>\n",
              "      <th>brennan</th>\n",
              "      <td>[gentle music playing] [audience applauding] [audience cheering] All right, let me explain. Friend of mine… “Former friend,” we’ll call her. [audience laughter] …is an artist, right? And...</td>\n",
              "    </tr>\n",
              "    <tr>\n",
              "      <th>burnham</th>\n",
              "      <td>Exploring mental health decline over 2020, the constant challenges our world faces, and the struggles of life itself, Bo Burnham creates a wonderful masterpiece to explain each of these,...</td>\n",
              "    </tr>\n",
              "    <tr>\n",
              "      <th>burr</th>\n",
              "      <td>Recorded Live at the Royal Albert Hall, London, England [cheering and applause] [female announcer] Ladies and gentlemen, please welcome Bill Burr! All right, thank you. Thank you very mu...</td>\n",
              "    </tr>\n",
              "    <tr>\n",
              "      <th>carlin</th>\n",
              "      <td>Recorded on January 12–13, 1990, State Theatre, New Brunswick, New Jersey So you want to talk about it? Oh yeah. It all started in 1977. I mean, that’s when I started doing it regularly....</td>\n",
              "    </tr>\n",
              "    <tr>\n",
              "      <th>dave</th>\n",
              "      <td>Sticks &amp; Stones is Dave Chappelle’s fifth Netflix special.\\nIn the promotional trailer Morgan Freeman narrates as Chappelle swaggers across a salt flat in leather pants, aviator shades a...</td>\n",
              "    </tr>\n",
              "    <tr>\n",
              "      <th>hasan</th>\n",
              "      <td>[theme music: orchestral hip-hop] [crowd roars] What’s up? Davis, what’s up? I’m home. I had to bring it back here. Netflix said, “Where do you want to do the special? LA, Chicago, New Y...</td>\n",
              "    </tr>\n",
              "    <tr>\n",
              "      <th>louis</th>\n",
              "      <td>Recorded at the Madison Square Garden on August 14, 2021 * * * ♪♪ [“Like a Rolling Stone” by Bob Dylan playing] ♪♪ ♪ Once upon a time you dressed so fine ♪\\n♪ Threw the bums a dime in yo...</td>\n",
              "    </tr>\n",
              "    <tr>\n",
              "      <th>murphy</th>\n",
              "      <td>After achieving fame with Saturday Night Live and Beverly Hills Cop, Eddie Murphy released a film version of one of his live stand-up performances. He mainly focuses on the topics of div...</td>\n",
              "    </tr>\n",
              "    <tr>\n",
              "      <th>norm</th>\n",
              "      <td>Then people go, “Goddamn, at least he’s not a hypocrite.” “You’ve got to give it to him, that’s the worst part of it.” All right. I ate a pork chop. I don’t want to brag or anything like...</td>\n",
              "    </tr>\n",
              "    <tr>\n",
              "      <th>pete</th>\n",
              "      <td>So, Louis C.K. tried to get me fired from SNL my first year, and this is that story. So, it’s, like, 2014 or ’15, uh, and it’s the finale of SNL, and I-I was so shocked and happy that I ...</td>\n",
              "    </tr>\n",
              "    <tr>\n",
              "      <th>ricky</th>\n",
              "      <td>[audience cheering and applauding] [announcer] Good evening, ladies and gentlemen. Please welcome to the stage a man who really doesn’t need to do this. [audience laughing] Ricky Gervais...</td>\n",
              "    </tr>\n",
              "    <tr>\n",
              "      <th>rock</th>\n",
              "      <td>[Jimmy Fallon] Were you at the, uh, White House party? [Chris Rock] Yes, I was at the White House. Everybody was there. It was like… whoa. The last party at the White House… [chuckles so...</td>\n",
              "    </tr>\n",
              "    <tr>\n",
              "      <th>taylor</th>\n",
              "      <td>[“Making Love to the Dead” by Beginners plays] ♪ Darling, go ♪ ♪ Hey ♪\\n♪ Watch your head ♪\\n♪ Don’t look down, baby ♪\\n♪ Under the bed ♪\\n♪ Let it show ♪\\n♪ What you’ve read… ♪ [emcee] ...</td>\n",
              "    </tr>\n",
              "    <tr>\n",
              "      <th>trevor</th>\n",
              "      <td>[orchestral warmup] Potatoeszah. Zah. Potatoes. Baby. [low voice] Baby. [high voice] Baby. [normal voice] Can I hear it without the house for a second? Yep. Yep. [drawnout] Yep. [malevol...</td>\n",
              "    </tr>\n",
              "    <tr>\n",
              "      <th>vir</th>\n",
              "      <td>I lost 80% of my mind. It’s very freeing. You should see the look on your faces right now, by the way. Oh! Good evening, San Francisco. Are you guys excited, yeah? All right. Well, my na...</td>\n",
              "    </tr>\n",
              "  </tbody>\n",
              "</table>\n",
              "</div>"
            ],
            "text/plain": [
              "                                                                                                                                                                                            transcript\n",
              "brennan  [gentle music playing] [audience applauding] [audience cheering] All right, let me explain. Friend of mine… “Former friend,” we’ll call her. [audience laughter] …is an artist, right? And...\n",
              "burnham  Exploring mental health decline over 2020, the constant challenges our world faces, and the struggles of life itself, Bo Burnham creates a wonderful masterpiece to explain each of these,...\n",
              "burr     Recorded Live at the Royal Albert Hall, London, England [cheering and applause] [female announcer] Ladies and gentlemen, please welcome Bill Burr! All right, thank you. Thank you very mu...\n",
              "carlin   Recorded on January 12–13, 1990, State Theatre, New Brunswick, New Jersey So you want to talk about it? Oh yeah. It all started in 1977. I mean, that’s when I started doing it regularly....\n",
              "dave     Sticks & Stones is Dave Chappelle’s fifth Netflix special.\\nIn the promotional trailer Morgan Freeman narrates as Chappelle swaggers across a salt flat in leather pants, aviator shades a...\n",
              "hasan    [theme music: orchestral hip-hop] [crowd roars] What’s up? Davis, what’s up? I’m home. I had to bring it back here. Netflix said, “Where do you want to do the special? LA, Chicago, New Y...\n",
              "louis    Recorded at the Madison Square Garden on August 14, 2021 * * * ♪♪ [“Like a Rolling Stone” by Bob Dylan playing] ♪♪ ♪ Once upon a time you dressed so fine ♪\\n♪ Threw the bums a dime in yo...\n",
              "murphy   After achieving fame with Saturday Night Live and Beverly Hills Cop, Eddie Murphy released a film version of one of his live stand-up performances. He mainly focuses on the topics of div...\n",
              "norm     Then people go, “Goddamn, at least he’s not a hypocrite.” “You’ve got to give it to him, that’s the worst part of it.” All right. I ate a pork chop. I don’t want to brag or anything like...\n",
              "pete     So, Louis C.K. tried to get me fired from SNL my first year, and this is that story. So, it’s, like, 2014 or ’15, uh, and it’s the finale of SNL, and I-I was so shocked and happy that I ...\n",
              "ricky    [audience cheering and applauding] [announcer] Good evening, ladies and gentlemen. Please welcome to the stage a man who really doesn’t need to do this. [audience laughing] Ricky Gervais...\n",
              "rock     [Jimmy Fallon] Were you at the, uh, White House party? [Chris Rock] Yes, I was at the White House. Everybody was there. It was like… whoa. The last party at the White House… [chuckles so...\n",
              "taylor   [“Making Love to the Dead” by Beginners plays] ♪ Darling, go ♪ ♪ Hey ♪\\n♪ Watch your head ♪\\n♪ Don’t look down, baby ♪\\n♪ Under the bed ♪\\n♪ Let it show ♪\\n♪ What you’ve read… ♪ [emcee] ...\n",
              "trevor   [orchestral warmup] Potatoeszah. Zah. Potatoes. Baby. [low voice] Baby. [high voice] Baby. [normal voice] Can I hear it without the house for a second? Yep. Yep. [drawnout] Yep. [malevol...\n",
              "vir      I lost 80% of my mind. It’s very freeing. You should see the look on your faces right now, by the way. Oh! Good evening, San Francisco. Are you guys excited, yeah? All right. Well, my na..."
            ]
          },
          "execution_count": 37,
          "metadata": {},
          "output_type": "execute_result"
        }
      ],
      "source": [
        "# We can either keep it in dictionary format or put it into a pandas dataframe\n",
        "import pandas as pd\n",
        "pd.set_option('max_colwidth',190)\n",
        "\n",
        "data_df = pd.DataFrame.from_dict(data_combined).transpose()\n",
        "data_df.columns = ['transcript']\n",
        "data_df = data_df.sort_index()\n",
        "data_df"
      ]
    },
    {
      "cell_type": "code",
      "execution_count": 38,
      "metadata": {},
      "outputs": [
        {
          "data": {
            "text/plain": [
              "'Sticks & Stones is Dave Chappelle’s fifth Netflix special.\\nIn the promotional trailer Morgan Freeman narrates as Chappelle swaggers across a salt flat in leather pants, aviator shades and a remarkably long t-shirt. [Morgan Freeman] This is Dave. He tells jokes for a living. Hopefully he makes people laugh, but these days it’s a high stakes game. Hmm, how did we get here, I wonder? I don’t mean that metaphorically, I’m really asking: how did Dave get here? I mean, what the fuck is this? But what do I know? I’m just Morgan Freeman. Anyway, I guess what I’m trying to say is\\xa0if you say anything… you risk everything. But if that’s the way it’s gotta be—okay, fine, fuck it!  Ahahah, he’s back folks! Sticks & Stones streamed August 26, 2019 on Netflix. “TELL ME SOMETHING’ YOU MOTHAFUCKAS\\nCAN’T TELL ME NOTHIN’ I’D RATHER DIE THAN\\nTO LISTEN TO YOU…” —KENDRICK LAMAR,\\nPULITZER PRIZE WINNER “I KNOW REAL N*GGAS\\nHAPPEN TO LOVE IT” —SHAWN CARTER\\n(BILLIONAIRE) ♪ I was dreaming When I wrote this ♪\\n♪ Forgive me if it goes astray ♪\\n♪ But when I woke up this morning ♪\\n♪ Could’ve sworn it was Judgment Day ♪\\n♪ Sky was all purple ♪\\n♪There were people running everywhere ♪ And this is the bar of the whole song. Prince say… ♪ Trying to run from my destruction ♪\\n♪ You know I didn’t even care ♪ Good people of Atlanta, we must never forget… that Anthony Bourdain… Yeah! …killed himself. Anthony Bourdain had the greatest job that show business ever produced. This n i g g a flew around the world… …and ate delicious meals with outstanding people. That man with that job hung himself in a luxury suite in France. ♪ They say 2000-zero-zero ♪\\n♪ Party over, oops, out of time ♪\\n♪ So, tonight I’m gonna party ♪\\n♪ Like it’s 1999 ♪ I knew a n i g g a in high school that was an urban genius. This motherfucker’s grades was so good, he got all the way from the hood to an Ivy League school with a full scholarship. From there, the motherfucker got himself into one of the best law schools in the country. And when he was in law school, he met a woman and they fell in love. And they were gonna get married. I remember him telling me about it. He was home for Christmas, and I told him, I said, “My man, my man… save that bitch for late in your life.” But he’s in love. He didn’t listen to me. He married her while he was in law school, and sadly, they got divorced, while he was in law school. He was a street n i g g a from the hood. This man had nothing… and that bitch took half of that. And then, I just never saw him again for years, and then, two years ago, I was home in DC doing some shoppin’, tryin’ to buy my sons some socks at Foot Locker. I go to Foot Locker. Guess who’s the manager? That n i g g a. Dressed like a referee, the whole shit. This motherfucker is 45 years old! We went out drinking that night just tryin’ to catch up, and… and he told me. He said he’s been living with his mother for, like, ten years, just trying to get back on his feet. But that’s not the point of the story. The point of the story is… never occurred to this n i g g a to kill himself. He’s alive and well in D.C. I even suggested to him that he should try it out. Like, “I don’t know, maybe…” Nobody’s life is perfect. No matter what it looks like from the outside, you don’t know what the fuck’s going on inside. I have a great life, but it’s not a perfect life, but it’s good. It’s… My shit’s like an above ground pool. You ever seen one of them? It’s a pool. So, in that spirit, tonight I thought I’d start my show a little differently. Tonight I’m gonna do something that I’m not particularly good at but that I like to do. Tonight I’m gonna try some impressions out. I only got two. Aight, the first impression’s kind of dumb, but I like it. This… This is my impression, you ready? This is my impression… of the Founding Fathers of America… when the Constitution was being written. You ready? Here it goes. Hurry up and finish that Constitution, n i g g e r. I’m trying to get some sleep. It’s not bad, right? All right, the next one… The next one’s a little harder. I want to see if you can guess who it is I’m doing an impression of. All right? Let me get into character. You gotta guess who it is, though. Okay, here it goes. Uh, duh. Hey! Durr! If you do anything wrong in your life, duh, and I find out about it, I’m gonna try to take everything away from you, and I don’t care when I find out. Could be today, tomorrow, 15, 20 years from now. If I find out, you’re fucking-duh-finished. – Trump. – Who… Who’s that? – Trump – Trump. That’s YOU! That’s what the audience sounds like to me. That’s why I don’t be coming out doing comedy all the time, ’cause y’all n i g g a s is the worst motherfuckers I’ve ever tried to entertain in my FUCKING life. Ugh. I’m goddamn sick of it. This is the worst time ever to be a celebrity. You’re gonna be finished. Everyone’s doomed. Michael Jackson has been dead for ten years and this n i g g a has two new cases. And if you haven’t watched that documentary… uh, then I’m begging you, don’t watch it. It’s fucking gross. I felt like HBO was sticking baby dicks in my ears for four hours straight. Really nasty shit. I don’t want to know all these things. Turns out, uh, Michael Jackson allegedly likes a long gander at the anus. They said he stares at people’s buttholes. That’s what they said. That’s how gross the documentary was. I’m gonna say something that I’m not allowed to say. But I gotta be real. Uh… I don’t believe these motherfuckers. I do not believe them. But… let me qualify the statement. I… I am what’s known on the streets as a victim blamer. You know what I mean? If somebody come up to me like, “Dave, Dave, Chris Brown just beat up Rihanna.” I’ll be like, “Well, what did she do?” “Dave, Michael Jackson was molesting children.” “Well, what were those kids wearing at the time?” I don’t think he did it. But you know what? Even if he did do it… You know what I mean? You know what I mean? Eh… I mean, it’s Michael Jackson. I know more than half the people in this room have been molested in their lives. But it wasn’t no goddamn Michael Jackson, was it? This kid got his dick sucked by the King of Pop. All we get is awkward Thanksgivings for the rest of our lives. You know how good it must’ve felt to go to school the next day after that shit? “Hey, Billy, how was the weekend?” “How was my weekend? Michael Jackson sucked my dick! And that was my first sexual experience. If I’m starting here, then sky’s the limit!” I know it seems harsh, but, man, somebody’s gotta teach these kids. There’s no such thing as a free trip to Hawaii. He’s gonna want to look at your butthole or something. You know why I don’t believe it? You know why I don’t believe it? Because if Michael Jackson’s out here doing all this molesting, then– then why not Macaulay Culkin? Hmm? Macaulay Culkin stated in an interview that Michael Jackson never did anything inappropriate with him or even around him. Think about that shit. You know… I’m not a pedophile. But if I was… Macaulay Culkin’s the first kid I’m fucking, I’ll tell you that right now. I’d be a goddamn hero. “Hey, that guy over there fucked the kid from Home Alone. And you know how hard he is to catch.” ♪ My mind’s telling me, “No” ♪ – Oh! R. Kelly! Well, okay. R. Kelly is different. I mean, you know, if I’m a bettin’ man, I’m gonna put my money on “He probably did that shit.” I’m pretty sure he did that shit. You know, it was bad, okay, so a couple years ago, I was doing a show in Detroit. And I’m sitting backstage in my dressing room and a friend of mine comes by, this chick, Dream Hampton. Dream, uh, tells me, right before I’m going on stage, she goes, “Dave, I’m working on a documentary about R. Kelly. “Would you like to be in it?” And I was like, “Nah, bitch, I’m cool.” I went onstage, I just forgot about the shit, and then two years later, the documentary comes out, Surviving R. Kelly. And when it comes out, Dream’s promotin’ shit and she keeps bringing me up. She said, “I asked Dave Chappelle to be in my documentary, and he said it was too hot for TV.” Bitch, I did not say that. That does not even sound like how I talk. “Oh, that’s too hot for TV.” I would never say that shit. But I’m gonna tell you guys why I wasn’t in the documentary. It’s a very simple reason, and, uh, I cannot stress this point enough. The only reason that I didn’t do it was because, and this is very important… I don’t know this n i g g a at all! I don’t know anything! I don’t know anything that they don’t tell me about. I don’t hang out with this n i g g a. Nothing. So what the fuck do I got to be in the documentary for? This guy, R. Kelly, got another sex tape out now. Can you believe that shit? This guy makes more sex tapes than he does music. He’s like the DJ Khaled of sex tapes. “Another one.” Like, damn, n i g g a! That’s a lot of tapes. The new one’s so bad that they didn’t even show it. I’ve never seen anything like this. The prosecutor in Chicago came out in a press conference and read to the media a transcript of a sex tape. Have you ever heard of such a thing? This n i g g a read the sex tape. And it was so bad that R. Kelly sounded guilty in the transcripts. It’s fucking amazing. Sixteen times the girl’s age was mentioned. Isn’t that crazy? This motherfucker is an idiot. He was fuckin’ her like, “Yeah, this is the best 14-year-old pussy I’ve ever had in my life.” She was like, “You like this 14-year-old pussy?” Like, “Oh, yeah, I love this.” I’m like, “Man, you need to shut the fuck up.” You gotta give your lawyer something to work with. You supposed to be on the tape like, “This is the best… 36-year-old pussy I’ve ever had in my life.” Then your lawyer can be like, “Your Honor, clearly my client thought that this woman was 36, as he mentioned some 16 times in the tape.” They gonna know you lying, though, you know what I mean. Everybody knows… no such thing as good 36-year-old pussy. Doesn’t matter what I say. And if you at home watching this shit on Netflix, remember, bitch, you clicked on my face. Celebrity hunting season. Doesn’t matter what I say, they’re going to get everybody eventually. Like, look, I don’t think I did anything wrong, but… but we’ll see. They even got poor Kevin Hart. Can you imagine such a thing? Kevin Hart, let me tell you something. It was… It was Kevin Hart’s dream to host the Oscars. That’s what he told me. And I remember when he told me, ’cause I was thinking to myself, “Well, that’s an awfully strange dream for an African American.” What kind of n i g g a dreams of hosting the Oscars? Kevin did, that’s who. And he did it. Against all the odds, Kevin became the most famous comedian this world has ever seen, and he got the job that only one black man before him had had. He was gonna host the 80th Oscars. And I don’t know what you know about Kevin, but I know Kevin Hart is damn near perfect. As close to perfect as anybody I’ve ever seen. In fact, Kevin is precisely four tweets shy of being perfect. Ten years ago, Kevin had made some very homophobic comments. And I’m not gonna repeat what he said… because this is Atlanta. You know what I mean. I’m sure there’s a lot of gay men here tonight… with their wives. Far be it from me to offend anybody. All right, I’ll tell you what he said. But just remember, these are not my words. These were Kevin’s words. And it was a long time ago. And I’m paraphrasing, ’cause I’m not good at telling other people’s jokes. Okay, Kevin said… that if his little son was demonstrating or-or-or exhibiting, uh, homosexual behavior around the house, that he’d chastise him. He’d say, “Hey, that’s gay.” And then he said he would smash a dollhouse over that child’s head. Ooh, the gay community was furious. And I don’t blame ’em. I got a lot of gay friends. And all of them, 100% of them, all have told me fuckin’ horror stories about the shit they had to go through just to be themselves. Crazy, crazy stories. And in all those stories, I gotta say, not one of them has ever mentioned anything like… their father smashing a fucking dollhouse over their head. ‘Cause, clearly, Kevin was joking. Think about it. You would have to buy this n i g g a a dollhouse to break it over his head in the first place. Does that sound right? Is anybody gonna do that? The gay community was upset, and then they put so much pressure on the Academy of Motion Pictures and Sciences that they went to Kevin and said, “If you don’t apologize to that community, then you cannot host these Oscars.” And then Kevin said, “Fuck it, I quit.” And then he went on every talk show in America and apologized for six weeks. Kevin fucked up. I understand the mistake he made because I’ve made the same mistake early in my career. This is many years ago, 15 years ago. It was when I was doing Chappelle’s Show. There’s a– Thank you. Thank you. On network television, they have a department that’s called Standards and Practices. This is the department that tells you what you can and cannot say on television. And if you’re doing your job well, you should never hear from ’em. But if you’re making Chappelle’s Show, you’ll hear from these motherfuckers all the time. And remember, this was 15 years ago. I made a mistake. I didn’t even know I’d done anything wrong. I had written a sketch… that had the word… “f a g g o t” in it. So I had to go to Standards and Practices. They call me up. I don’t know why they’re calling me, but I like the lady that runs the department. She’s usually really fair and was one of my favorite people I’ve ever worked with. So she sits me down. We have a nice conversation. She tells me, “Oh, the sketches are great.” I go, “Oh, fantastic. Well, then… well, then, why am I here?” She said, “Because, David, there’s no way… that you can ever say the word… “f a g g o t” on our network. I didn’t know I did anything wrong. I didn’t try to defend myself. I said, “All right. Fuck it, I’ll take it out. Have a good afternoon.” And as I was leaving, it occurred to me. “Hey. Hey, Renée, quick question. It’s just a question. Seriously, I wanna know. Like, wh-why is it… why is it that… that I can say the word “n i g g e r” with impunity… …but I can’t say the word “f a g g o t”?” And she said, “Because, David, you are not gay.” I said, “Well, Renée… I’m not a n i g g e r either.” But, you see, what I didn’t realize at the time and what Kevin had to learn the hard way is we were breaking an unwritten and unspoken rule of show business. And if I say it, you’ll know that I’m telling you the truth. The rule is that no matter what you do in your artistic expression, you are never, ever, allowed to upset… the alphabet people. You know who I mean. Those people that took 20% of the alphabet for themselves. I’d say the letters, but I don’t want to conjure their anger. Ah, it’s too late now. I’m talking about them L’s and them B’s and them G’s and the T’s. People would be surprised. I have friends of all kinds of letters. Everybody loves me and I love everybody. I got friends who are L’s. I got friends who are B’s. And I got friends who are G’s. But the T’s hate my fuckin’ guts. And I don’t blame ’em. It’s not their fault. It’s mine. I can’t stop telling jokes about these n i g g a s. I don’t want to write these jokes, but I just can’t stop! You know, you hear all those letters together all the time. “LBGT, LBGT,” and you think it’s just one big movement. It’s not. All those letters are their own movement. They just travel in the same car together. And… my guess is… Oh! What is this, high school? This n i g g a probably got a babysitter or something. Go and answer your phone, n i g g a. Get that shit out of here. I’m… I’m in the middle of something important. Wouldn’t it be funny if we made fun of him and he’s like, “Ha, ha,” and he went outside like, “Hello?” “Mama’s dead.” “Oh, no!” “Mama’s dead.” That was a weird-timed phone call, wasn’t it? It’s like his phone is gay. Like I was saying… my guess is… the G’s are driving that car. That makes sense to me. ‘Cause there’s white men in the G’s. And these people are trying to get around, uh, discrimination and oppression, and you know how white dudes are. “We know these roads. In fact, we built these roads. “The rest of you, buckle up. We’ll get you to where you want to go.” So the G’s are just driving the car. Of course, next to the G’s in the passenger seat… is the L’s. Everybody likes the L’s, except for the G’s. I don’t know what that’s about. I just know the G’s don’t like them that much. The G’s always say, like, little subliminal digs on ’em. It’s unnecessary shit. It’s not mean, but you know what I mean? They just be like… “I wouldn’t wear that.” And the only thing that breaks the tension between the L’s and the G’s are the B’s in the backseat. That’s right. There you go. Everybody scream out when you hear your letter. If there’s one thing that the L’s and the G’s agree on, is it’s that the B’s are fuckin’ gross. They seem greedy to the L’s and the G’s. You know what I mean? ‘Cause they’re just sittin’ in the back seat like, “Yeah, man, I’ll fuck anybody in this car. What’s going on, man?” And sitting next to the B’s, all the way in the backseat by themselves looking out the window… that’s the T’s. Everybody in the car respects the T’s, but everyone also… resents the T’s. It’s not the T’s’ fault, but everyone in the car just feels like the T’s are making the trip take longer. Anything the T’s say gets on everybody’s nerves. And then, the T’s don’t even say anything bad. They just be in the back talking to themselves. “Hm… “I’m hot.” “Shut up. Shut the fuck up, okay? You should roll the window down, you… Bitch, I don’t know what you…” “What? I just said I was hot. Can you pull over at the next exit? I need to use the restroom.” “There is not a restroom for you for four states, n i g g a! Will you just shut the fuck up so we can get where we’re going?” And just when that car can’t get any more tense, the Q’s are a hitchhiker that they pick up on the road. Some white dude in booty shorts just walking in the freeway. The G’s see him. “Hm, that guy might be one of us. Hey, are you okay? You need some help?” And he come over there with them booty shorts, leaning on the window. “Hey, what’s going on, fellas?” Lady. Whatever pronoun makes you feel comfortable in the back. Yeah. I don’t really know where I’m going. I don’t know if I’m gay or I’m straight or whatever. All I know for sure is that, um… I really want to get in this car.” And they make him get in and sit between the B’s and the T’s. I feel bad for T’s. But they’re so confusing. And it’s not all my fault. I-I feel like they need to take some responsibility for my jokes. ‘Cause I didn’t come up with this idea on my own, this idea that a person can be born in the wrong body. But they have to admit that’s a fucking hilarious predicament. It’s really fucking funny. If it happened to me, you’d laugh. Wouldn’t you? That wouldn’t be funny if it happened to me? I think it would be. What if… What if it did? What if… What if I was… What if I was Chinese? But… But born in this n i g g a body. That’s not funny? And for the rest of my life, I had to go around making that face. “Hey, everybody, I’m Chinese!” And everyone gets mad. “Stop making that face. That’s offensive.” -“What?” “This is how I feel inside.” \\xa0 It’s hard not to write these jokes. It’s hard not to think about it. Even when I watch sports, I’d be thinking about it. Like, think about it. Okay, say… say LeBron James, uh, changed his gender. You know what I mean? Okay. Can he stay in the NBA, or, because he’s a woman, does he have to go to the WNBA where he will score 840 points a game? What does it actually mean to be equal? You know what I mean? Like, if women are actually equal to men, then there would be no WNBA, would there? You would just be good enough to play in the NBA with us. Or, here’s another idea that’s going to be very controversial, you could… shut the fuck up. I’m sorry, ladies. I just… I got a fucking Me Too headache. Y’all is killing me right now. It’s really fuckin’ tough to watch what’s going on. You know, ladies, I said it in my last special, and I got in a lot of trouble for this. I told you, you were right. But the way you’re going about it is not going to work. But I’m biased. I said it. Louis C.K. was a very good friend of mine before he died in that terrible masturbation accident. And it was his room. You read the story. He was masturbating in his own room. That’s where you supposed to masturbate. Then he said, “Hey, everybody, I’m gonna pull my dick out.” Nobody ran for the door or nothing like that. They all just kind of hung out, like, “I wonder if this guy is serious.” And he came on his own stomach. There it is. What is the threat? Have any women ever seen a guy that just came on his own stomach? This is the least threatening motherfucker the Earth has ever seen. All you see is shame in their face and… cum dripping down like pancake butter. He didn’t do anything that you can call the police for. I dare you to try. Call the police on him. “Hello? Police, yes. I am… I am on the other line with comedian Louis C.K., and I think that he is masturbating while I’m on the phone.” You know what the police are gonna say in Atlanta? “Well, what are you guys talking about? Mm-hm. Mm-hmm.” They ruined this n i g g a’s life, and now he’s coming back playing comedy clubs, and they acting like if he’s able to do that, that’s gonna hurt women. What the fuck is your agenda, ladies? Is– Is sexism dead? No, in fact, the opposite happened. I said it was gonna get worse, and they said I was tone deaf. But eight states, including your state, have passed the most stringent anti-abortion laws this nation has seen since Roe v. Wade. I… I told you. I told you. I’ll be real with you, and I know nobody gives a fuck what I think anyway. -Uh… I’m not for abortion. -Oh, shut up, n i g g a. I’m not for it, but I’m not against it either. It all depends… on who I get pregnant. I don’t care– I’ll tell you right now. I don’t care what your religious beliefs are or anything. If you have a dick, you need to shut the fuck up on this one. Seriously. This is theirs. The right to choose is their unequivocal right. Not only do I believe they have the right to choose, I believe that they shouldn’t have to consult anybody, -except for a physician… …about how they exercise that right. Gentleman, that is fair. And ladies, to be fair to us, I also believe if you decide to have the baby, a man should not have to pay. That’s fair. If you can kill this motherfucker, I can at least abandon ’em. It’s my money, my choice. And if I’m wrong, then perhaps we’re wrong. So, figure that shit out for yourselves. I mean, really, uh, what the fuck are we doing? I can’t live in this new world you’re proposing. And meanwhile, while we’re worrying about this other shit, look at what’s happening. They just killed another 12 people in a mass shooting in Virginia Beach. This shit’s happening every week. It happens so much, I’m almost– I don’t care anymore. I came home early from the road. I had a $12,000 suit on, ’cause life’s been going good. And I got home early, and dinner was cookin’. You ever come home when dinner’s cookin’? Doesn’t that smell good? And my son saw me, and he was like, “Dad’s home.” And he got up from the table and ran over to give me a hug, but he had chicken grease all over his face, so I stiffed on him, like, “Yo, yo, yo, yo, yo, my man, my man. Watch these threads, son. This is an expensive suit. I don’t want you to get that chicken grease all over me.” A-And he was like, “What the f… Chicken grease? Dad, this is duck.” Hmm. A tear came out of my eyes. I never dreamt I’d do so well in life that I’d raise a n i g g a with duck grease all over his face. And we sat down, we just talked about everything. I was telling my wife about how my shows were going, and I told her my trans jokes, and she was like, “Oh, I hate that joke.” And you know why she hates the joke? ‘Cause she’s Asian. But you know what I mean? I don’t make that face at the house, u-unless we’re really fightin’. And me and her, we weren’t arguing, but you know what I mean? She’s like, “You need to stop doing that.” And then, I tried to change the subject. “Oh, how is school going, boys?” And my son’s telling me, “Well, we didn’t have school today, technically.” I’m like, “What… What’s going on?” He said, “Well there was, like, a school shooting drill.” I never heard of this. You know what this is? They have drills that they make kids do, uh, where they practice what to do if somebody comes to shoot up their school. I’d never heard of that before. I was like, “What the fuck?” I had to tell my sons the truth. I didn’t want to tell them this shit. “Son… Son, listen to me. Fuck that drill. If somebody comes to your school and wants to shoot it up, I’m just gonna be honest with you. You probably gonna get shot, n i g g a. I’m just being real. You got a famous dad. I talk a lot of shit. They gonna be gunning for you, little buddy. Just stay low and run in a zigzag pattern, and don’t try to save anybody, son. Do you understand me?” Why would you have kids rehearse for some shit they have no control over? All you’re doing is training these kids to worry. It’s the stupidest drill I’ve ever heard of. And while you’re in there training ’em during these drills, well, aren’t you training the shooter, too? This n i g g a’s in here listening and learning like the other kids. Sittin’ in the back… “So, where are we supposed to meet? Okay.” All right. If you’re a parent, this shit is terrifying. This shit is real scary. All the parents is looking at each other crazy, because we know, as parents, that one of us is raising the shooter. We just don’t know which one of us it is. All we know for sure… is that if you’re a white parent, the chances that it’s you… …it’s exponentially higher than the rest of us. Shooting up school is a white kids’ game. It’s fuckin’ crazy. You know, I hated school, too. It never occurred to me… kill everybody in school? It’s fuckin’ crazy. Just do what I did, n i g g a. Try some things. “Have you skipped school, n i g g a? Skip school! Take a walk and meet some other kids. Fuck school, n i g g a. Try drugs. Have you tried drugs out? N i g g a, that might…” Some scary shit. I’ve given this a lot of thought. I don’t see any peaceful way to disarm America’s whites. There’s only one thing that’s going to save this country from itself. Same thing that always saves this country from itself, and that is African Americans. Right. And I know the question that a lot of y’all have in your minds is, “Should we do it?” Yeah. Fuck yeah, we should do it. Listen, no matter what they say or how they make you feel, remember, this is your country, too. -It is incumbent upon us… to save our country. And you know what we have to do. This is a fuckin’ election year. We gotta be serious. Every able-bodied African American must register for a legal firearm. That’s the only way they’ll change the law. I hate guns, personally. I can’t stand ’em. Yeah, but I have several. I don’t want ’em, but I feel like I need ’em. Don’t forget where I live. I live in Ohio. And anyone that knows anything about Ohio knows that even the word “Ohio” is an old Native American word. It means, literally, uh, “land of poor white people.” And I don’t know what’s going on down here, but in my experience, uh, poor white people love, and, I mean, they fucking love… heroin. They can’t seem to get enough of it. I didn’t know what I was looking at at first. I was driving, like, “Why are all these white people so sleepy out here?” It’s really bad. Matter of fact, I was coming out of the nightclub the other night in Dayton, and I had parked my car in the alley, and no one was out. I didn’t have no bodyguards or nothing. I was home. I figured everything was fine. And as soon as I open my car door, all by myself, suddenly, uh, one of these heroin-addicted whites just pops out of a trash can. It scared the shit out of me. I screamed. “Aah!” And then, I realized it was a woman. She was fucked up. She was like… “Hey, man. Hey, man. Relax, okay? I’m sick, all right? I need some drugs, man. Please? I’ll suck your dick for five dollars, man.” I was like, “Ick… Two.” Obviously, I’m joking. This opioid crisis is a crisis. I see it everyday. It’s as bad as they say. It’s ruining lives, it’s… destroying families. Sadly, you know what it reminds me of? Seeing it? Reminds me of us. These white folks look exactly like us during the crack epidemic. You know, it’s really crazy to see. And all this shit they talk about on the news about how divided the nation is, I don’t believe it. I feel like, nowadays, we’re gettin’ a real good look at each other. It’s wild, because I even have insight into how the white community must’ve felt watching the black community go through the scourge of crack… because I don’t care either. “Hang in there, Whites. Just say no. What’s so hard about that?” Remember when y’all said that to us? But it’s okay. There’s no grudges. Now you finally got it right. Once it started happening to your kids, you realize it’s a health crisis. These people are sick. They are not criminals. They are sick. Be that as it may, I’m armed to the teeth. First gun I bought was a 12-gauge shotgun. I didn’t want the gun. Remember, though, I’d moved to a farm and I was sittin’ on the porch, and I see a white dude walking across my property, entitled, like he’s supposed to be there. He had a rifle over his shoulder, too. Ain’t that a bitch? I said, “What the fuck is this guy doing on my property?” I was mad as shit, but I was unarmed. So, I ended up just waving to this motherfucker like a bitch. I was just, like… And as soon as he got far enough away, I ran to my car and sped to Kmart. This is in a rural white area. And remember, I was nervous, ’cause the guy was on my property, I’m black, and I was sweating. You know what I mean? And I ran to the gun counter. Black and sweaty, sweating and black, and I looked up and I was like… I looked like a slave or something. I said, “I need a gun. Immediately.” Like that. Just like that. The guy didn’t ask no questions, he just… grabbed a 12-gauge shotgun, handed it to me. I’d never even held a gun before. I’m like… “Well, I need… I need some bullets, too.” And the guy reached under the counter, put two boxes of shells on the counter. He said, “All right, buddy. Which box do you want?” I didn’t know. One box had a picture of some ducks on it. The other box had a picture of some deer. I said, “Well, what’s that box with them ducks?” He said, “Oh, that there’s bird shot.” And then he goes just like this, I’m not exaggerating, he goes, “That won’t kill a man.” He said, “It’ll just pepper him up nicely.” I said, “What the fuck? Pepper?” You know what it means to pepper a motherfucker up? It means that when the shell explodes, hot BBs will shoot out of the barrel of the gun, not killing a motherfucker, but penetrating their skin and shallow flesh. Boy, that’s gotta hurt. Hot BBs? “Aah! Aaaah!” Remember when Dick Cheney shot a motherfucker in the face and he lived? That was bird shot. I said, “Well, what’s that box with the deer on it?” He goes, “Oh, that there is buckshot. That’ll put a hole in a goddamn truck if you wanted to. So, which box do you want?” And he picked the one with the deer up and shook it. I thought he was trying to trick me. I was like, “Do you have a box, uh, with a picture of a white dude trespassing on it? ‘Cause… ….that’s exactly the strength I’m looking for. But I didn’t know that if you’re defending your home with a shotgun, the formula dictates that you’re supposed to buy both boxes. This was not a formula that I was familiar with. It goes like this: there’s six shots in a 12-gauge shotgun. So when you load the gun, you load it like this. First shot, bird shot. Next shot, buckshot. Bird shot, and then after that, gun’s Jamaican. Buckshot, buckshot, buckshot. But you gotta picture it. Okay, like, say I’m in bed and I’m sleepin’, and suddenly, my wife wakes me up. “David. David, wake up!” And I’m like, “Uh, oh. Look who’s come around.” And I pull my dick over the top of my pajamas. And she’s says, “No, I hear somethin’.” I go, “Oh, this bitch.” So I get up out of bed… Uh, grab the gun. I say, “Wait here, baby. I’ll go check it out. Just lock the door behind me.” Oh, my God, she’s right. Right there in the kitchen is a heroin-addicted white and… he’s digging through the change jar by the door. “I work really hard for that change. I gotta do something.” So, first, I rack the shotgun. “Hey, motherfucker!” Click-clack. That’s a test. That click-clack sound will stop a rational human being in their tracks. But, sure enough, this person is not rational. They’re sick on drugs. They’re digging in the change. I gotta act fast. This n i g g a’s almost got $1.50. “I warned you.” Bird shot! And there it goes. Hot BB’s will permeate his yellow heroin skin. Remember, I’m not killing him, I’m just “peppering him up nice.” He lets out a heroin scream. No! And that should be the end of it. But… Uh-oh. I miscalculated. While he’s on the ground screaming, I notice that his teeth are horribly miscolored. That’s not heroin at all, is it? That’s crystal meth. He pops right back up, unscathed. Time for the heavy stuff. Clack-clack. Buckshot! And then, if he got a friend with him, I got one more bird shot left. And I repeat the cycle. After that n i g g a, it’s slugs for everybody. And I’ll be in a kitchen full of dying heroin addicts, saying stupid heroin last words. “You shot me, bro.” “Oh, it hurts, man. It hurts. Ah.” Their last words are always the dumbest words, like… “Why is your dick out?” I’m just afraid of being attacked. It happens to the best of us. Don’t ever forget what happened to that French actor. You know who I’m talking about. Jussie Smollett, he’s a very French… A very famous French actor. Y’all never heard of Jussie Smollett? Jussie Smollett is an actor from France. A-And he became famous on a show called Empire. And one night, he was in Chicago late at night, and was the victim… He was the victim of a racist and homophobic attack. You see, Jussie Smollett is… gay, and he is black, not just French. Oh, it was a crazy story. Apparently, when he’s walking down the street late at night, two white men came out of the shadows, uh… with MAGA hats on and beat him up. Tied a rope around his neck, called him all kinds of n i g g a s and… and… put some bleach on him and ran off into the night. This shit was, like, international news. And everybody was furious, especially in Hollywood. It’s all over everybody’s Twitter feed and Instagram page. “Justice for Jussie” and all this shit. The whole country was up in arms. We was talking about it all the time on the news, and… and, for some reason, uh, African Americans, we were like oddly quiet. We were so quiet about this shit that the gay community started accusing the African American community of being homophobic for not supporting him. But what they didn’t understand is that we were supporting him with our silence. Because we understood that this n i g g a was clearly lying. None of these details added up at all. He said he’s walking down the street in Chicago and-and, uh, white dudes come up to him and say, “Hey, man, aren’t you that f a g g o t n i g g e r from Empire?” What the fuck? Does that sound like how white people talk? I know white people. They don’t talk like that. “Are you that f a g g o t n i g g e r from Empire?” They would never say that. It sounds like something… that I would say. If you’re racist and homophobic, you don’t even know who this n i g g a is. You can’t watch Empire. Black people never feel sorry for the police, but this time, we even felt sorry for the police. Can you imagine if you was a police veteran taking this kid’s police report? “Okay, Mr. Smollett. Please, tell me what happened.” “All right, you… 2:00 a.m. You left the house at 2:00 a.m. It was minus 16 degrees and… -All right. You were walking? You were walking. All right. And… and where were you going? Subway? Sandwiches? That’s when the men approached you? Did you see them? Do you have any– Okay, what did they have on? MAGA hats? MAGA hats on in Chicago? Excuse me, one second, Mr. Smollett. Frank, come here for a second. Find out where Kanye West was last night.” Such a fucking outrageous story. He said they put a rope around his neck. Has anyone here ever been to Chicago? Yes! All right. All right, so you’ve been there. Now, tell me, how much rope do you remember seeing? Who the fuck is carrying rope? Like, when did you get mugged, n i g g a, in 1850? -Who’s got rope? – Who’s got rope? Man, that shit was awful. So, okay. I’m doing a show somewhere, and I’m on stage, and I was a little drunk, you know. I figured, “Fuck, let me talk about that n i g g a a little bit.” I figured it’d be safe, ’cause, you know, everybody’s phones are locked up… And I went in on this kid. I was talking all kinds of shit. Now, I didn’t know that there was a journalist in the audience. And unfortunately for me, that motherfucker… took impeccable notes. He told everybody everything I said. He was even puttin’ the jokes in the headline. The headline said, “Dave Chappelle Says He Wants To Smash A Dollhouse Over Jussie Smollett’s Head.” I thought for sure when I read that headline, I said, “Well, that’s it for me. I’m canceled.” But lucky for me, that very same day, the Chicago police caught the motherfuckers that actually did it, and, hilariously, they were both, uh, Nigerian. Not only were they not white, they were very, very black. They were Nigerian, which is the funniest shit. The whole story is funnier now. “This is MAGA country, you f a g g o t n i g g e r.” “You f a g g o t n i g g e r.” If… If you’re in a group that I made fun of, then just know that I probably will only make fun of you if I see myself in you. I make fun of poor white people because I was once poor. And I know that the only difference between a poor black person and a poor white person is that a poor white person feels like it’s not supposed to be happening to them. Yeah! Everything else is the same. I know what it’s like to have a cold house. I wasn’t allowed to touch the thermostat growing up without asking my father, and it would be fuckin’ freezing in the house. I’d be like, “Dad, please. Can I please just turn the heat up to, like, I don’t know, 32, n i g g a? It’s really cold.” And my dad would say, “Just put more clothes on, David.” “I got all three of my outfits on, n i g g a. Will you look at me? I’m freezing up here.” And he said, “Just don’t think about how cold you are, David.” And I said this. I didn’t say it to him, but I said it in front of him so he could hear. I said, “I fuckin’ hate being poor.” And my dad got really upset. He didn’t scream or howl. That wasn’t his way. He just threw his newspaper on the floor, and he said, “David, David, David. You are not poor.” He said, “Poor is a mentality.” He said, “It’s a mentality that very few people ever recover from. Don’t you forget it, son. You are broke.” He said, “These are just financial circumstances that I hope to overcome one day very soon.” And I said, “Well, Dad, whatever you want to call this, uh, it’s wildly uncomfortable.” There was a big dance coming up in the middle school. I was 12 years old. I said, “Dad, can I go to the dance?” He said, “Of course you can go. I want you to get out and meet some more kids.” I said, “Great. Uh, it costs three dollars to get in.” And my dad said, “Ooh… Sorry, son, uh… I don’t have it.” I was like, “What the fuck? You don’t have three dollars? Well, then, how are we alive, Dad? Wish I found some way out of this hell! I’d do anything to not be poor. I will show Michael Jackson my anus if I get a chance. I just gotta get out of this hell.” Dad said, “If you want to go to the dance bad enough, I’ll tell you what. There’s some money in the change jar, get the money from there.” I was 12 years old. That’s what I did. I showed up to the dance early. There’s a long line of kids waiting behind me while I’m at the door, trying to count out 300 pennies to get inside. I will never forget this shit as long as I fuckin’ live. Oh, man, you know. If you’ve been poor, you know what that feels like. You ashamed all the time. Feels like it’s your fault. And all them kids was laughing, “Ha, ha, ha, look how poor Dave Chappelle is.” Oh. Like, when I think back at it, that was really the only time in my life that I ever thought to myself, “I should kill everybody at school.” Thank you very much, everybody, and good night. ♪ Got loyalty, got royalty Inside my DNA ♪\\n♪ Got loyalty, got royalty Inside my DNA ♪\\n♪ I got loyalty, got royalty Inside my DNA ♪\\n♪ I got… This is my heritage, all I’m inheritin’ ♪\\n♪ Money and power The makin’ of marriages ♪\\n♪ Tell me somethin’ ♪\\n♪ You motherfuckers Can’t tell me nothin’ ♪\\n♪ I’d rather die than to listen to you ♪\\n♪ My DNA not for imitation ♪\\n♪ Your DNA an abomination This how it is when you’re in the Matrix ♪\\n♪ Dodgin’ bullets, reapin’ what you sow ♪\\n♪ Stackin’ up the footage Livin’ on the go, sleepin’ in a villa ♪\\n♪ Sippin’ from a Grammy Walkin’ in the buildin’ ♪\\n♪ Diamond in the ceilin’ Marble floors ♪\\n♪ Beach inside the window Peekin’ out the window ♪\\n♪ Baby in the pool, Godfather goals Only Lord knows ♪\\n♪ I’ve been goin’ hammer Dodgin’ paparazzi ♪\\n♪ Freakin’ through the cameras ♪\\n♪ Eat at Four Daughters Brock wearin’ sandals ♪\\n♪ Yoga on a Monday Stretchin’ to Nirvana ♪\\n♪ Watchin’ all the snakes Curvin’ all the fakes ♪\\n♪ Phone never on, I don’t conversate I don’t compromise, I just penetrate ♪\\n♪ Sex, money, murder, these are the breaks These are the times, level number nine ♪\\n♪ Look up in the sky, ten is on the way Sentence on the way, killings on the way ♪\\n♪ Motherfucker, I got winners on the way ♪\\n♪ You ain’t shit Without a body on your belt ♪\\n♪ You ain’t shit Without a ticket on your plate ♪\\n♪ You ain’t sick enough To pull it on yourself ♪\\n♪ You ain’t rich enough To hit the lot and skate ♪\\n♪ Tell me when destruction Gonna be my fate ♪\\n♪ Gonna be your fate Gonna be our faith ♪\\n♪ Peace to the world, let it rotate ♪\\n♪ Sex, money, murder, our DNA ♪\\n♪ Mommy ♪\\n♪ Why does everybody have a bomb? ♪\\n♪ Mommy ♪\\n♪ Why does everybody have a bomb? ♪ By the way… Vanglorious! This is protected by the red, the black, and the green, at the crossroad, with a key, sissy! thanks dude Your email address will not be published. Required fields are marked * Name* E-mail* Website  \\n\\n Dave Chappelle talks about Kanye West, the 2022 midterm elections and Donald Trump. Dave Chappelle delivers a speech at his prestigious alma mater that reflects on his comedy roots, his rise to fame and why artists “should never behave.” With topics ranging from tight rompers to ugly bras to why every man needs a box spring, Iliza remains the hilarious, affecting voice of her generation. Features Gabriel “Fluffy” Iglesias as he talks about growing up in Los Angeles, an attempt at extortion towards him, and where he holds the record for receiving the highest fine on stage.'"
            ]
          },
          "execution_count": 38,
          "metadata": {},
          "output_type": "execute_result"
        }
      ],
      "source": [
        "data_df.transcript.loc['dave']"
      ]
    },
    {
      "cell_type": "code",
      "execution_count": 39,
      "metadata": {
        "colab": {
          "background_save": true
        },
        "id": "PqaSlICtlhOJ",
        "outputId": "4eccc714-2072-4af0-eee7-1ee02d146b2e"
      },
      "outputs": [
        {
          "data": {
            "text/plain": [
              "'After achieving fame with Saturday Night Live and Beverly Hills Cop, Eddie Murphy released a film version of one of his live stand-up performances. He mainly focuses on the topics of divorce and relations between the sexes, but also goes into some of the problems he’s encountered because of fame, including offended listeners and fans who continually greet him with his unprintable catch phrases. \\xa0 – Show me that little dance you-all be doing.\\n– I told y’all to stop running in here.\\nYes, ma’am. I’m gonna smack one of you now, you hear? Them pants cost $3.98, baby, you hear? See that chocolate cake I bought? The chocolate cake that was on the counter? – Yeah. – Well, check Cousin Cecil’s pockets. He probably got it in there with the turkey leg and the sweet potato pie. Hey, little brother. Show me that little dance y’all be doing. Get down, Lester, you is talking! You move like you’re 21 . That dance ain’t new. lt ain’t nothing but the old shuffle-butt. Well, show me that move. Oh, Lester, sit your drunk ass down. Can’t you see the kids are trying to put a show on there? Lester, she ain’t your mama. – Yeah. Yeah. – Junior! Vanessa. Come on, Vanessa. Come on, baby. Sing a song for Grandma. – That’s my granddaughter. – That’s my niece. Why do fools fall in love? Why do birds sing so gay? And lovers await the break of day. Why do they fall in love? Why does the rain fall from up above? Why do fools fall in love? Why do they fall in love? Mama, I got a joke. Little Eddie got a joke to tell. Go on, Eddie. Eddie. Eddie. I got a joke to tell. Once there was a lion and a monkey. The monkey said, “I can make the weather change.” And the lion said, “No, you can’t.” So the monkey started climbing up the tree. And then he started peeing on the lion’s head. “Now it’s raining!” Then he started farting. “Now there’s thunder!” Then he started doo-dooing. “Now it’s snowing!” So the lion said, “Oh, yeah? Well, I can make the stars come out.” And then he kicked him in the ding-ding. Thank you. I love that doo-doo line. That boy’s got talent. My favorite movie is Trading Places. – 48 Hrs. Has to be.\\n– Trading Places.\\n– Beverly Hills Cop.\\n– Delirious.\\n– Beverly Hills Cop.\\n– No, 48 Hrs.\\n– All of them.\\n– 48 Hrs.\\n– All of them.\\n– 48 Hrs.\\nI even liked Best Defense. I’m looking forward to seeing him in that leather suit.\\n– I’m telling you, that behind and all.\\n– Yeah, he’s looking sexy.\\n– He looks good.\\n– Handsome. Thank you. Sit down. Everybody, sit, sit. Cool out. Thank you, thank you, thank you, thank you, thank you, thank you. And hello, New York City! Thank you for coming out. Don’t let the lights and cameras throw y’all. We filming a movie here tonight and y’all gonna be in this shit. Except only I’m getting paid for the motherfucker. Every now and then I take a joke too far. That’s why I haven’t been on the road the last three years. Did y’all see Delirious? In Delirious, I was making fun out of a lot of entertainers too. That’s when I got scared. I did some jokes about Mr. T. And Mr. T was gonna fuck Ed up. He was… And I was scared, because y’all seen Mr. T. He don’t look like, you know, like he can’t fight. He looks like he can whip some ass, right? And I was petrified. I would walk at parties and people say: “Yo, man, Mr. T was just here looking for you.” He was walking up to people saying: “I’m gonna whip Eddie Murphy’s ass when I see him.” Then I watched his show, because I didn’t know him, to see what kind of guy he was, and the character on the show ain’t too bright. So I figured if he came up to me, I could use the Jedi mind trick on him. Mr. T walk up and go, “I heard you did some jokes about me.” “No, you didn’t.” “Maybe I didn’t.” “I’m gonna go beat up the fool that told me them lies.” I’d be at parties, hear he was looking for me, I would just leave. I don’t wanna fight Mr. T. Then I found out Michael Jackson was looking for me. I was like… When Mike… My manager called me up and said: “Yo, man, Michael Jackson is mad.” I was like, “So?” You know, because I’d fuck Mike up. You know, Mike… Mike don’t weigh but a buck-oh-five, you know. I bust that ass on Mike. I was looking for him, but my manager said: “We don’t know everything about Michael. “He might be this bad motherfucker behind closed doors. “He’s a recluse. Behind closed doors, he might be completely different.” And I’d be at a party and have Michael walk up to me one day and it’d be like this: “Can I talk to you for a minute? “Yeah, what’s your motherfucking problem, man? “Well, how come you keep fucking with me then, huh? “What’s all the motherfucking jokes? You don’t like my clothes? “I’m Michael-motherfucking-Jackson, I will bust your ass. “Get the fuck out, motherfucker… “I will moonwalk all up and down your ass, motherfucker. “You mind your motherfucking business. “I hear some more shit, I’m gonna put this glove up your ass. “I’ll see you later.” That’s a dumb… I could never… I’ve been trying for five months to do the moonwalk and I can’t do the shit. lt’s shitty. lt’s the dumbest dance ever, because I can’t do it, that’s why I say it’s stupid. But how can you do the moonwalk and ask a woman to dance? Be at a party, say, “Hey, baby, come on, let’s dance. See you later.” Do the moonwalk. That’s some stupid shit. Michael can do that shit, though. Michael’s so famous, Michael went on TV and everything he says, the public believes. Went on television and said: “I don’t have sex because of my religious beliefs.” And the public believed it. I know brothers were like, “Get the fuck out of here.” And white people go, “That Michael’s a special kind of guy. “He’s special. I mean, he’s good, clean and wholesome.” You know how I knew y’all believed it? Y’all didn’t get mad when he took Brooke Shields to the Grammys. Nobody white said shit. And Brooke Shields is the whitest woman in America. Miss America every year is Brooke. Fuck who you see with the crown. You look up “white woman” in the dictionary, be a picture of Brooke like this: She’s white. And this n i g g e r took her to the Grammys, nobody said shit. lf I took Brooke Shields to the Grammys, y’all would lose your mind. Because y’all know Brooke would get fucked that night. And Brooke knew too. That’s why we going this year. No… Stop. Now, see? I did jokes about… I did a lot of jokes about homosexuals a couple years ago and faggots were mad. They were like… And they were… There’s nothing like having a nation of fags looking for you. I’d be at parties… There’s always two or three at a party. They’d be standing around looking at you, they’d be looking at… “He’s an asshole.” I can’t travel the country freely no more. I can’t go to San Francisco. They got 24-hour homo watch waiting for me in the airport. Soon as I got off the plane, they’d be like: “He’s here, yes. Yes, it’s him. Yes, it’s him!” And the cars would come rushing across town. It’d be: And it won’t be no siren, it’ll be a real fag sitting on the roof going: “Pull over. Pull over. “Pull over. I’m gonna read him his rights. “You have the right to remain silent. “Anything you say can and will be held against you. “You have the right to an attorney. Turn around. I’m gonna frisk you. “You carrying any concealed weapons? “Are you carrying…? What is this? What is this? “Lay down on the floor and spread them.” Do you watch the Bill Cosby Show? – Yeah! I do too. I love Bill Cosby’s show. I been a big fan of Bill Cosby all my life. Never met the man before, but he called me up about a year ago and chastised me on the phone for being too dirty on-stage. It was real weird, because I had never met him and he just thought it was… He should call me up, because he was Bill, and tell me that he did… About what comedy is all about. And I sat and listened to this man chastise me. And when Bill Cosby chastises you, you forget you grown. You feel like one of the Cosby kids and shit. And I ran in the house all excited to talk to Bill and picked up the telephone and Bill got raw on me. I was like, “Hello, Mr. Cosby?” And you hear: “I would like to talk to you… “…about some of the things that you do in your show. “Now, I’m going to tell you a story.” He always tells you stories. “I would like to tell you a story. I have five children. “One, two, three, four, five. Five… Five children. “I live in Massachusetts with my wife, Camille, and my five children. “Now, of the five children that we have, there are four girls and a boy. “The boy’s name is Ennis. He loves everything you do. “Comes home from school the other day “with a big smile on his face. And my son looks just like me. “He walks through the door, looking at me with this big smile, “and I cannot resist, because it’s such a beautiful smile. “And he walks up and I say, ‘What are you smiling about?’ “And the child says to me: ‘I’m smiling because I need money to go see the Eddie Murphy show. ‘Please give me money for a ticket.’ “Now, if the child is smiling this way because he needs money for a ticket, “I have to give him money for a ticket. “I do not handle the money in the house. “My wife, Camille, handles the ticket money. “So I must go into the kitchen, “to where my wife is cooking dinner for the family. “And she is inside the kitchen cooking. “And she’s got a bowl. “And she’s cooking up the food, man. She’s cooking it up. “And the child walks in the room with the smile “and he says, ‘Mother, please, money.’ “She gives him the money, he runs off to see your show. “Now, we sit in the living room waiting for Ennis to return. “At about 5:00 in the morning, the child comes through the door. “He has a different look on his face. “A look like he heard something at your show that he’s never heard before. “And I say to my child, I say, ‘Child…’ “I say, ‘What did the man say on the stage?’ “And he says, ‘Pop, the man comes out and says these things.’ “I say, ‘Well, what did he say?’ ‘Pop, he comes out and says some stuff.’ “I say, ‘What did he do?’ ‘Pop, he walks out and he goes: “Hello, suck this, and MF and kiss my big black stuff. “And suck it and stick it down in your mouth and suck it, suck it.”‘ “You cannot say filth, flarn, filth, flarn, filth in front of people.” And I say, “I never said no ‘filth, flarn, filth’.” “You know what I’m talking about. “I can’t use the type of language that you use, “but you know what I mean when I say ‘filth, flarn, flarn, flarn, filth’.” I say, “I never said ‘filth, flarn, filth’. “I don’t know what you’re talking about. I’m offended you called. Fuck you.” That’s when Bill got pissed and said: “That’s what I’m talking about. You cannot say ‘fuck’… “…in front of people.” And I got mad. Because he thought that was my whole act. Like I just walked out on-stage and cursed and left. I manage to stick in some jokes between the curses. You couldn’t give no curse show. Walk out, say, “Hey, Felt Forum, “motherfucker, dick, pussy, snot and shit. Good night. “Good night. Suck my dick. Bye-bye.” I was pissed off. I was so mad I called Richard Pryor‘s house up. I said, “Yo, Richard, Bill Cosby just called me up “and told me I was too dirty.” Richard said: “The next time motherfucker call, tell him I said, ‘Suck my dick.’ “I don’t give a fuck. “Whatever the fuck make the people laugh, say that shit.” He said, “Do people laugh when you say what you say?” I said, “Yes.” “Do you get paid?” I said, “Yes.” He said, “Well, tell Bill I said: ‘Have a Coke and a smile and shut the fuck up.’ “The Jell-O pudding-eating motherfucker.” Richard… Richard is the rawest motherfucker in show business. Richard’s the one that made me wanna do comedy. When I was little, I wanted to be Richard Pryor so bad I used to… Remember, you’d sneak in the basement, put his albums on, and your mother ain’t supposed to hear, and you’re listening to this shit and I turned it… I wanted to be Richard so bad, I used to go out on-stage when I was 15 and talk and act and walk and do everything like Richard. My mother would sit there and watch her 15-year-old son on-stage saying some outlandish shit. My whole act back then was about taking a shit, because that’s all I had done at 15. That was my life experience, but it sounded like Pryor jokes. I’d be going, [imitating Richard Pryor]\\nYou ever get like sometimes ye get on that toilet and ye shit, that water splash up on yo’ ass? Don’t that make ye mad, right? You know what really make mad is when the shit is halfway out, then go back up in that mothafocka. Why do shit be teasin’ yo’ ass? Just get the fuck out, right? You know what really make me mad is when yo’ ass don’ cooperate whicha then clinch up and break the shit in half? You be mad like a motherfucker too coz you gotta whip yo’ ass for 5 hours. Use 12 roles o’ toilet paper on that mothafocka. You know what really bother me is when you be strainin’ for a long time and one lil’ pebble shit comes out? Y’ want some shit this big right? Stick yo’ head up your ass and say: That all the shit I’m gonn’ get mothafocka? And it’s afterwards right, when you done with shit, you done all the shittin’ you gonna do for the whole day and you flush that toilet and one chunk come back… WHAT DOES THAT CHUNK WANT? That was my act. My mother sit there shocked. If you don’t speak English, you can’t hear that bit. All you hear is “shit, ass, shit, shit.” I got a lot of foreigners that come over. People from other countries have seen my films and come over to the U.S., because New York is a tourist place, and they get HBO and they catch Delirious and they can’t speak English and try to do my act and all they got is the curses. I got foreigners from all over walking up, going: “Eddie Murphy! Fuck you! “Fuck you, Eddie. “I know you. I see you on television. “You’re the ‘fuck you’ man, right? “I love it. Suck my dick, huh? “Suck it, you black motherfucker. “I love it. The best motherfucker. The ‘fuck you’ man.” Made me stay in the house, man. Almost got married last year. Don’t you “ooh” and “aah”. Got to get married in the ’80s. I read the papers. I said, “Fuck this, I’m getting out.” Hey, you know, read. You can catch some shit. You can’t just keep messing around like you used to. Eventually, your dick will fall off. Remember…? Remember, like, VD in the ’60s? That shit don’t just sting no more. Every time they cure something, it come back stronger. VD is new and improved now. They got dudes in the doctor’s office with symptoms like, “Excuse me, doc, “what does it mean when you go to the bathroom “and fire shoot out your dick?” “Let me get this right. So you’re getting a burning sensation “when you urinate?” “No, fire shoot out my dick, is all. “A burst of flame fly out my dick when I pee. “I can’t even pee in the house, I burn my house down. I gotta go outside. “I was outside peeing, dude tried to mug me, “I turned around and burned him up on the street. “Because my dick is a blowtorch, is what I’m trying to say.” Got to be careful. They say having casual sex nowadays is like playing Russian roulette. And I know I’ve thrown my dick on the crap table many a night. Looking for Miss Right, you be gambling every time. You gambling with your dick, saying, “Come on, need a woman with a mind. “Come on, now. I need somebody perfect for me. Give it to me, now! “Oh, shit. Fat, bucktoothed bitch. No, give me my dick back. No. “I’m gonna keep rolling. I got one more roll in me. “I want the perfect woman, now. I want somebody with a mind, “intelligence, a nice ass and a body. Give it to me, now! “Oh, skinny cockeyed bitch. No, give my dick back. “Give my dick back. Now, listen, be quiet. “I’m gonna keep rolling. This is my last roll. “This is the last one. This is the one for me. “Miss Right. Blow on this for luck. “This is my last roll. Come on. Here we go. “Give it to me, now! Oh, shit. Herpes. I crapped out. “My dick is fucked up. My dick is ruined.” So be careful. Get married. I went out and found the perfect woman. Nineteen years old. Beautiful face. A virgin. Nobody ever fucked her. And had an ass like this: And her legs are like: Her titties are like: She was so fine. She’s one of the people that’s so fine, when you see them, they make you ugly. You be like, “Goddamn, who is that motherfucker?” She was fine. I went, I cut all my girls off. I said, “That’s it, I’m getting married. This is it. Gonna be me and her.” I was so happy. And I went out and I went shopping. And I was waiting on the line and I saw the Enquirer magazine while I was waiting on the line and I saw Johnny Carson on the front page. There was a picture of him like this: Then I said, “What’s up with Johnny?” I turned to the inside story and his wife was on the other page and she was like this: And over her head it said, “Johnny’s wife wants half Johnny’s money.” I turned that shit back to Johnny. Then I started thinking about it. Half. If you… If you have $5 and have to give somebody $2.50, you’d be upset. Johnny had to have at least 300 million. And have to give up $150 million? And they wasn’t even married but ten years. And $150 million? Get… Give me a fucking break. What…? What…? And ladies… Now, here’s a woman right here saying, “Right on.” Baby, that’s not fair. Not no 150 million. I see a lot of you ladies going: “Get all the money you can, shit. I’m glad she did get all that money. “She earned it. She earned it. That… You damn right. “She was married to him, she deserved that money.” Get the fuck out of my face with that bullshit. No. Stop it. No, don’t get me wrong. If you marry somebody and neither one of you have anything and you build 300 million together, you deserve half. But Johnny was 300 million in when they met. And I’m quite sure she knew. Johnny says, “Hey, I’m Johnny.” She was like, “I know who you are, motherfucker.” And they got married, broke up, shit didn’t work out. And then he had to give her $150 million of his money. I know a lot of housewives sitting out there going: “You can’t put a price on what I do.” But, ladies, if you marry a man with $300 million, you ain’t no regular housewife. You ain’t got to clean the house no more. You get a maid. You ain’t cleaning shit! You marry a man with $300 million, you ain’t cooking. You’re eating out. You marry… You know how a lot of housewives gotta get jobs on the side to help make ends meet? He got 300 million, the ends are meeting like a motherfucker. What you gonna do, get a job at a boutique on the weekends and shit? And say, “Here, Johnny. I made $70, put that with the rest. “Now we have $300 million and 70. “Because I want to do my share.” No. All you have to do, you marry a man with $300 million, is fuck your husband. That’s it! That’s your job. Fuck your husband! That’s it. That’s… Just fuck your husband. You fill out a W-2, they say, “What you do?” You say, “I fuck my husband.” That’s it. And I’ve had my share of pussy. I have yet… Even if the pussy was great and sparks shot out the woman’s ass and cannons blared and the mountains crumbled and the seas roared, no pussy is worth $150 million! No pussy. I’d like to meet some pussy like that. Put the shit on layaway. That shit scared the shit out of me. Half? I was petrified. Man, you know what’s real scary is that American women in the ’80s have become very business-conscious. Y’all the most resourceful and the most business-smart women on the planet. Now, in the ’80s. And it would be an asset to us, as American men, if you weren’t so vindictive. Because the two don’t match. Then, what’s really fucked up, is y’all the most loving people. American women are all off into this romance and they genuinely fall in love with you. Now, love and money do not mix. The shit don’t mix. Especially if you got a business-smart woman… You go up and say, “I never met anybody like you before.” “I never met anyone like you.” “Why don’t we be together.” “Will you marry me?” “I thought you’d never ask.” “Before we get married, why don’t you sign this prenuptial agreement.” “What do you mean, a prenuptial agreement?” “That’s a contract that stipulates if we ever break up, “you take what you had and I take what I had.” “First of all, I don’t give a fuck who you are and what you have, OK? “You got a lot of motherfucking nerve by asking me to sign a contract. “There’s nothing a man can do for me that I can’t do for myself. “You got a whole lot of… I love you. “Telling me to sign a contract to show that I love you? “If I need something, I can go to my family. My family takes care of me.” And men hear all that shit and we be like this, “OK. “We don’t need no contract.” And you don’t get a contract and get married without one and the shit don’t work out and you break up a year later. She’s sitting around in the kitchen by herself, mad, trying to figure out a way to get even with your ass. “I can’t believe that motherfucker did this to me! “After all the shit I did… “All the things I did for that motherfucker, he do this to me? “Him and his fat bitch can kiss my ass! “I don’t give a shit about either one of them. “I don’t want shit from him or her and I don’t care. “You know something? You know what I should…? You know…? “Half! “I’ll take half his shit!” And they’ll get it. They’ll get half your money, your house, your car, alimony, child support and your children. You will be on the cover of the Enquirer like this: So be careful! I started having nightmares. I was waking up in the middle of the night like this: “Half!” Because I’m into American women. I like American women. I got a friend got a Japanese girlfriend. And Japanese women are the most docile women on the planet. They’re real… They’re real timid, timid, timid, timid women. I walked in the house and his friend, Japanese girl, bowed to me when I walked in. I said, “What’s wrong with your wife’s back and shit?” He said, “That’s a Japanese thing. They bow.” And I was like, “Miss, did you decorate the house?” She looked at her husband, he did like this: “You may speak.” And she spoke. And I was like, “Now, that’s pussy control for you, there.” You know, because I’m used to American women saying: “You don’t own me.” “Hey, baby, where you going?” “Excuse me?” “I said, where you going?” “You don’t own me.” “You my woman, ain’t you?” “I don’t see no rings on these fingers. “Are you gonna put a ring on this finger? “Well, I…” “Then you don’t own me then, OK? “I don’t give a fuck who you are or what you have, OK? “You got a whole lot of nerve, come and ask me where I’m going. “I don’t answer to my father, I ain’t gonna answer to no man. “Ain’t no man gonna tell me where I can go. “Who do you think you are? “To come and ask me where I’m going? Nobody owns me. “I own myself. I am my own person.” And we hear all that shit, then be, “OK.” “Well, where you gonna be?” “I’m gonna be where I’m at! “You don’t own me!” Well, you don’t. You don’t own your woman. “You gonna put a ring on my finger?” That shuts you right up. You say, “OK.” I know you spend a lot of your money on your woman. And I know you go to the movies and you go to get the ice cream and the candy and the flowers and the anklets and the bracelets and help her get some clothes. You spending all your money on shit you ain’t never spent it on. But you don’t own her. Because theoretically, that pussy’s on lease. You’re leasing the pussy. With an option to buy. But be careful, because you lose half on the trade-in. You got to be careful. You gotta have a J-O-B in the ’80s. You gotta have some money, you can’t get no pussy. Listen to the radio. That’s what it’s about. Listen to Madonna. “I’m a material girl in a material world, “you ain’t got no money, you can’t have no pussy.” There’s a song out now called “Got to Have a J-O-B If You Wanna Be With Me.” And the lyrics go, “Ain’t nothing going on but the rent.” Like if you went up and said: “Hey, baby, what’s going on?” “The rent, motherfucker.” “You have a job?” “Well, I…” “Then get the fuck out my face.” Got to have some money. It says, “No romance without finance.” And women love them songs. They be going: Got to have a J-O-B if you wanna be with me. Janet Jackson got a hit record: “What Have You Done For Me Lately”. That’s what they thinking. “What have you done for me lately?” The record start off like that. “I know he used to do shit for you, but what has he done for you lately?” “Baby, I love you.” “What have you done for me lately?” “You the only thing on my mind.” “What have you done for me lately?” “We make good love.” “What have you done for me lately?” Got to have some money to get some pussy in the ’80s. It’s fucked up, that’s why I say, hey, I’m a target. If I ever get married, I have to go off to the woods of Africa and find me some crazy, naked, zebra bitch… …that knows nothing about money. She got to be butt naked on a zebra with a big bone in her nose and a big plate lip and a big, fucked-up Afro! Her Afro… Afro gotta… Like, Angela Davis see it and go: “Goddamn, that’s some fucked-up shit.” Afro gotta be fucked up and one of them picks with a fist in the back. And she gotta be butt naked, because if she got clothes, she gonna have to put something in the pockets. She’s gotta be butt naked on the zebra. And y’all think it’s a joke. I’m gonna walk up and say, “Hey, how you doing? My name’s…” And she go: I say, “Miss Murphy. Miss Murphy.” And I’m gonna bring her home. Y’all gonna go past a newsstand one day and see me on the cover of JE with some woman with a big bone and a plate and a big, fucked-up Afro, butt naked, and y’all gonna say, “Eddie must be visiting Africa.” It’ll say, “Murphy Marries Bush Bitch.” I’m gonna be like: What? What? Because I ain’t getting caught. I refuse to get caught out there. Fuck that. And I’m gonna bring her home and lock her up in the house. You go off to Africa and get you a bush woman, you can’t let her mingle with American women. Because they’ll change her shit up. American women stick together. Last thing they wanna see is you got some trained bush bitch in your house. They will catch her by herself in the kitchen and throw a monkey wrench in your whole program. They get her alone, they be like, “I can’t stand the way you be “doing everything he tell you to do. You a human being. “This house is too big for one person to clean. Why don’t you leave? “You always crying. Just leave him. You know something? “Do you know you could take half his money? Did you know that? “He didn’t tell you you were entitled to half? “He only told you half the story. “You can take half the money, the car, the house, the children. “You can buy all the zebras and bones you want. “Go back home in style, girl. And get your hair done right. “Cut that Afro off, go back home in style. Who the hell he think he is? “Let me tell you about Eddie Murphy. “That motherfucker ain’t nothing but… Oh, hi, Eddie. How you doing? “Oh, I didn’t know you was here. You scared me. “No, I can’t stay. I was just talking to Uhmfufu about a couple of things. “No, no, no, I got to go. I got to… You two… Y’all two lovebirds talk. “Eddie, talk to your… Talk to Uhmfufu. “Y’all got a lot to talk about. Go on, Eddie. Please, talk to her. Uhmfufu…” And leave me in the kitchen with some bush bitch with an attitude. “Eddie! “Eddie! “I want to talk to you!” “What’s your problem, baby?” “I don’t like the way you treat me, Eddie. “You treat me like animal.” “You was butt naked on a zebra last month.” “I don’t care, Eddie. I am American woman now. “I want what’s coming to me. “Eddie, what have you done for me lately?” “I want you to be happy. Well, what you want?” “Half! “Give me half, Eddie. Give me half, Mr. Fuck-you Man. “Suck my dick, Eddie. “You motherfucker.” Then I’d be on the front page of the African Enquirer like this: So be careful. Don’t get caught in a trap. Any woman can get any man she wants if she puts her mind and pussy to it. They can have you. They have figured us out. We’re very easy creatures to figure out. And women know all they have to do is cater to our egos enough and they can have you. Guys, how many times have you fucked some ugly bitch that just kept hanging around and you had to fuck her? And then afterwards you be like this, “I can’t believe I fucked this bitch.” They just cater to your ego. Sometimes you’ll see a real ugly bitch with a handsome dude. You say, “How that happen?” Dude’s going, “Yeah, how that happen?” Because she catered to his ego. They can figure us out. Guys, don’t get trapped. We’ll call them “pussy traps”. Let’s call them pussy traps. It’s a trap. They trap you with the pussy. They catch you with the pussy, see. And it’s a trap. The most common trap is to not give you any, though. Don’t think, “Maybe you’re gonna put a trap on.” The most common is when you ain’t getting any at all, that’s the trap. When you meet a woman and everything is perfect and she won’t do anything, it’s a trap. Sometimes it backfires, because a lot of women play these games with sex. And ladies like sex just as much as we do, guys, but they act like they don’t. But they do. There’s not a woman… There’s not a woman in this room that wouldn’t rather be somewhere else with a nice stiff one in them. Don’t you let them fool you. They like it just as much as us. See, ladies sitting there going: “That’s true. “He’s funny, but he’s not that funny. “I’ll take a dick over a smile any day. Yes, I will.” They like it just as much as us, but they play these games. Know where it backfires on you, ladies? When you go meet a guy, he wants you, you want him, you like each other, everything is perfect, but you won’t do anything. He say, “Let’s go.” You say, “No, I’m not gonna do it.” And after that, he don’t like you no more. But he still wants to fuck you. So he waits. He be like, “Okay, I’ll wait. “Goodnight.” And you wait. You wait three months. Then you finally get it and she’s like this, “I’m yours.” And you go, “Fuck you, bitch!” “Fuck you and your pussy. Get the fuck out of my face.” Be careful. Don’t get trapped. The most common trap is to not give you any. Let me hear the men clap that are with women that you’ve never slept with before. Let me hear you clap, truthfully. Look at the ladies going, “Stop clapping.” Shame on you. You should’ve fucked them. Clap. Clap louder. Shame on you. Y’all should’ve fucked them. These men like you and you just won’t do it, because you’re trying to trap… Guys, don’t be hurt. She likes you. This is what is going on inside your house every night. “Baby, come on, now, please.” She go, “No, stop it. Stop it. Stop.” “Baby, come on. Would you stop?” “Oh, stop. Can we please stop? “Are we gonna go too far?” “I want it to go too far. Come on now, baby.” “We could… Stop. I just don’t think the time is right.” “Well, my dick don’t get much harder than this. “I been waiting three months. What’s the problem?” “I don’t wanna fuck. I wanna make love. “I’ve had too many relationships that didn’t work out. You’re special to me. “I know all the girls do everything that you want. “And I don’t wanna go through… Why are you doing this…?” And men see those tears and we be, “OK. “We don’t have to do nothing.” Then you go out and your friends be, “Yo, man, you fuck her yet?” “No.” “Why not?” “She’s special. “She said she don’t wanna fuck, she wanna make love.” Which is bullshit. I mean, fucking and making love, let’s be real. I mean, the physical act… I like to fuck somebody I’m in love with. But I ain’t making love to nobody. I get into bed… I get into bed… I get into bed… When you get into bed, would you rather have somebody say: “Oh, make love to me” or grab the back of your head and say, “Fuck the shit out of me. “You motherfucker. “Just fuck, mother… Fuck me, goddamn it.” You want somebody in the bed with you: “Oh, darling, I want to make love to you.” That type of shit. “You a motherfucker…” I’m a realist. But they’ll tell you, “I don’t wanna fuck, I wanna make love.” And they make you wait. And you wait and wait and wait and wait. And you just keep on waiting, you just wait and finally she gives you some. And it’s the best you ever had in your life. You come harder than you’ve ever came. “This was it. This was the feeling I’ve been searching for. I finally made love.” You didn’t make love. lt just felt real good. You know why? Because you waited five months for it. If you’re starving and somebody throw you a cracker, you gonna be like this: “Goddamn, that’s the best cracker I ever ate in my life! “That ain’t no regular cracker, was it? What was that, a Saltine? “Goddamn, that was delicious. “That wasn’t no Saltine. That was… That was a Ritz. That wasn’t a Ritz? “God, that was the best cracker I ever ate in my life. “Can I have another one, please? Please, one more.” Then you get married, because you think you’ve found the bomb. Have the same crackers every day for a year. And you roll over one day and be like: “Hey, I just got some regular old crackers.” Try to leave? Half! So be careful. Marry someone that’s not gonna fool around on you. Which would be hard to do in the ’80s, because everybody’s fucking each other nowadays. It’s like Fuckfest ’87. Everybody… Everybody is fucking and it really… It’s getting bad. Let me hear the women clap that are loyal to their men, truthfully. Let me hear you clap. OK, now, let me hear… Let me hear the women clap that have men that are loyal to them, truthfully. Yeah, I see. Y’all some disillusioned ladies clapping right now. Let me hear the men clap. Let me hear the men clap that are loyal to their women. Stop. You lying motherfuckers, stop. Stop, stop, stop. Kiss my ass. Fuck, there ain’t no such thing as a loyal man, you lying motherfuckers. Stop it. Yeah, the only reason you’re clapping is because your woman’s sitting next to you right now when I asked you. When I asked the question, she looked at you like this: “You gonna put your hands together? “You better stomp your feet and light a match for this pussy, goddamn it. “Stand up and clap. Stand your ass up and clap.” “She’s number one!” Get the fuck out. No such thing as a loyal man. Ladies, do not be fooled. I know some men have some strong raps and they’ll have you believing it. No loyal men. All men fuck other women. We are low by nature and have to do it. We are men. All men do it. We have to do it. We are men. It is a man thing. Men must find and conquer as much pussy as they can get. Do not think for two seconds that you are the only one your man is fucking. He is a man and has to conquer women. I see a lot of you good women sitting out there going: “Not my man.” Yes, your man too. Your man too. If he’s not here with you tonight, he fucking somebody. Because he is a man. lt has nothing to do with you. You can have the best pussy in the world. There can be a cape hanging out your pussy with a big S on it. Your man’s still gonna go fuck somebody else, because he is a man. It is a dick thing. Do not try to understand it. You have to have a dick to understand this. We are men. I know a lot of guys sitting out there right now like this too: “Yo, Ed, shut the fuck up, man! “I ain’t spent all my money for this, motherfucker!” You gonna be driving home tonight with your wife in the car like this: “You don’t really be fooling around like Eddie Murphy say you do, do you?” “No, baby. That’s just jokes. “That Ed sure is funny, ain’t he? “Why don’t we change the subject. Let’s talk about something different. “I don’t wanna talk about this stuff.” “I do wanna talk about this stuff. “Why does he have to lie to me? I think he was telling the truth. “If you fooled around, I would be so hurt and disgusted, I would wait “until you went to sleep, I would come inside the room and kill you.” – Thanks, Eddie! – We love you! “Yeah, that Ed sure is funny. “I ain’t got to worry. As much as I love you, “I wouldn’t fool around. Let’s talk about the Richard Pryor.” “I don’t wanna talk about the Richard Pryor. “I wanna talk about this, because if you fooled around, “I would be so hurt, you know what I would do?” “What would you do, baby, take half?” “No, I’d wait till you went to sleep “and I’d come inside the room and cut your dick off.” “Don’t be talking about cutting off my dick.” “Well, you don’t be putting your dick in nobody else, then.” “Well, I don’t play that shit. You cut off my dick, you better run, goddamn it. “Stop making them dick threats.” The woman’s favorite… Y’all always make… The woman’s favorite threat is, “I’ll do something to your dick.” “If a man do this, I kick him in his nuts. A man put his hands… “Don’t you put your hands on me, I’m gonna kick you where it hurts.” Dick threats. Y’all don’t realize how sensitive nuts are, do you? Men don’t like to hear a threat like that. You hear somebody: “I’ll kick you in the nuts.” It make you wince, be like: “Change the subject, please.” You don’t have to kick no nuts to hurt nobody. You could just graze nuts. And the man would be fucked up. And that pain is worse, because it don’t set in for, like, ten seconds. You be wondering if it’s gonna hurt. You say, “I wonder, did that hit my nuts, just…?” There’s no getting around it. “I’ll kick you in your nuts.” You don’t have to kick. You could just graze it. Y’all do that… You ever have a woman play-fight with you? Your man get serious when they threaten your dick. You be, “Hey, baby, come on.” And she go: You say, “Hey, hey, hey. “I think playtime is over. “Getting a little crazy.” That’s why men don’t like to handle babies. Them little babies with them high-top white shoes on with the real hard bottoms. When they about 1 years old, you pick them up and their leg muscles be strong and they stomp you in the nuts with both feet. And both of y’all be dribbling. You be like: And their mother think you talking baby talk. “Oh, that’s so cute, the way they talking.” “Yeah, go to your mother, please.” “What’s the matter, he stink?” “No, I’m about to throw this motherfucker someplace. “Get a little older, I’m gonna kick you in your nuts, see how you like it.” “I kick him in his nuts.” Always talking about kicking somebody in the nuts. You know what, ladies? I had a woman ask me the other day: “You know why I say my thing? I wanna know why all men fool around. “Why, why, why? I do everything my man wants me to do “and he still fools around. Why? I cook, I clean, I fuck. “I come and go as he says. Why, why, why?” Then you call up your girlfriends and go, “Why?” She go, “I don’t know. My man ain’t home.” “Why?” Then you call up your mother and say, “Mama, why?” She go, “I don’t know, your father ain’t home.” “Why? Why?” I’ll tell you why all men fool around. – Why? – Hear the ladies go, “Why?” Men fool around because of this. Look at all the women in the audience right now looking up here like this: We fool around because we figured women out. We did. See, a lot of you ladies going: “What does he mean, he figured us out?” And dumb n i g g a s going, “Yeah, what does he mean, we figured them out?” We figured you out in this sense, and this is true. Anybody’s ever done this will agree with what I’m saying. Any woman that’s ever had this done to her will agree what I’m gonna say. Those of you who’ve never done this will go, “I disagree.” But once you make a woman come real hard, once you make a woman say: No matter how bad you fuck up, no matter what you do wrong, no matter what you say, no matter what you do, as long as you say: “I’m sorry,” she will listen to your story. And that’s the truth. That’s the God’s honest truth. lt is the truth. Stop it. lt’s the truth. lt is the truth. And, ladies, as soon as y’all make that noise, your relationship will change with your man. Because we know. We wait on that noise. We waiting on it. Because we know we can act different as soon as you go: We know we can act the fool then. Remember when your man couldn’t make it, he would call? No more of that shit. He heard you go: Remember he wanted to spend all his free time with you? No more of that. You made that noise. Your man can act crazy. We know as soon as you go: Our face is in the pillow like this, “I got this motherfucker now, boy.” Then you start talking to her: “Whose pussy is this? Whose pussy is this?” “Oh, it’s your pussy! lt’s your pussy!” And your relationship changes from that moment. The woman be sitting on the bed, legs shaking: “Oh, my God. Oh, I can’t believe it. “I never came like that before. I can’t believe it.” And their man get real cold, saying shit like: “Why don’t you shake your ass home.” “What are you talking about? Why are you treating me like this? “We have a relationship.” “You don’t own me.” “What do you mean? We have a relationship. “I thought that we go together.” “I don’t see no rings on your finger.” “But I love you!” “Well, what have you done for me lately?” And y’all put up with it. Y’all start putting up with all kinds of crazy shit. I guess it’s hard to find somebody that knows how to do it to you right, because when y’all find one, y’all stick through that man through all kinds of bullshit. I know a man got busted coming out of another woman’s house. Show you how far a woman will stoop. He got busted coming out of another woman’s house. His woman saw him come out, knew that the woman lived there and didn’t say shit. Wait till they got home and said: “What the hell was you doing in that bitch’s house?” You know what the man said? “Wasn’t me.” “I looked right in your face!” “Wasn’t me.” “Well, I’m supposed to be a fool, right?” “Hey. “Wasn’t me.” You know what the woman said? “Maybe it wasn’t you.” I got a friend got busted in his house, in his bed, where him and his wife sleep, with another woman, fucking! His wife walked inside the house, opened up the bedroom door, saw her man in her bed with another woman, fucking. She walks in: The man jumped up, saw his woman standing there. She ran down the hallway. Chased his woman down the hallway butt naked with a rock-hard dick, talking about, “I’m sorry.” This sound like a tragedy, right? No, it was like this: “Baby, wait, wait. Whoa, whoa, whoa, whoa. “Baby, look. Whoa, hold on. Wait, we got to talk. “Baby, I am sorry.” “No, you’re not sorry. “I can’t believe you did this. You have no respect for me. “Get the fuck… Don’t you fucking touch me.” “Wait, baby, I am sorry. Wait a second.” “No, if you’re sorry, you wouldn’t have fucked her!” And then you change the shit around. Right, guys? “OK, wait a minute! “Wait one second, goddamn it! “Yes, I fucked her, yes. “ls that what you want me to say? I fucked her? I fucked her. “We fucked, all right? You happy now? We fucked! “Now, let’s talk about the word ‘fuck’ for a minute. “Because that’s a very important word here. Fuck, yes, we did. “Fuck. I fucked her. “I make love to you. “And if you gonna let a fuck come between our love, “there’s something really wrong happening here, baby.” Bullshit. That’s the only reason why it works. Now, guys, I see a lot of y’all feeling real macho, because you may have heard your woman make that noise and you think you are in control of your shit. But I told you a half-hour ago, women are vindictive. Don’t you think for two seconds that if you keep breaking this woman’s heart, your sweet, innocent, little, sweet, loving, darling woman, she eventually will go out and fuck someone else. Don’t think she won’t. Don’t think she won’t. Look, all the men’s faces, they’re like this now: And men don’t like to picture their woman fucking nobody. That’s taboo. Watch the guy’s faces. Ladies, look at them. Guys, picture your woman fucking your best friend. Look at them, they’re: Hey, your woman is like this: I gotta tell you, be careful. And women ain’t like us. It’s not their nature to fool around. Like, we’ll go out and sneak out to the hotel and have to wash your dick in the sink and all that shit. Women gonna do it classy. They don’t fuck around like us. It’s like, “Hey, I don’t do this often, I’m gonna do it right.” Know when your woman’s gonna fool around? You keep messing her over, eventually she says shit like this: “You know, I think I’m gonna go to the Bahamas by myself for the weekend.” And you say, “You want me to go with you?” She goes, “No, just me and my girlfriends are going. “Just me and my friends.” And we so stupid, we start thinking about all the pussy we can get while she gone. “You gonna go by yourself?” “Yes.” “OK.” And send your woman off to the romantic Bahamas by herself? By herself to the Bahamas? She’s walking on the beach, she laid out all day and got a tan, your woman is fine and got her body looking right, she’s walking on the beach, crying, in the Bahamas. Lovers on the beach making love. She’s all by herself, walking along, feeling sad, thinking about you and everybody’s real romantic. The motion of the ocean is shimmying off… The moon is shimmying off the ocean. Your woman’s standing, looking at it and crying. And all of a sudden, a dude named Dexter walks up. Dexter St. Jock. He walk up swinging his dick. Then he do that smooth Bahamas shit on your woman. “What a beautiful girl like you doing by herself on the island of love? “This is the island for lovers. “You should be being held right now, girl. “What you crying about?” “I’m having some problems with my boyfriend, “so I came down here to think it over.” “Tell me what hotel your man’s staying. “I tell him that you treat a woman like you like a princess. “If you were my woman, I make love to you constantly. “What hotel this man staying in?” “Well, he’s back in New York.” “Is that right? “Well, listen, girl. Won’t you come back around my place? “We sit down and talk it over.” “All we gonna do is talk?” He take your woman to his house and roll one of them big-ass Bahama joints. Shit this big and shit. Put some of that Bob Marley music on. And y’all know Bob be preaching this shit: Don’t let him fool you Oh, no Or even try to school you Oh, yeah Could this be love? And be loved Dick swinging. Next thing you know, Dexter is fucking your woman. Well. Send your woman home floating on air. Walk through the door like this: I shot the sheriff We so stupid, we think it was the weather. We be going: “Hey, baby, you need to get away more often.” And she be like this: And never tell you. lt’s her little secret. All women have a skeleton in the closet. All women have done something that only them and another person knows about. All women have one skeleton. Even the little, sweet, innocent ones have something that only them and another person knows about. All women. Don’t be… Look at the guys, looking at their women again like this: “You got skeletons in your closet? “I thought I seen a bone in your shoe. Whose skeleton was that?” Don’t be fooled. They all have a skeleton in their closet. Some of them got cemeteries in their closet and shit. You open the door and ravens and shit fly out of the closet. So be careful. Be careful. Get somebody you gonna be with forever. Find somebody perfect for you. I’m not saying they’re perfect people. I’m saying we ain’t perfect. Find somebody just as fucked up as you are and settle down. That’s what you gotta do. If I ever get married, I got to marry somebody with personality. For instance, I hate those quiet, salad-eating bitches, those real quiet ones, you know. The kind of women, you take them out to dinner, you say: “Hey, what you wanna eat?” They go, “I’ll just have a salad.” And you hear their stomach going: “I don’t know why my stomach is making that noise.” “Because you’re hungry, bitch.” “Why don’t you have something to eat?” “No, no, no. I’m fine, I’m fine. I’ll just have a salad.” “What you want to drink?” “Water.” “What movie you wanna see after you finish eating?” “Whatever you wanna see is OK with me. “As long as it’s a PG. I hate scary movies.” “This is my friend Bob and Karen.” “Hi.” “What’s your problem?” “I’m just a little shy.” Get your shy ass away from me. I hate those shy bitches. They make me sick to my mother… I hate shy… You know, those shy women, those are usually the ones that have the most skeletons in their closet. That’s why they shy now. Because they been raising hell all their life, now they shy. Think about it. All them shy women that you meet, they never from the town you meet them in. They always from somewhere else. Then they come to your town and get shy. Get the fuck out of here. They afraid to talk, because they think a bone is gonna fly out their mouth or some shit. “Hi. “So many skeletons.” I hate shy women. I like extroverts, I like women with a sense of humor. I like funny girls, funny women. But you gotta be good-looking too. I don’t wanna fuck no funny, ugly bitch and shit. I’d have me in the bed going: “Hey, baby, can you tell me some more jokes, please?” Gotta be a good cook. I didn’t realize my mother was a good cook till after I moved out. When you’re a child, if your mother doesn’t take you to McDonald’s, you don’t think she can cook. I had one of those mothers, no matter what you want, she has the ingredients at home. You say, “Ma, I wanna stop and get some McDonald’s.” And she go, “I got hamburger meat at home.” “But I want McDonald’s hamburger.” “I’ll make you a hamburger better than McDonald’s.” “You cook better than McDonald’s?” “That’s right. You can help Mama make it.” You say, “Shit, that’s better than McDonald’s.” Your mother say, “OK, go get me the big frying pan.” So you hand her the frying pan and she say: “I want you to go in the refrigerator and get the meat and while you in there, get me a green pepper and a onion.” And you say: “Ain’t no green peppers at McDonald’s.” “I’m not making McDonald’s, I’m making Mama’s burger. “I need a green pepper and an onion and get me an egg out too.” “What you need eggs for? “I want hamburgers. “You making Egg McMuffins.” “I’m not making an Egg McMuffin. I don’t know what no Egg McMuffin is. Just get me the egg and shut your mouth.” She take the egg and the green peppers and chop the peppers up in big chunks. Don’t even dice it. Big chunks of green peppers and onion and mix the egg in and put paprika and all this shit in it and make a big meatball and put it in the middle of this frying pan. At McDonald’s, the meat is this thin. Your mother’s shit is like this or fatter. Green peppers hanging out of it and shit. And there’s a big split in the middle and grease is popping out. You’re looking at it while it’s popping. You’re looking at the grease in the pan and thinking: “That don’t look like no McDonald’s.” Then your mother say, “Go inside the refrigerator and get me the bread out of the bread box.” And you go look in the bread box and you say: “Ma, we don’t have no hamburger buns. “All we have is Wonder Bread.” “That’s what I said. Get the bread out of the bread box.” “You gonna put it on square Wonder Bread?” “Bread is bread. Bring me that bread before I slap you. “Don’t tell me about Wonder Bread. “As much as that bread costs, don’t tell me about Wonder Bread. “This is Wonder Bread. A hamburger is a hamburger.” And she’d make it and put it in the middle of square Wonder Bread. At McDonald’s, they use buns, the meat covers the whole bread. At your mother’s, the meat’s right in the middle of the bread, with grease running through the middle, making the bread stick to the plate. This big green pepper is hanging out the top of this big meatball on the bread. And you try to put some ketchup on it and it mixes with the grease, turn the bread into pink dough. Then you grab it and get fingerprinted and you got big, pink fingerprints in the dough. You stand there looking at it and you try to make it look like McDonald’s, so you rip the edges off around it, make it round. And you got green peppers and grease running down your hand. And your mother say, “Now, go on outside and play.” And the other kids got McDonald’s. They outside going, “We got McDonald’s hamburgers. “McDonald’s. McDonald’s. “I got McDonald’s.” And you standing there with this big “house burger”. And kids are honest. They say, “Where you get that big, welfare, green-pepper burger?” And you cry. “My mother made it.” And long slob… When little kids cry, some long slob come out of their mouth and it hangs this far to the ground. And it won’t break. And adults stand around going, “That slob gonna break?” And it won’t. The wind can blow that slob. You know where you see kids crying? I do it all the time, I’m sadistic. I like to go to supermarkets and watch mothers lose it and beat the shit out of their kids. Party at the Loft! I was at the Loft. You know why I ain’t dancing at the Loft? I had just got over some shit. I go to parties… I went to a white disco recently and I watched the white people dance. Y’all… Y’all can’t dance. No, it’s not… I’m not being racist. I mean, I mean… It’s like saying black people have thick lips. That’s not racist. It’s true. We have thick lips and white people can’t dance. And y’all be trying. Y’all be really… Do y’all listen to the words or the beat? Because y’all be… I really… I tell you, every time you see a black… When you go to a white club, you see five or six brothers just standing. You ask, “Why are those n i g g e r s in here?” They watching y’all dance. “Look at these crazy motherfuckers.” Y’all got one dance y’all can do. Y’all can do this shit, like this: But y’all don’t do no moves, it’s just this: Y’all do some shit like this, you be fucked up. You’d be: “Oh, shit…” And white people, y’all step on each other’s feet. Brothers, we go to the disco, get all fucked up, you’re stepping and hitting and… Brothers got some dance. They be doing this with their heads. Some shit like that. If the white people do that, they’ll kill each other. They be like: “Sorry.” “Let’s stick with this.” I was in the club, man. I stopped going… I ain’t dancing at the Loft because I had a fight recently and I said I ain’t dancing. I went to clubs… People get drunk, go to clubs and start fighting. I had a fight with an Italian dude right around the time Rocky came out. Italians… White people, period, y’all go crazy after y’all see a Rocky movie because y’all believe that shit. Because the movies are so emotional and so real, you sit there and go like, “Hey, this is real.” And Stallone have y’all white people pumped, especially Italians. After Italians see Rocky, they come out the movie theater, they be like… Italians are funny people, because they act like n i g g a s. It’s funny. They do. They hold their dick more than us. They be standing around, “Get the fuck out of here.” “It’s right here, all right? What? Hey, fuck you, all right?” Everything is a question too. “Hey, what am I, an asshole? “What am I, a fucking jerk? Get the fuck out of here. “It’s right here, all right?” After they see Rocky, they come out of the theater charged. They be like, “All right, Rock-O! “All right, Sly!” “All right, Rock-O! Rock-O!” Go up to the people standing on line and shit. “Hey, paisan, you going in to see Rocky right now?” “Yeah.” “It’s a great fucking movie. “It’s great. “You gonna like this. When Sly comes out, “he breaks this big fucking n i g g e r’s face. “He busts it fucking wide open. “Fucking melanzane laying on the floor, fucked up. “It’s fucking great. I fucking love it, man. All right, Rock-O! “At the end of this picture, now, just between you and I, “I don’t wanna ruin the surprise, but Sly wins this one again.” “You know what I like about Stallone’s movies? “The realism. Because that’s the way you gotta treat those fucking moolies. “They think they can fucking push you around, ‘Oh, you big hotshot,’ “get the fuck out of here. “Get the fuck out of my face with that shit. “That’s what I like about Sly. He goes in “and the moolies are beating him and he don’t fucking go down, “he comes in and he cracks the fucking moolie’s hole like this. “He falls on the ground. You know, you can really fucking do that. “You see that fucking big melanzane standing over there? “See that black guy over there at the line getting candy?” “Yeah.” “All right. Now, he’s about 6’5″. I’m 5’2”. “I ain’t no big guy, all right? “But I’m Italian. Watch this. You watch this, all right? “Hey, excuse me, brother. “Hey, let me have a box of Juji Fruits “and let me have some Bon Bons. “I think I’ll have some Bon Bons there. “And let me have some Junior Mints. “And give me another box of Juji Fruits. “And the n i g g e r’s gonna pay for it.” “Excuse me?” “You heard what I said, moolie. Pay for my fucking candy… “…or I’ll kick your ass.” “Oh, you just saw Rocky. “Look, little Italian white man. “I enjoy Sylvester Stallone’s movies too. “But I’m waiting to get some candy and I’m gonna go see a movie. “Why don’t you just go hop in your IROC Z-28 and take your ass home.” “I’ll kick your fucking ass.” Then they hear that Rocky music. Hour later: “He’s not gonna make it. “The big n i g g e r named Abdullah’s hand wrapped around his throat. “And a box of Juji Fruits rammed up his ass. He’s not gonna make it. “He’s fucked up.” That’s who I had a fight with. An Italian. Those are the worst white people to fight, especially around Rocky time. Because I was in a discotheque talking to Deney Terrio from Dance Fever. Don’t ask me why. We were there kicking it and this Italian dude was there with his girlfriend and she is looking at me or Deney. Italians don’t play that shit. You hear the shit they say to their girlfriends? “What the fuck you looking over there for? “Don’t tell me you’re not looking. I just saw you. “You been looking over there all fucking night. “You look over there again and I’m gonna pick up a glass “and shove it in your fucking mouth. Don’t look over there. No, you shut up. “You’re making me look like an asshole. “Don’t you ever disrespect me. Don’t you ever. “Hey, shut up. Don’t you ever… I’ll fucking kick your ass inside here. “What are you looking at a fucking dancer and a melanzane for? “You know I’ll kick his moolie ass.” He pushed me. Black people from New York have this trick we use on white people. It works. Even if you can’t fight, you have to act like you can fight, because that gets you out of a lot of fights. lt works. lf you have some problem… Walk up to a white dude and step on his foot. And he says: “Hey, you got a problem?” You go, “Yeah, motherfucker, I got a problem!” “I just lost my motherfucking job “to a white man, look just like you! “So I say I’m gonna step on some feet till I feel I’ve redeemed myself. “You got a problem?” And white guys will go, “Hey, I didn’t know about your job.” They leave and brother be standing there like this: “That was close. “I almost got fucked up.” So I know you gotta act like you can fight. First, you make your voice go up an octave and act real confused. And mumble: “What the fuck this motherfucker trying…? “Yo, you don’t put your motherfucking hand, no… “Mind your motherfucking business. I’ll bust your motherfucking ass. “Don’t you never put your hands… Shut the fuck up. “What the fuck is wrong with you, man? “You know I’ll bust you… Get the fuck off me. “I’ll bust your motherfucking ass too. Mind your motherfucking business. “You want some, motherfucker? You want some? “Then make a move, then. Make a move. “Yeah, you better walk away, mother… I’ll bust your pussy ass too. “You never put your motherfucking hands on me. “What the fuck is your problem? What’s your problem, huh? “You got a problem? Well, I’m gonna settle your problem. “I’m gonna settle your problem, motherfucker!” And the dude did like this, “Come on!” I was stuck. I was standing there like this now. Dude said, “Come on, that’s the way I like it.” I didn’t know what to do, because I could act like I could fight good. I’m an actor, I ain’t no fighter. You put me in a movie where I’m the star, I’ll kick your ass. This is real shit. He’s going, “Come on.” I was frozen, man. I was standing there, my ego jumped out of my body and said, “Punch him in the face, Ed.” I said, “I ain’t punching nobody.” My ego said, “Well, give me your hand.” Clocked that boy in his eye. Boy fell on the deck holding his eye, he was all fucked up. I looked at my ego, I said: “What the fuck you do that for?” Ego said, “Because you’ve got an image to uphold. “You kicked the dude’s ass. Relax.” The dude was laying there, holding his eye. My ego said, “Now talk some shit so people know not to mess with you.” And I was like, “Yeah. “I’m tired of people messing with me.” “Now tell them if somebody else move, you gonna kick their ass.” “If somebody else move, “I’m gonna kick their ass?” “Do some rhyme with your name. That always scares white people.” “Because I’m Ed “and if you mess with Ed, you be dead.” “That’s all right. Just worry about… Shit, you doing fine. “You just relax, don’t worry. Just be cool. “Ain’t nobody gonna move after they seen you kick this dude’s ass. “Just relax and cool out.” I start cooling out. My ego said: “Every now and then you gotta whip somebody’s ass, “let them know where you stand.” I said, “Yeah, yeah, yeah!” I ain’t see this dude’s brother standing behind me. And he has seen Rocky too. And he swung around my back and punched me in the mouth… …real, real hard. Because the punch said: And my ego said, “What was that?!” I said, “I don’t know.” And my lip said, “Hey, fellas!” So I’m standing there with my lips hanging down, looking like J.J. from Good Times and shit. And I ain’t know what to do, so I scream for security. I said, “Security!” And that’s when one of my boys jumped over the table like Linc Hayes from the Mod Squad and grabbed that boy and started going: Boy hit the deck. My boy jumps up and starts fucking this boy up and his brother woke up, jump on top of my boy and started kicking his ass. Then somebody says, “Fight in the back!” And all the people, the bouncers, came and saw two n i g g e r s fighting two white guys. They jump on the n i g g e r s. “You n i g g e r s have to learn “to stop fucking up our club. Didn’t we let you in here, n i g g e r? “We saw you laughing while we were dancing. We saw you.” Then all the brothers saw 40 white guys beating up two black guys, “Hey, you can’t beat up the brothers.” They jump in the fight. Then it looked like 40 white guys fighting 40 black guys, it was a big race war and suntan lotion and Jheri-curl juices shooting all over. And at the end of the fight, everybody sued me. Everybody claimed I whipped their ass. I’m 5’10”. I weigh 165 pounds. I can’t whip a disco’s ass by myself. Even people that didn’t fight sued me. People that watched the fight was in court. “No, I didn’t actually fight, but I was there watching. “And it was a discotheque and a strobe light fell off the ceiling, “creating a weird effect with the mirror “and I saw this and my eyes were sprained, “the eyes, and I need 1 2 million for my sprained eyes.” Brothers sued me. Yo, man, the brothers came out and sued. I was like, “Ain’t no brothers gonna sue me.” Brothers sued Ed. The brothers went to get paid. I was, “Brothers don’t sue brothers.” They was like, “Fuck that. I’m getting paid, motherfucker.” The brothers went to court and got educated on the judge. All of a sudden, it was like, “Can you state your case?” [gangsta voice] “Uh, yes, Your Honor. On the evening in question, per se, Your Honor… yo, check it out, Your Honor. I was just out the disco, right? Coolin’, right? I went in with my girl, right, and my girl starts illin’, says “There go Eddie Murphy.” Started actin’ all tipsy and shit. I said, “Where, where?” She go, “Over there.” I say, “Fuck that big-nosed motherfucker!” I make my money just like him, right, Your Honor, cuz I don’t give a fuck, I ain’t gittin on nobody’s jobs, you know? So, Your Honor, check it out, right? What happened, what happened then, right? I said, “Yo, what you want me go get the motherfucker’s autograph?” I got the autograph for my girl, walked over and said, “Yo, Ed? Sign this autograph.” [pause] Then Ed said, “I ain’t signing a *motherfuckin’* thing! Fuck you and your ugly bitch!” I said, “Yo, Ed, I’ll bust your ass for sayin’ shit like that.” He say, “Wh-Where, motherfucker, I’ll kill-” And he ran over to my woman and slapped her in the face, Your Honor! Then he slapped me and my man in the face, all three of us like the Three Stooges, Your Honor! 12 million! 12! [normal] I was disgusted. Man in Audience: Half! [gangsta voice] Yeah, Your Honor, give us half his shit! I was mad. I called my mother up. You know how you do. When you get depressed, you call your mother. You get your ass whipped, first you call home. I call my mother’s house. Because you wanna hear: “It’s gonna be all right, baby. It’s gonna be fine. “You just come on home. Stop crying. I’ll cook you something to eat. “I’ll cook you one of them big old hamburgers “I used to make before. You just come on home.” And you want that burger when you get older. I called my mother’s house, it was a Friday night, the phone rang for a half-hour. Which meant my pops was home, and on the weekends, my pops gets drunk. I was praying he wouldn’t answer the phone, because I’m bleeding, my lips are swollen, people walking by going, “Jimmie Walker.” I’m going, “No, I’m Ed. I just had a fight.” So I’m praying my father wouldn’t answer the phone. And I picture this is going on, my pops is home like this, drunk: “This is my house! “It’s my house and I don’t give a fuck! “You know something? Hey, I’m drunk, Lil. “Lil? I’m drunk. And you know something? “It’s beautiful. “It’s beautiful, Lil. In my heart and my soul, I’m drunk. “You know something, fuck it. “Because if I wanna drink something in my house, fine. “You don’t like it, get the fuck out of my house. “I pay the bills for this motherfucker. I wanna drink something, I drink. “Hey, Lil, you gonna answer this telephone? “Do you hear the phone ringing? “Lil! “That’s the phone, motherfucker. That’s not me. “No, I’m not answering shit. “I pay the bills. I’m gonna answer the phone too? “Who am I, Alexander Graham Bell up in this motherfucker? “You better answer this telephone. “Lil, answer the phone. Goddamn it, look… “Shit, I’m watching the fights, Lil. “Are you…? You’re not gonna answer it? “OK. Fine. Don’t touch the phone no more, Lil. “Since you can’t get up off your ass and answer the phone, “you can’t touch the phone. Bye-bye, phone, for Lillian. “No more phone for you. Your phone privileges are cut off. “I’m gonna write that down and put it on the fridge. “That’s the new rules in the house. “I’m gonna take the old rules off and put new rules up. “You gonna listen to me when I tell you to do something. “We gonna put new rules up. We gonna put rules up. Rules up. “Rules. Rules. “One, ‘Lillian cannot use the phone.’ “Two, ‘Lillian cannot…’ “Since you’re such a smart motherfucker, “you can’t go outside anymore either. “Cannot go outside ever again. “Now, put the rules up, Lillian. “You abide by my rules and my regulations, goddamn it. “And the rules say ‘No phone and no outside.’ “And I don’t give a fuck if the motherfucking house is burning down. “If I come home and a fireman putting the house out, I say: ‘How you find out the house was burning?’ ‘We got a call from your wife,’ I kick your motherfucking ass. “You’re in this house to stay! You’ll burn up in this motherfucker. “No, Lillian, where you going? Didn’t I just say you couldn’t go no place? “How the hell you gonna go somewhere…? “You’re not going to Shirley’s house to play Pokeno. Fuck Pokeno. “Take your coat off. No, you can’t go no place because I said so. “The rules say ‘no outside.’ I know you wanna leave, that’s why you can’t go. “You better call and tell her you’re not coming. “You can’t use my phone. “I don’t know. You better lift up the window “and scream your motherfucking head off. “But you’re not… I don’t give… “You’re not going no place. You’re not going no place. “Because I know you wanna leave. That’s why. I know you wanna leave. “I know you wanna leave.” I got one of those fathers who gets drunk and sings old Motown songs to you in his argument, fucks up the lyrics and thinks he’s saying it right. “I know you wanna leave me “But I refuse to let you go, Lillian” Then he fuck up, think he’s saying it right. “If I have to beg and plead Do the symphony “I don’t mind because it means That much to me “You’re not going no place. “You be right here in this motherfucker, Lil. “Watching the ships roll in “Then you watch them Roll away again “Lillian “Because I put the rules up. Like Diana Ross say, “It’s my house I live here “And she sing in Spanish too, Lillian: En my casa, I… Yo vivo aqui “This is my house! I don’t give a fuck! “Do you hear this phone? I’m gonna answer, because I know it’s Shirley. “And you not supposed to let a phone ring for a half-hour. “You let it ring two or three times and hang it up. “That’s a lonely bitch at the end of that line. I’m gonna tell her. “Hello? Shirley? Bitch, if you ever let my phone ring like this again… “Shir…? What’s wrong…? Hey, what’s wrong with you? “What you crying about? Eddie, what’s…? “Eddie, what’s wrong with you? “What? You had a fight?! Lillian, get my pistol. “Who you have a fight with? “What? A disco? With Deney Terrio? “Fuck you doing with Deney Terrio? “And Jimmie Walker? And your lips? And you shot… “What? Lillian, Eddie had a fight in a disco with Deney Terrio “and shot Jimmie Walker. “He shot him in the lips, Lil. “Eddie, why’d you shoot Jimmie Walker in his lips? “I like Good Times. “Oh, you took a shot in your lips? “And you look like Jimmie Walker? Oh, that’d do it. “Who punched you in the lips? Italian? For what? “What you mean ‘nothing’? Nobody get punched for nothing. What’d you do? “Don’t tell me ‘nothing’. You had to do something. “What did you do? No, don’t tell me ‘nothing’. “Nobody gets punched for nothing. What…? Eddie… “No, don’t say ‘nothing’. Eddie. Nothing from nothing leaves nothing “Had to do something “Motherfucker punched you in the mouth “Now, what did you do? What? “Eddie. No… Eddie, then it’s something that you did a long time ago. “Didn’t I always tell you, you reap what you sow? Yes. “What goes around comes around, Eddie. “Yes, that’s why that man punch you in your mouth tonight, “for something you did a long time ago. “Yes, Eddie. Well, you give what you get. “You get what you give. That’s why that man… “Eddie. What do you mean, you don’t remember what you did? “He probably punched you for something you did “when you was living here. “I didn’t catch everything that you did. I worked all day, you played all day. “Eddie, who broke that lamp in 1971? “It was you! Yes, it was. That’s why that man kick your ass tonight. “I’d appreciate if you go up and tell him that your father says ‘Thank you.’ “Save me a trip to California. Because you never respect me. “You never listen to what I tell you to do. “I put rules on the refrigerator and you never obey my rules. “Me and your mother want respect. “You, Charlie and Vernon could not respect me and your mother. “All we wanted was some respect. All we asked for was a little respect. “How come you can’t respect me? How come? “I’m a man. I want respect. I want respect, Eddie. “What we want Baby, you got it “What we need I know you got it “Because all I’m asking “ls for a little respect, motherfucker “When you come on home, baby Hold on a minute. “The kiss is sweeter than honey “R-E-S-Z-C-P Find out what you mean to me “R-E-C-C-T-T-P “Motherfucker, you know how to spell it! “Respect. You never had no respect for me, Eddie. “That’s why the man kick your ass. And when I was a child, “I respect my parents. And we didn’t have shit. Okay? “I had shit, Eddie. Me and my brothers and sisters didn’t have shit. “I had 11 brothers and sisters, Eddie. My father made 13 cents a week. “He worked at the Coleco toy factory, Eddie, and made 13 cents a week. “That’s not a lot of money when you have 11 children. “We didn’t have all the fancy things like you, Charlie and Vernon. “We didn’t have fancy luxuries like food. “What the fuck you gonna eat on 13 cents a week? “We had to eat whatever my father brought home from work. “We ate the toys, Eddie. “We ate the toys and we never complained, “because my mother could cook her ass off. “My mother get some hot sauce and some salt and pepper, “make a Tonka truck taste so delicious. “The wheels will melt in your mouth, Eddie. “And you appreciate it. You never complained. “It was all for one and one for all. We stuck together. “I only hurt my brothers and sisters once. “I came home from school and my mother had made “a birthday feast for my father. “She had cooked and slaved over the stove all day “and made enough food for 13 people to feast on “for my father for his birthday and I sat down and ate it all by myself. “I ate it all, Eddie, by myself. And my father came inside the kitchen, “put his little birthday hat on and he looked at all the children. “He had a tear in his eye and he said, ‘Which one of you kids sat down ‘and ate a whole fucking game of Monopoly by yourself?’ “And I ate it all, Eddie! “Boardwalk, Park Place, Illinois Avenue, “the shoe, the boat, the hat, the cannon, “Connecticut Avenue, Luxury Tax, “Eddie, I even ate those cheap purple motherfuckers after ‘Go’… “…that nobody buys. I ate them. “I ate Baltic and Ralph Avenue. Yes, I did. “I did, and I sat down and ate my father’s birthday cake too. “No, we couldn’t afford a cake. “It was two Etch-A-Sketches on top of each other. “Two Etch… Etch-A-Sketch cake. That’s right. “We couldn’t afford no icing, “so my mother would write ‘Happy Birthday Pop’ on the Etch-A-Sketch. “Know how you made a wish? You shook it till the words disappeared, “then you ate the Etch-A-Sketch. “And that was your birthday cake. And we never complained. “We were happy to get that. All for one and one for all. “We would get dressed to go to school. Let me tell you about our clothes. “We had to wear whatever my father brought home from work, Eddie. “We wore the toys! “Each day my mother would wake up and open 11 Twister games, Eddie. “She would roll the Twister mats on the floor. “Me and my 11 brothers and sisters “would wrap the Twister mats around our body like a suit. “Then we get a Hot Wheels racetrack and put that around our waist as a belt. “And if there was no Hot Wheels, we used Johnny Lightning. “And if there was no Johnny Lightning, we ripped up a Hula Hoop “and put that around our waist. But we went to school, goddamn it. “Other children would make fun of us because we got on Twister suits. “And it’s no fun to get your ass kicked in a Twister mat. “Right foot, blue. Left hand, red, Eddie. It was a goddamn game to these kids. “I’m standing on the corner, “a motherfucker is spinning the spinner and kicking my ass, Eddie. “Then I gotta go to school and watch the other children eat real food. “I gotta watch them eat peanut butter and jelly, bologna and Swiss, “ham and cheese. I got a goddamn Silly Putty sandwich. “Then, for dessert, they’re gonna pull out a Hostess cupcake “and I gotta eat a goddamn Slinky? “A Slinky spring?! And, Eddie, I ate so many Slinkys, “every time I hear the motherfucking Slinky song, “it make me sick to my stomach. “They walk downstairs Alone and in pairs “And make a clinkety sound “A thing, a thing, a marvelous thing Everyone knows it’s Slinky “A Slinky, a Slinky A wonderful, wonderful toy “A Slinky, a Slinky They’re fun for a girl and a boy” Bye-bye, I gotta go. Thank you. Your email address will not be published. Required fields are marked * Name* E-mail* Website  \\n\\n Dave Chappelle talks about Kanye West, the 2022 midterm elections and Donald Trump. Dave Chappelle delivers a speech at his prestigious alma mater that reflects on his comedy roots, his rise to fame and why artists “should never behave.” With topics ranging from tight rompers to ugly bras to why every man needs a box spring, Iliza remains the hilarious, affecting voice of her generation. Features Gabriel “Fluffy” Iglesias as he talks about growing up in Los Angeles, an attempt at extortion towards him, and where he holds the record for receiving the highest fine on stage.'"
            ]
          },
          "execution_count": 39,
          "metadata": {},
          "output_type": "execute_result"
        }
      ],
      "source": [
        "# Let's take a look at the transcript for Eddie Murphy\n",
        "data_df.transcript.loc['murphy']"
      ]
    },
    {
      "cell_type": "code",
      "execution_count": 40,
      "metadata": {},
      "outputs": [
        {
          "data": {
            "text/plain": [
              "'Exploring mental health decline over 2020, the constant challenges our world faces, and the struggles of life itself, Bo Burnham creates a wonderful masterpiece to explain each of these, both from general view and personal experience. * * * ♪ If you’d have told me\\xa0♪ ♪ A year ago\\xa0♪ ♪ That I’d be locked inside of my home\\xa0♪ ♪ Ah, ah, ah\\xa0♪ ♪ I would have told you\\xa0♪ ♪ A year ago\\xa0♪ ♪ Interesting, now leave me alone ♪ ♪ Sorry that I look like a mess\\xa0♪ ♪ Ah, ah, ah\\xa0♪ ♪ I booked a haircut But it got rescheduled\\xa0♪ ♪ Robert’s been a little depressed\\xa0♪ ♪ No!\\xa0♪ ♪ And so today I’m gonna try just\\xa0♪ ♪ Getting up, sitting down\\xa0♪ ♪ Going back to work\\xa0♪ ♪ Might not help But still it couldn’t hurt ♪ ♪ I’m sitting down, writing jokes\\xa0♪ ♪ Singing silly songs\\xa0♪ ♪ I’m sorry I was gone\\xa0♪ ♪ But look, I made you some content\\xa0♪ ♪ Daddy made you your favorite Open wide ♪ ♪ Here comes the content\\xa0♪ ♪ It’s a beautiful day\\xa0♪ ♪ To stay inside\\xa0♪ Camera test. ♪ The world is changing\\xa0♪ ♪ The planet’s heating up\\xa0♪ ♪ What the fuck is going on?\\xa0♪ ♪ Rearranging\\xa0♪ ♪ It’s like everything Happened all at once ♪ ♪ Um, what the fuck is going on? ♪ ♪ The people rising in the streets\\xa0♪ ♪ The war, the drought\\xa0♪ ♪ The more I look\\xa0♪ ♪ The more I see nothing to joke about\\xa0♪ ♪ Is comedy over?\\xa0♪ ♪ Should I leave you alone?\\xa0♪ ♪ ‘Cause really who’s gonna go for\\xa0♪ ♪ Joking at a time like this? ♪ ♪ Should I be joking At a time like this? ♪ ♪ I wanna help to leave this world\\xa0♪ ♪ Better than I found it\\xa0♪ ♪ And I fear that comedy won’t help\\xa0♪ ♪ And the fear is not unfounded\\xa0♪ ♪ Should I stop trying to be funny?\\xa0♪ ♪ Should I give away my money?\\xa0♪ ♪ No!\\xa0♪ ♪ What do I do?\\xa0♪ [in ethereal voice] ♪ Healing the world with comedy ♪ ♪ The indescribable power of your comedy\\xa0♪ ♪ The world needs direction\\xa0♪ ♪ From a white guy like me\\xa0♪ ♪ [in deep voice] Bingo ♪ ♪ Who is healing the world with comedy ♪ That’s it. [inspirational music playing] The world is so fucked up. Systematic oppression. Income inequality. The other stuff. And there’s only one thing that I can do about it, while… while being paid, and being the center of attention. ♪ Healing the world with comedy\\xa0♪ ♪ Making a literal difference Metaphorically ♪ ♪ A Jew walks into a bar\\xa0♪ ♪ And I’ve saved him a seat\\xa0♪ ♪ That’s healing the world with comedy\\xa0♪ ♪ I’m a special kind of white guy\\xa0♪ ♪ I self-reflected And I want to be an agent of change\\xa0♪ ♪ So I am gonna use my privilege For the good\\xa0♪ ♪ Very cool, way to go!\\xa0♪ ♪ American white guys\\xa0♪ ♪ We’ve had the floor For at least 400 years ♪ ♪ So maybe I should just Shut the fuck up… ♪ I’m bored. ♪ I don’t wanna do that\\xa0♪ ♪ There’s gotta be another way ♪ ♪ Yes ♪ ♪ For me to help out Without standing on the sidelines ♪ ♪ Never ♪ ♪ The wait is over ♪ ♪ I’m white And I’m here to save the day ♪ ♪ Lord help me channel Sandra Bullock in The Blind Side\\xa0♪ ♪ Sandra Bullock!\\xa0♪ ♪ Healing the world with comedy\\xa0♪ ♪ Making a literal difference Metaphorically ♪ ♪ And yes, most likely they’ll pay me\\xa0♪ ♪ But I’d do it for free\\xa0♪ ♪ I am healing the world with comedy\\xa0♪ ♪ If you wake up in a house That’s full of smoke\\xa0♪ ♪ Don’t panic\\xa0♪ ♪ Call me, and I’ll tell you a joke\\xa0♪ ♪ If you see white men Dressed in white cloaks\\xa0♪ ♪ Don’t panic\\xa0♪ ♪ Call me, and I’ll tell you a joke\\xa0♪ ♪ Oh shit\\xa0♪ ♪ Should I be joking At a time like this? ♪ ♪ If you start to smell burning toast\\xa0♪ ♪ You’re having a stroke Or overcooking your toast\\xa0♪ ♪ If you wake up in a house That’s full of smoke\\xa0♪ ♪ Don’t panic Call me, and I’ll tell you a joke\\xa0♪ ♪ If you see white men Dressed in white cloaks\\xa0♪ ♪ Don’t panic Call me, and I’ll tell you a joke\\xa0♪ ♪ Oh shit\\xa0♪ ♪ Should I be joking At a time like this? ♪ ♪ Somebody help me out\\xa0♪ ♪ ‘Cause I don’t know\\xa0♪ ♪ And I want to help to leave this world\\xa0♪ ♪ Better than I found it\\xa0♪ ♪ And I fear that comedy won’t help\\xa0♪ ♪ And the fear is not unfounded\\xa0♪ ♪ Should I stop trying to be funny?\\xa0♪ ♪ Should I give away my money?\\xa0♪ ♪ No!\\xa0♪ ♪ I know what I gotta do\\xa0♪ ♪ Healing the world with comedy\\xa0♪ ♪ Making a literal difference Metaphorically ♪ ♪ I swore I’d never be back\\xa0♪ ♪ But now I’m back on my feet\\xa0♪ ♪ And I’m healing the world with comedy\\xa0♪ [birds chirping] Anthony Jeselnik: Fire in the Maternity Ward (2019) – Transcript  Hi. Welcome to, uh, whatever this is. Um, I’ve been working for the last couple months, um, testing this camera, and testing lights, and writing, and I’ve decided to, uh, try to make a new special. For real. Um, it’s not gonna be a normal special because there’s no audience, and there’s no crew. It’s just me and my camera, and you and your screen. Uh, the way that… that our Lord intended. Um… And the whole special will be… will be filmed in this, uh, room. And instead of being filmed in a single night, it will be filmed in uh, however long it takes to finish. I hope you, uh, enjoy it. I… I hope this special can maybe do for you what it’s done for me these last couple months, which is, uh, to distract me from wanting to put a bullet into my head with a gun. So… Yeah, thank you. And a warning. Um, I can already sort of tell that this special is going to be a little all over the place, so don’t expect incredibly smooth transiti– [electronic music playing] ♪ Pour me a drink and clear my schedule\\xa0♪ ♪ I’mma FaceTime with my mom tonight\\xa0♪ ♪ Tonight\\xa0♪ ♪ These 40 minutes are essential\\xa0♪ ♪ I’mma FaceTime with my mom tonight\\xa0♪ ♪ Tonight\\xa0♪ ♪ I call, she answers And her hair is wet ♪ ♪ Hair is wet\\xa0♪ ♪ I say, “Did you just shower?” ♪ She says, “How’d you guess?”\\xa0♪ ♪ I say, “Your hair is wet” She says, “Oh yeah”\\xa0♪ ♪ I tell my boys I need some space, yeah\\xa0♪ ♪ I’mma FaceTime with my mom tonight\\xa0♪ ♪ She’ll hold her iPhone 5 No further than six inches from her face\\xa0♪ ♪ Yeah, I’mma FaceTime With my mom tonight ♪ ♪ Tonight\\xa0♪ ♪ She says, “Oh, look who’s here”\\xa0♪ ♪ Say hi to Dad ♪ ♪ Hi to Dad ♪ ♪ He says, “How ya doing, bud?” ♪ I say, “I’m not so bad” ♪ ♪ And that’s the deepest talk We’ve ever had ♪ ♪ Watching as she looks for her glasses\\xa0♪ ♪ I’mma FaceTime with my mom tonight\\xa0♪ ♪ She’ll tell me all about\\xa0♪ ♪ The season six finale of The Blacklist\\xa0♪ ♪ I’mma FaceTime with my mom tonight\\xa0♪ ♪ Tonight\\xa0♪ ♪ My mother’s covering Her camera with her thumb\\xa0♪ ♪ I’ll waste my time FaceTiming with my mom ♪ ♪ My mother’s covering Her camera with her thumb\\xa0♪ ♪ I’ll waste my time FaceTiming with my mom\\xa0♪ ♪ My mother’s covering Her camera with her thumb\\xa0♪ ♪ I’ll waste my time FaceTiming with my mom\\xa0♪ ♪ My mother’s covering Her camera with her thumb\\xa0♪ ♪ I’ll waste my time FaceTiming with my mom\\xa0♪ Hey, kids. Today, we’re gonna learn about the world. ♪ The world that’s around us\\xa0♪ ♪ Is pretty amazing\\xa0♪ ♪ But how does it work?\\xa0♪ ♪ It must be complicated\\xa0♪ ♪ The secret is the world can only work\\xa0♪ ♪ When everything works together\\xa0♪ ♪ A bee drinks from a flower\\xa0♪ ♪ And leaves with its pollen\\xa0♪ ♪ A squirrel in a tree Spreads the seeds that have fallen\\xa0♪ ♪ Everything works\\xa0together\\xa0♪ ♪ The biggest elephant, the littlest fly\\xa0♪ ♪ The gophers underground The birds in the sky\\xa0♪ ♪ And every single cricket Every fish in the sea\\xa0♪ ♪ Gives what they can And gets what they need\\xa0♪ ♪ That is how the world works\\xa0♪ ♪ That is how the world works\\xa0♪ ♪ From A to Zebra To the worms in the dirt ♪ ♪ That’s how\\xa0♪ ♪ It works ♪ Hey, everyone. Look who stopped by to say hello. It’s Socko. Hey! Where you been, Socko? I’ve been where I always am when you’re not wearing me on your hand. In a frightening, liminal space between states of being. Not quite dead, not quite alive. It’s similar to a constant state of sleep paralysis. Socko, we were just talking about the world and how it works. Boy, that sounds complicated. Do you have anything you’d want to teach us about the world? I wouldn’t say anything that you probably haven’t already said yourself. I don’t know about that, Socko. How about you give it a try? All right. ♪ The simple narrative taught In every history class ♪ ♪ Is demonstrably false And pedagogically classist ♪ ♪ Don’t you know The world is built with blood\\xa0♪ ♪ And genocide and exploitation\\xa0♪ ♪ The global network of capital Essentially functions ♪ ♪ To separate the worker From the means of production ♪ ♪ And the FBI killed Martin Luther King\\xa0♪ ♪ Private property’s inherently theft\\xa0♪ ♪ And neoliberal fascists Are destroying the left\\xa0♪ ♪ And every politician\\xa0♪ ♪ Every cop on the street\\xa0♪ ♪ Protects the interests Of the pedophilic corporate elite\\xa0♪ ♪ That is how the world works…\\xa0♪ Really? ♪ That is how the world works\\xa0♪ ♪ Genocide The Natives say you got to it first\\xa0♪ ♪ That’s how\\xa0♪ ♪ It works ♪ That’s pretty intense. No shit. What can I do to help? Read a book or something. I don’t know. Just don’t burden me with the responsibility of educating you. It’s incredibly exhausting. I’m sorry, Socko. I was just trying to become a better person. Why do you rich fucking white people insist on seeing every socio-political conflict through the myopic lens of your own self-actualization? This isn’t about you. So either get with it, or get out of the fucking way. Watch your mouth, buddy. Remember who’s on whose hand here. But that’s what I– Have you not been fucking listening? We are entrenched in– All right. Wait! No, please! I don’t want to go back. I can’t go… I can’t go back. Please. Please. I’m sorry. Are you gonna behave yourself? Yes. Yes, what? Yes, sir. Look at me. Yes, sir. That’s better. ♪ That is how the world works\\xa0♪ ♪ That is how the world works\\xa0♪ ♪ I hope you learned your lesson\\xa0♪ ♪ I did and it hurt!\\xa0♪ ♪ That’s how\\xa0♪ ♪ It works\\xa0♪ No! Hello, my name is Bo Burnham. And I am a former comedian, turned social brand consultant. It’s a very exciting time to be a, uh, brand. It’s also a bit of a scary time because customers expect a lot more from their brands than they did in the past. During this incredibly necessary and overdue social reckoning that we’re having in our culture, it is no longer acceptable for brands to stay out of the conversation. Consumers want to know, “Are you willing to use your brand awareness to effect positive social change?” Which will create more brand awareness. The question I ask the brands I work with is, is, is, is, is, is, is, is, is, is… “Are you gonna be on the right side of history?” The question isn’t, “What are you selling?” Or… or “What service are you providing?” The question is, “What do you stand for?” Who are you,\\xa0Bagel Bites? All these big companies, they’re so scared of all this social change, and I come in and I put their fears to rest. You know, I tell them, “Just be honest.Tell your customers that… that JPMorgan is against racism.” In theory. The question is no longer, “Do you want to buy Wheat Thins?” For example. The question is now, “Will you support Wheat Thins in the fight against Lyme disease?” There’s no sugarcoating it. The world is… fucked up. And you’ve got a choice as a brand. You can… hide and bury your head in the sand and hope it fixes itself, or you can roll up your sleeves and get to work, and sell Butterfingers. ♪ An open window\\xa0♪ ♪ A novel\\xa0♪ ♪ A couple holding hands\\xa0♪ ♪ An avocado\\xa0♪ ♪ A poem\\xa0♪ ♪ Written in the sand\\xa0♪ ♪ Fresh fallen snow on the ground\\xa0♪ ♪ A golden retriever in a flower crown\\xa0♪ ♪ Is this heaven\\xa0♪ ♪ Or is it just a white woman\\xa0♪ ♪ A white woman’s Instagram\\xa0♪ ♪ White woman\\xa0♪ ♪ A white woman’s Instagram\\xa0♪ ♪ White woman\\xa0♪ ♪ A white woman’s Instagram\\xa0♪ ♪ White woman\\xa0♪ ♪ A white woman’s Instagram\\xa0♪ ♪ Latte foam art\\xa0♪ ♪ Tiny pumpkins\\xa0♪ ♪ Fuzzy, comfy socks\\xa0♪ ♪ Coffee table made out of driftwood\\xa0♪ ♪ A bobblehead of Ruth Bader Ginsburg\\xa0♪ ♪ A needlepoint of a fox\\xa0♪ ♪ Some random quote From Lord of the Rings ♪ ♪ Incorrectly attributed To Martin Luther King\\xa0♪ ♪ Is this heaven\\xa0♪ ♪ Or am I looking at a white woman\\xa0♪ ♪ A white woman’s Instagram\\xa0♪ ♪ White woman\\xa0♪ ♪ A white woman’s Instagram\\xa0♪ ♪ White woman\\xa0♪ ♪ A white woman’s Instagram\\xa0♪ ♪ White woman\\xa0♪ ♪ A white woman’s Instagram\\xa0♪ ♪ Her favorite photo of her mom\\xa0♪ ♪ The caption says\\xa0♪ ♪ I can’t believe it\\xa0♪ ♪ It’s been a decade Since you’ve been gone ♪ ♪ Momma, I miss you\\xa0♪ ♪ I miss sitting with you In the front yard ♪ ♪ Still figuring out How to keep living without you\\xa0♪ ♪ It’s got a little better But it’s still hard\\xa0♪ ♪ Momma, I got a job I love And my own apartment ♪ ♪ Momma, I got a boyfriend And I’m crazy about him\\xa0♪ ♪ Your little girl didn’t do too bad\\xa0♪ ♪ Momma, I love you Give a hug and kiss to Dad\\xa0♪ ♪ A goat-cheese salad\\xa0♪ ♪ A backlit hammock\\xa0♪ ♪ A simple glass of wine\\xa0♪ ♪ Incredibly derivative Political street art ♪ ♪ A dreamcatcher Bought from Urban Outfitters\\xa0♪ ♪ A vintage neon sign\\xa0♪ ♪ Three little words, a couple of doves\\xa0♪ ♪ And a ring on her finger From the person that she loves\\xa0♪ ♪ Is this heaven\\xa0♪ ♪ Or is it just a white woman\\xa0♪ ♪ A white woman’s Instagram\\xa0♪ ♪ White woman\\xa0♪ ♪ A white woman’s Instagram\\xa0♪ ♪ White woman\\xa0♪ ♪ A white woman’s Instagram\\xa0♪ ♪ White woman\\xa0♪ ♪ A white woman’s Instagram\\xa0♪ ♪ White woman ♪ ♪ A white woman’s Instagram\\xa0♪ ♪ White woman\\xa0♪ ♪ A white woman’s Instagram\\xa0♪ ♪ White woman\\xa0♪ ♪ A white woman’s Instagram\\xa0♪ ♪ White woman\\xa0♪ ♪ A white woman’s Instagram\\xa0♪ Here’s a question for you guys. Um… Is it… is it necessary? Is it necessary that every single person on this planet um, expresses every single opinion that they have on every single thing that occurs all at the same time? Is that… is that necessary? Um… Or to ask in a slightly different way, um, can… can anyone shut the fuck up? Can… can anyone, any… any… any one, any single one, can any one… shut the fuck up about anything– About any… any single thing? Can any single person shut the fuck up about any single thing for an hour? You know, is that… is that possible? And I know you’re thinking, “You’re not shutting the fuck up right now,” and that’s true, but… ♪ Who needs a coffee ‘Cause I’m doing a run ♪ ♪ I’m writing down the orders now For everyone\\xa0♪ ♪ The coffee is free, just like me\\xa0♪ ♪ I’m an unpaid intern\\xa0♪ ♪ Sorting papers, running around\\xa0♪ ♪ Sitting in the meeting I’m not making a sound\\xa0♪ ♪ Barely people, somehow legal\\xa0♪ ♪ Unpaid intern\\xa0♪ ♪ You work all day, go back to your dorm\\xa0♪ ♪ And since you can’t afford a mortgage You just torrent a porn\\xa0♪ ♪ ‘Cause you’re an intern\\xa0♪ ♪ Unpaid ♪ Hey, everybody. Um, I thought I’d do a reaction video to the song that you just saw me perform. Thought that might be fun. Um, so I got my laptop all set up. So I’m ready to go, and let’s go. ♪ Who needs a coffee ‘Cause I’m doing a run… ♪ I like this song. Um, so the idea with this song was basically that there’s so many songs in the past about… about working-class jobs, but not a lot about the labor exploitation of the modern world, so that was the idea here. ♪ Barely people, somehow legal… ♪ My beard is a little shorter in this video ’cause I filmed it a couple weeks ago. ♪ Go back to your dorm\\xa0♪ ♪ And since you can’t afford a mortgage You just…\\xa0♪ I think it holds up. The song, not the beard. ♪ Unpaid ♪ And then you cut. I think it’s funny to cut right on– …do a reaction video to the song that you just saw me perform. Thought that might be fun. What… Um, so I got my… Because this video played after that. Right. So, and now… Right. Okay, so I’ll just keep reacting. So, this is me reacting to the song. Um… What I’m doing is I’m explaining what the song means. Um, and what it’s about. I’m being a little pretentious. It’s, uh… it’s an instinct I have where I need everything that I write to have some deeper meaning or something. But it’s a stupid song, and, uh, it doesn’t really mean anything, and, uh, it’s… it’s pretty unlikable that I… that I feel this need, this desperate need, to be seen as intelligent. And the video’s ending here, as you can see, and look, I’m very confused. See, I’m very, very confused. ‘Cause I’m staring at myself, I don’t know what I’m looking at, and I’m starting to catch up now, and realizing what’s going on. And, uh, yeah, now I’m deciding to react to the reaction to the video. So here, um, I’m reacting to my own reacting, and I’m criticizing my initial reaction for… for being pretentious, which is… which is honestly, it’s a… it’s a defense mechanism. I’m… I’m so worried that criticism will be levied against me that I levy it against myself before anyone else can. And I think that, “Oh, if I’m self-aware about being a douchebag, it’ll somehow make me less of a douchebag.” But it… but it doesn’t. Um, self-awareness does not absolve anybody of anything. Am I balding? This is really, really disturbing. I don’t like looking at myself like this, and I want… I want this to stop. Okay, I want this to stop. I’m… I’m stopping this. So, yeah, that was, uh, my reaction to the song, and I hope you enjoyed it. ♪ CEO, entrepreneur\\xa0♪ ♪ Born in\\xa01964\\xa0♪ ♪ Jeffrey\\xa0♪ ♪ Jeffrey Bezos\\xa0♪ ♪ CEO, entrepreneur\\xa0♪ ♪ Born in 1964\\xa0♪ ♪ Jeffrey\\xa0♪ ♪ Jeffrey Bezos\\xa0♪ ♪ Come on, Jeffrey, you can do it\\xa0♪ ♪ Pave the way, put your back into it\\xa0♪ ♪ Tell us why Show us how ♪ ♪ Look at where you came from Look at you now\\xa0♪ ♪ Zuckerberg and Gates and Buffet\\xa0♪ ♪ Amateurs can fucking suck it\\xa0♪ ♪ Fuck their wives, drink their blood\\xa0♪ ♪ Come on, Jeff, get ’em!\\xa0♪ I don’t know about you guys, but, um, you know, I’ve been thinking recently that… that you know, maybe, um, allowing giant digital media corporations to exploit the neurochemical drama of our children for profit… You know, maybe that was, uh… a bad call by us. Maybe… maybe the… the flattening of the entire subjective human experience into a… lifeless exchange of value that benefits nobody, except for, um, you know, a handful of bug-eyed salamanders in Silicon Valley… Maybe that as a… as a way of life forever… maybe that’s, um, not good. I’m… horny. Sexting ♪ It isn’t sex It’s the next best thing ♪ ♪ Sexting\\xa0♪ ♪ Aye, aye ♪ ♪ AT&T\\xa0♪ ♪ I am in bed\\xa0♪ ♪ I am ready to go with you\\xa0♪ ♪ Tonight I’m thinking of taking it slow\\xa0♪ ♪ We’ll use emojis only\\xa0♪ ♪ We don’t need phonetical diction\\xa0♪ ♪ We’ll talk dirty Like we’re ancient Egyptians\\xa0♪ ♪ You send me a peach\\xa0♪ ♪ I send a carrot back\\xa0♪ ♪ You send a Ferris wheel\\xa0♪ ♪ That’s pretty abstract\\xa0♪ ♪ I send back a ticket stub\\xa0♪ ♪ Implying that The Ferris wheel’s your body ♪ ♪ And I’d really love admission to it\\xa0♪ ♪ Oh no!\\xa0♪ ♪ What if now you think That I’m implying ♪ ♪ Your vagina Is as big as a Ferris wheel? ♪ ♪ Damn\\xa0♪ ♪ You send back a snowman\\xa0♪ ♪ Crisis averted\\xa0♪ ♪ Thank God ♪ ♪ Sexting ♪ ♪ It isn’t sex It’s the next best thing ♪ ♪ Sexting\\xa0♪ ♪ Aye, aye ♪ ♪ AT&T\\xa0♪ ♪ No more emojis, now it’s on to words\\xa0♪ ♪ I ask what you’re wearing You reply, “A shirt” ♪ ♪ You say, “Are you naked?” ♪ ♪ I say, “Yeah, except for a top hat”\\xa0♪ ♪ You say, “”lmao.” But I doubt that ♪ I’m getting hot at just the thought Of what I’d do to you ♪ ♪ ‘Cause in my head I’m in your bed And getting through to you ♪ ♪ They made the Internet For nights like these ♪ ♪ I love you, baby Send a picture of your tits, please ♪ ♪ Sexting ♪ ♪ Whoa ♪ ♪ It isn’t sex It’s the next best thing ♪ ♪ Sexting\\xa0♪ ♪ We are sexting ♪ ♪ Aye, aye ♪ ♪ AT&T\\xa0♪ ♪ You send the pic And say it’s now my turn ♪ ♪ Jesus fucking Christ I guess I never learn\\xa0♪ ♪ My phone’s flash is my only light\\xa0♪ ♪ And the flash Makes my dick look frightened\\xa0♪ ♪ I chicken out And send a picture of my face instead\\xa0♪ ♪ Because my dick looks like The baby from Eraserhead ♪ ♪ You say, “I sent my titties That’s not fair”\\xa0♪ ♪ So I send it to you And then my phone dies ♪ ♪ Another night on my own, yeah\\xa0♪ ♪ Stuck in my home, yeah\\xa0♪ ♪ Sitting alone, one hand on my dick And one hand on my phone, yeah\\xa0♪ ♪ Another night on my own, yeah\\xa0♪ ♪ Stuck in my home, yeah\\xa0♪ ♪ Sitting alone, one hand on my dick And one hand on my phone, yeah\\xa0♪ ♪ Another night on my own, yeah\\xa0♪ ♪ Stuck in my home, yeah\\xa0♪ ♪ Sitting alone, one hand on my dick\\xa0♪ ♪ And one hand on my phone, yeah ♪ ♪ Pussy ♪ ♪ Another night on my own, yeah ♪ ♪ Titties ♪ ♪ Stuck in my home, yeah ♪ ♪ Balls ♪ ♪ Sitting alone, one hand on my dick And one hand on my phone, yeah\\xa0♪ Hey, everybody. Um, I just wanted to make a really quick video to say thank you. Thank you for watching my content. As you guys know, I work really hard to try to bring you guys high-quality content that I think you’ll enjoy. So the fact that you are enjoying it, means everything to me. So thank you, and also keep watching, ’cause there’s a lot more content where that came from. All right, guys, see you later. ♪ Trying to be funny and stuck in a room\\xa0♪ ♪ There isn’t much more to say about it\\xa0♪ ♪ Can one be funny when stuck in a room?\\xa0♪ I took a big fucking breath. ♪ Trying to be funny and stuck in a room\\xa0♪ ♪ There isn’t much more to say about it\\xa0♪ ♪ Can one be funny when stuck in a room?\\xa0♪ ♪ Being in Trying to get something out of it\\xa0♪ ♪ Try making faces\\xa0♪ ♪ Try telling jokes\\xa0♪ ♪ Making little sounds\\xa0♪ ♪ I was a kid who was stuck in his room\\xa0♪ ♪ There isn’t much more to say about it\\xa0♪ ♪ When you’re a kid And you’re stuck in your room\\xa0♪ ♪ You’ll do any old shit To get out of it ♪ ♪ Try making faces\\xa0♪ ♪ Try telling jokes\\xa0♪ ♪ Making little sounds\\xa0♪ ♪ Well, well\\xa0♪ ♪ Look who’s inside again\\xa0♪ ♪ Went out to look\\xa0♪ ♪ For a reason to hide again\\xa0♪ ♪ Well, well\\xa0♪ ♪ Buddy, you found it\\xa0♪ ♪ Now come out with your hands up\\xa0♪ ♪ We’ve got you surrounded\\xa0♪ One more. ♪ I grew up as your usual suburbanite\\xa0♪ ♪ A tiny town in Massachusetts Overwhelmingly white\\xa0♪ ♪ I went to church on Sundays In a suit and a tie\\xa0♪ ♪ Then spent my free time Watching Family Guy ♪ ♪ I started doing comedy When I was just a sheltered kid\\xa0♪ ♪ I wrote offensive shit And I said it\\xa0♪ ♪ Father, please forgive me For I did not realize what I did\\xa0♪ ♪ Or that I’d live to regret it\\xa0♪ ♪ Times are changing And I’m getting old ♪ ♪ Are you gonna hold me accountable?\\xa0♪ ♪ My bed is empty, and I’m getting cold\\xa0♪ ♪ Isn’t anybody gonna Hold me accountable? ♪ ♪ I’m problematic\\xa0♪ ♪ He’s a problem\\xa0♪ ♪ When I was 17, on Halloween\\xa0♪ ♪ I dressed up as Aladdin\\xa0♪ ♪ He’s a problem\\xa0♪ ♪ I did not darken my skin\\xa0♪ ♪ But still it feels weird in hindsight\\xa0♪ ♪ I want to show you How I’m growing as a person, but first\\xa0♪ ♪ I feel I must address the lyrics From the previous verse\\xa0♪ ♪ I tried to hide behind my childhood And that’s not okay\\xa0♪ ♪ My actions are my own I won’t explain them away\\xa0♪ ♪ I’ve done a lot of self-reflecting Since I started singing this song\\xa0♪ ♪ I was totally wrong when I said it\\xa0♪ ♪ Father, please forgive me For I did not realize what I did\\xa0♪ ♪ Or that I’d live to regret it\\xa0♪ ♪ Times are changing And I’m getting old ♪ ♪ Are you gonna hold me accountable?\\xa0♪ ♪ My bed is empty, and I’m getting cold\\xa0♪ ♪ Isn’t anybody gonna Hold me accountable? ♪ ♪ I’m problematic\\xa0♪ ♪ He’s a problem\\xa0♪ ♪ I just remembered that Aladdin costume’s In my mother’s attic\\xa0♪ ♪ He’s a problem ♪ ♪ I’m gonna go home and burn it… ♪ Or not burn it. Is burning it bad? What should I do with it? ♪ And I’ve been totally awful\\xa0♪ ♪ My closet is chock-full of stuff That is vaguely shitty\\xa0♪ ♪ All of it was perfectly lawful\\xa0♪ ♪ Just not very thoughtful at all And just really shitty\\xa0♪ ♪ And I’ve been totally awful\\xa0♪ ♪ My closet is chock-full of stuff That is vaguely shitty\\xa0♪ ♪ All of it was perfectly lawful\\xa0♪ ♪ Just not very thoughtful at all And just really\\xa0♪ ♪ And I’m really fucking sorry\\xa0♪ ♪ Bitch, I’m trying to listen Shit, I’ve been complacent\\xa0♪ ♪ Sorry\\xa0♪ ♪ If I’m gonna catch up First, I gotta fess up\\xa0♪ ♪ Sorry\\xa0♪ ♪ Sorry\\xa0♪ Sh– So, um… I’ve been working on this special now for six months. And… the whole time I’ve had a… a goal in mind, which is I wanted to finish this thing before I turned 30. Um, because the idea of… of turning 30, while still in this fucking room, working on this thing alone, um, that just seemed… I just… I just wanted to avoid that. So… And you might be thinking, “Well, that’s fine. You know, look at you.” “You radiate such youth.” “You must not be turning 30 for years.” And that’s very, uh, nice of you to say. But the truth is um, I turn 30 in less than a minute. So I’m just gonna sit here and enjoy uh, my twenties, and then\\xa0get back to work. Yay. ♪ I used to run for miles\\xa0♪ ♪ I used to ride my bike\\xa0♪ ♪ I used to wake up with a smile\\xa0♪ ♪ And go\\xa0to bed at night with a dream\\xa0♪ Ah. ♪ But now I’m turning 30\\xa0♪ ♪ No!\\xa0♪ ♪ I used to be the young one\\xa0♪ ♪ Got used to meeting people\\xa0♪ ♪ Who were used to meeting someone\\xa0♪ ♪ Who was born in 1990\\xa0♪ ♪ No way!\\xa0♪ Yeah, I was born in 1990. ♪ Now I’m turning 30\\xa0♪ God… God damn it. ♪ I’m ♪ ♪ Turning 30, turning 30 ♪ ♪ Turning ♪ ♪ Turning 30, turning 30 ♪ ♪ Thirty ♪ ♪ Turning 30, turning 30 ♪ ♪ I’m turning 30 ♪ ♪ Turning 30, turning 30 ♪ ♪ When he was 27\\xa0♪ ♪ My granddad fought in Vietnam\\xa0♪ ♪ When I was 27\\xa0♪ ♪ I built a birdhouse with my mom\\xa0♪ Oh fuck. ♪ How am I 30?\\xa0♪ ♪ I used to make fun of the boomers\\xa0♪ ♪ In retrospect, a bit too much\\xa0♪ ♪ Now all these fucking zoomers\\xa0♪ ♪ Are telling me that I’m out of touch ♪ Oh yeah? Well, your fucking phones are poisoning your minds. Okay? So when you develop a dissociative mental disorder in your late twenties, don’t come crawling back to me. ♪ I’m ♪ ♪ Turning 30, turning 30 ♪ ♪ Turning ♪ ♪ Turning 30, turning 30 ♪ ♪ Thirty ♪ ♪ Turning 30, turning 30 ♪ ♪ I’m turning 30 ♪ ♪ Turning 30, turning 30 ♪ ♪ And now my stupid friends Are having stupid children\\xa0♪ ♪ My stupid friends Are having stupid children\\xa0♪ ♪ My stupid friends Are having stupid children\\xa0♪ ♪ My stupid friends Are having stupid children\\xa0♪ ♪ And now my stupid friends Are having stupid children\\xa0♪ ♪ My stupid friends Are having stupid children\\xa0♪ ♪ My stupid friends Are having stupid children\\xa0♪ ♪ Stupid, fucking ugly, boring children\\xa0♪ ♪ It’s 2020, and I’m 30\\xa0♪ ♪ I’ll do another ten\\xa0♪ ♪ 2030 I’ll be 40 and kill myself then\\xa0♪ Okay. Check that one. We’ll do one more. I just wanna say for the record, um, that I do not want to kill myself, okay? I don’t wanna kill myself, and I’m not going to kill myself. Um, and if you’re out there and you’re struggling with suicidal thoughts and you want to kill yourself, I just want to tell you don’t. Okay? Can you not, please? Just don’t. All right? Fucking quit it with the– But really, don’t kill yourself. You don’t want to, because… There are people that love you… That’s not true necessarily, but there could be people that love you in the future, and just don’t. I’ve had people close to me kill themselves, and I’ll be honest with you, didn’t love it. Didn’t love that. So just don’t. But if I could kill myself for a year… If I can– I’d do it today. If I could kill myself today and be dead until like 18 months from now, um, I would do it, but alas… when you kill yourself, you’re dead forever, and we shouldn’t be dead forever yet. So let’s not. Right? Come on, guys. ♪ How are you feeling?\\xa0♪ ♪ Do you like the show?\\xa0♪ ♪ Are you tired of it?\\xa0♪ ♪ Never mind, I don’t wanna know\\xa0♪ ♪ Are you finding it boring?\\xa0♪ ♪ Too fast, too slow?\\xa0♪ ♪ I’m asking but don’t answer\\xa0♪ ♪ ‘Cause I don’t wanna know\\xa0♪ ♪ Do I have your attention?\\xa0♪ ♪ Yes or no?\\xa0♪ ♪ I bet I’d guess the answer\\xa0♪ ♪ But I don’t wanna know\\xa0♪ ♪ Am I on in the background?\\xa0♪ ♪ Are you on your phone?\\xa0♪ ♪ I’d ask you what you’re watching\\xa0♪ ♪ But I don’t wanna know\\xa0♪ ♪ Is there anyone out there?\\xa0♪ ♪ Or am I all alone?\\xa0♪ ♪ It wouldn’t make a difference\\xa0♪ ♪ Still I don’t wanna know\\xa0♪ ♪ I thought it’d be over by now\\xa0♪ ♪ But I got a while to go\\xa0♪ ♪ I’d give away the ending\\xa0♪ ♪ But you don’t wanna kn–\\xa0♪ What’s up, boys. Welcome to the stream. Um, I’m gonna be doing some live play today for the first time in a while. Uh, you guys have been wanting that, so we’re gonna do– This is the title, Inside. I’ve got a lot of requests for this game in chat. It’s some indie developer. I’m not really sure. I’m going in totally cold on this. Um, JB, thank you for the three months. My dude, much appreciated. Um… Okay. That looks pretty good, graphics-wise. I mean, I know it’s a cinematic, but… So we’re gonna be trying to do live plays every day this week, so tune in for that. I would be gifting 30 subs at the end of the week. Um, day 50, 250… All right, so this dude’s been in here for a while. So is this like an escape the room? Or… Okay. So I can cry. So he’s… he’s not happy about being in this room. I like the music. The music is actually nice on this. Controls are actually pretty smooth. So you’re in this like 2D set up, right? Like, I can’t control the camera. Um… I’ll give it– I guess I’ll cry again. He’s– So is the dude big, or is the room small? That’s what I’m confused about. Chat’s saying, try the door. Yeah, well, okay. I mean, I don’t think it’s gonna be that simple, but I will. Yeah, there ya go. Um, okay, Well, I think he’ll probably cry again. It’s tough, dude. It’s tough. He’s been in here a while. Um, see, I don’t like that. I don’t know why they feel the need to give the hint so quick. I just wish they’d let me… let me explore a little bit. Wha… I’m holding the flashlight like a… like a cop. Why is he doing that? Ah. All right. Okay. So… All right. Okay, he seems a little happier now. That’s nice. I don’t know. I’ll cry, I guess, again. Okay, I’m not sure what I’m supposed to be do– Oh! Nice. Okay, yeah. Yeah, great. Um… All right, I’m into this. Yeah, it’s giving me sort of like Death Stranding vibes, you know, ’cause it’s, like, it’s fucking boring, but that’s, like, the point, I think. Dante, thank you for the four months. Appreciate it. How we feeling out there tonight? Yeah. I am not feeling good. ♪ Wake up at 11:30\\xa0♪ ♪ Feeling like a bag of shit ♪ ♪ Oh no! ♪ ♪ All my clothes are dirty So I’m smelling like a bag of shit\\xa0♪ ♪ Go to pour my coffee, and I miss my cup OMG, that is just my luck\\xa0♪ ♪ Look in the mirror Say, “What’s up, you useless fuck?” ♪ ♪ Are you feeling what I’m feeling?\\xa0♪ ♪ I haven’t had a shower In the last nine days\\xa0♪ ♪ Ah ♪ ♪ Staring at the ceiling\\xa0♪ ♪ And waiting For this feeling to go away ♪ ♪ But it won’t go away\\xa0♪ ♪ I’m not really feeling Like I wanna get lit\\xa0♪ ♪ Tell us how you’re feeling ♪ ♪ Well, I feel like shit ♪ ♪ Oh, shit ♪ ♪ Feeling like A saggy, massive sack of shit ♪ ♪ Oh, shit ♪ ♪ Big ‘ol motherfucking Duffel bag of shit ♪ ♪ Oh, shit ♪ ♪ All day, all shit\\xa0♪ ♪ I’m not really feeling Like I wanna get lit\\xa0♪ ♪ Tell us how you’re feeling ♪ ♪ I’m feeling like shit ♪ ♪ Ladies, do you feel like shit? ♪ ♪ Yeah ♪ ♪ Tell me, do you feel like shit? ♪ ♪ Oh yeah ♪ ♪ Fellas, are you feeling like shit? ♪ ♪ Huh ♪ ♪ Tell me, are you feeling like shit? ♪ ♪ Oh yeah ♪ ♪ Ladies, do you feel like shit? ♪ ♪ Yeah? ♪ ♪ Tell me, do you feel like shit? ♪ ♪ Oh yeah ♪ ♪ Fellas, are you feeling like shit? ♪ ♪ Huh? ♪ ♪ Tell me, are you feeling like shit? ♪ ♪ Oh yeah ♪ So, um, my… uh, my current mental health is… is… rapidly approaching, um, an ATL, which is, um, that’s an “all-time low,” not… not Atlanta. And… You know, I feel okay when I’m asleep. Like when I’m asleep, I feel all right, but it’s basically from the moment I wake up, I, uh, I just get this– ♪ Feeling in my body\\xa0♪ ♪ Way down deep inside me\\xa0♪ ♪ I try not to fight it ♪ ♪ Describe it ♪ ♪ All right A few things start to happen ♪ ♪ My vision starts to flatten\\xa0♪ ♪ My heart, it gets to tappin’\\xa0♪ ♪ And I think I’m gonna die\\xa0♪ Yeah, so, um… Yeah. Not… Not doing great. ♪ Welcome to the Internet\\xa0♪ ♪ Have a look around\\xa0♪ ♪ Anything that brain of yours Can think of can be found\\xa0♪ ♪ We’ve got mountains of content\\xa0♪ ♪ Some better, some worse\\xa0♪ ♪ If none of it’s of interest to you You’d be\\xa0the first\\xa0♪ ♪ Welcome to the Internet\\xa0♪ ♪ Come and take a seat\\xa0♪ ♪ Would you like to see the news Or any famous women’s feet?\\xa0♪ ♪ There’s no need to panic This isn’t a test\\xa0♪ ♪ Just nod or shake your head And we’ll do the rest\\xa0♪ ♪ Welcome to the Internet\\xa0♪ ♪ What would you prefer?\\xa0♪ ♪ Would you like to fight For civil rights or tweet a racial slur?\\xa0♪ ♪ Be happy, be horny Be bursting with rage\\xa0♪ ♪ We got a million different ways To engage ♪ ♪ Welcome to the Internet\\xa0♪ ♪ Put your cares aside\\xa0♪ ♪ Here’s a tip for straining pasta Here’s a nine-year-old who died\\xa0♪ ♪ We got movies and doctors And fantasy sports\\xa0♪ ♪ And a bunch of colored-pencil drawings Of all the characters in Harry Potter ♪ ♪ Fucking each other Welcome to the Internet\\xa0♪ ♪ Hold on to your socks\\xa0♪ ♪ ‘Cause a random guy just kindly sent you Photos of his cock\\xa0♪ ♪ They are grainy and off-putting He just sent you more\\xa0♪ ♪ Don’t act surprised You know you like it, you whore\\xa0♪ ♪ See a man beheaded Get offended, see a shrink\\xa0♪ ♪ Show us pictures of your children Tell us every thought you think\\xa0♪ ♪ Start a rumor, buy a broom Or send a death threat to a boomer\\xa0♪ ♪ Or DM a girl and groom her Do a Zoom or find a tumor\\xa0♪ ♪ And here’s a healthy breakfast option You should kill your mom\\xa0♪ ♪ Here’s why women never fuck you Here’s how you can build a bomb\\xa0♪ ♪ Which Power Ranger are you? Take this\\xa0quirky quiz\\xa0♪ ♪ Obama sent the immigrants To vaccinate your kids\\xa0♪ ♪ Could I interest you in everything All of the time?\\xa0♪ ♪ A little bit of everything All of the time ♪ ♪ Apathy’s a tragedy And boredom is a crime ♪ ♪ Anything and everything All of the time ♪ ♪ Could I interest you in everything All of the time?\\xa0♪ ♪ A little bit of everything All of the time ♪ ♪ Apathy’s a tragedy And boredom is a crime ♪ ♪ Anything and everything All of the time ♪ You know, it wasn’t always like this. ♪ Not very long ago\\xa0♪ ♪ Just before your time\\xa0♪ ♪ Right before the towers fell\\xa0♪ ♪ Circa ’99\\xa0♪ ♪ This was catalogues\\xa0♪ ♪ Travel blogs\\xa0♪ ♪ A chat room or two\\xa0♪ ♪ We set our sights and spent our nights\\xa0♪ ♪ Waiting\\xa0♪ ♪ For you\\xa0♪ ♪ You\\xa0♪ ♪ Insatiable you\\xa0♪ ♪ Mommy let you use her iPad\\xa0♪ ♪ You were barely two\\xa0♪ ♪ And it did all the things\\xa0♪ ♪ We designed it to do\\xa0♪ ♪ Now look at you\\xa0♪ Oh. ♪ Look at you\\xa0♪ ♪ You, you ♪ ♪ Unstoppable, watchable\\xa0♪ ♪ Your time is now\\xa0♪ ♪ Your inside’s out\\xa0♪ ♪ Honey, how you grew\\xa0♪ ♪ And if we stick together\\xa0♪ ♪ Who knows what we’ll do\\xa0♪ ♪ It was always the plan\\xa0♪ ♪ To put the world in your hand\\xa0♪ ♪ Could I interest you in everything All of the time?\\xa0♪ ♪ A bit of everything all of the time\\xa0♪ ♪ Apathy’s a tragedy And boredom is a crime ♪ ♪ Anything and everything All of the time ♪ ♪ Could I interest you in everything All of the time?\\xa0♪ ♪ A little bit of everything All of the time ♪ ♪ Apathy’s a tragedy And boredom is a crime ♪ ♪ Anything and everything And anything and everything\\xa0♪ ♪ And anything and everything All of the time ♪ I’ve been freaking out for a long time, thinking I’m never gonna finish this special\\xa0and be working on it forever. And recently, I’ve been feeling like, “Oh, man, maybe I am getting close to done with this.” “Maybe I’m gonna finish it after all.” And that has made me completely freak out because if I finish this special, that means that I have to, um, not work on it anymore. And that means I have to just live my life, and so I’m not gonna do that, and I’m gonna not finish the special. I’m gonna work on it forever, I think. So, yeah, I’m gonna work on this forever, and I’m never gonna release it. I’m not talking to anybody now. I’m just talking to myself. So, yeah, who fucking cares? Fuck you, and goodbye, and let’s keep going. ♪ Jeffrey Bezos\\xa0♪ ♪ Jeffrey Bezos\\xa0♪ ♪ Jeffrey Bezos\\xa0♪ ♪ Ah\\xa0♪ ♪ Jeffrey Bezos\\xa0♪ ♪ Jeffrey Bezos\\xa0♪ ♪ Jeffrey Bezos\\xa0♪ ♪ You did it!\\xa0♪ ♪ Jeffrey Bezos\\xa0♪ ♪ Jeffrey Bezos\\xa0♪ ♪ Jeffrey Bezos\\xa0♪ ♪ Congratulations! ♪ Man, you guys are a great crowd. Give it up for yourselves for coming out, by the way, tonight. Give it up. Supporting live comedy in these weird times. Um, it’s crazy. Um… These are some pretty crazy times, but it’s nice during these crazy times that we can get together. We can laugh. You know? Um… I’ve learned something over this last year, which is pretty funny. Um, I’ve learned that real-world human-to-human tactile contact will kill you, and that all human interaction, whether it be social, political, spiritual, sexual, or interpersonal should be contained in the much more safe, much more real interior digital space. That the outside world, the non-digital world, is merely a theatrical space in which one stages and records content for the much more real, much more vital digital space. One should only engage with the outside world as one engages with a coal mine. Suit up, gather what is needed, and return to the surface. Um… And is it just me, or do pirates need to take a little bit better care of their fuckin’ maps? You know, when I find a pirate’s map, it’s… it’s always tea-stained, and the edges are burnt, and it’s like if you’re a pirate, all right, and you’re gonna make this map and expect me to carry it around the globe as I search for your treasure, then laminate it. I can’t really, uh, play the guitar very well, um, or sing, so… You know, apologies. ♪ Stunning 8K resolution meditation app\\xa0♪ ♪ In honor of the revolution\\xa0♪ ♪ It’s half-off at the Gap\\xa0♪ ♪ Deadpool, self-awareness\\xa0♪ ♪ Loving parents, harmless fun\\xa0♪ ♪ The backlash to the backlash\\xa0♪ ♪ To the thing that’s just begun\\xa0♪ ♪ There it is\\xa0♪ ♪ Again\\xa0♪ ♪ That funny feeling\\xa0♪ ♪ That funny feeling\\xa0♪ ♪ There it is\\xa0♪ ♪ Again\\xa0♪ ♪ That funny feeling\\xa0♪ ♪ That funny feeling\\xa0♪ ♪ The surgeon general’s pop-up shop\\xa0♪ ♪ Robert Iger’s face\\xa0♪ ♪ Discount Etsy agitprop\\xa0♪ ♪ Bugle’s take on race\\xa0♪ ♪ Female Colonel Sanders\\xa0♪ ♪ Easy answers, civil war\\xa0♪ ♪ The whole world at your fingertips\\xa0♪ ♪ The ocean at your door\\xa0♪ ♪ The live-action Lion King\\xa0♪ ♪ The Pepsi halftime show\\xa0♪ ♪ Twenty thousand years of this\\xa0♪ ♪ Seven more to go\\xa0♪ ♪ Carpool Karaoke\\xa0♪ ♪ Steve Aoki, Logan Paul\\xa0♪ ♪ A gift shop at the gun range\\xa0♪ ♪ A mass shooting at the mall\\xa0♪ ♪ There it is\\xa0♪ ♪ Again\\xa0♪ ♪ That funny feeling\\xa0♪ ♪ That funny feeling\\xa0♪ ♪ There it is\\xa0♪ ♪ Again\\xa0♪ ♪ That funny feeling\\xa0♪ ♪ That funny feeling\\xa0♪ ♪ Reading Pornhub’s terms of service\\xa0♪ ♪ Going for a drive\\xa0♪ ♪ And obeying all the traffic laws\\xa0♪ ♪ In Grand Theft Auto 5\\xa0♪ ♪ Full agoraphobic\\xa0♪ ♪ Losing focus, cover blown\\xa0♪ ♪ A book on getting better\\xa0♪ ♪ Hand-delivered by a drone\\xa0♪ ♪ Total disassociation\\xa0♪ ♪ Fully out your mind\\xa0♪ ♪ Googling “derealization” ♪ ♪ Hating what you find\\xa0♪ ♪ That unapparent summer air\\xa0♪ ♪ In early fall\\xa0♪ ♪ The quiet comprehending\\xa0♪ ♪ Of the ending of it all\\xa0♪ ♪ There it is\\xa0♪ ♪ Again\\xa0♪ ♪ That funny feeling\\xa0♪ ♪ That funny feeling\\xa0♪ ♪ There it is\\xa0♪ ♪ Again\\xa0♪ ♪ That funny feeling\\xa0♪ ♪ That funny feeling\\xa0♪ ♪ Hey, what can ya say?\\xa0♪ ♪ We were overdue\\xa0♪ ♪ But it’ll be over soon\\xa0♪ ♪ You wait\\xa0♪ ♪ Hey, what can ya say?\\xa0♪ ♪ We were overdue\\xa0♪ ♪ But it’ll be over soon\\xa0♪ ♪ Just wait\\xa0♪ ♪ Hey, what can ya say?\\xa0♪ ♪ We were overdue\\xa0♪ ♪ But it’ll be over soon\\xa0♪ ♪ You wait\\xa0♪ ♪ Hey, what can ya say?\\xa0♪ ♪ We were overdue\\xa0♪ ♪ But it’ll be over soon\\xa0♪ ♪ You wait ♪ ♪ Hey, what can ya say?\\xa0♪ ♪ We were overdue\\xa0♪ ♪ But it’ll be over soon\\xa0♪ ♪ You wait\\xa0♪ So, I– Jesus. So I’ve been working on this, uh, special for… a year now. It– Fucking… So I’ve been working on this special for, um, a year now, which is, um, a lot longer than I anticipated working on it. When I started… So I’ve been working on– I fucking… I can’t. I fucking… Fucking… I am… not… um, well. Thank you, guys. Thank you very much. Thank you. You guys have been incredible. Thank you. I couldn’t have done this without you guys. I couldn’t, really. I… This last year has been… You know, there have been times that, um… But just knowing you’re here, you know, feeling you here with me. Um… Yeah, thank you. You know, I hate to ask because, uh, you’ve given me so much. But… I need you to do one more thing for me. Can you do that? ♪ Get your fuckin’ hands up\\xa0♪ ♪ Get on out of your seats\\xa0♪ ♪ All eyes on me All eyes on me ♪ ♪ Get your fuckin’ hands up\\xa0♪ ♪ Get on out of your seats\\xa0♪ ♪ All eyes on me All eyes on me ♪ ♪ Are you feeling nervous?\\xa0♪ ♪ Are you having fun?\\xa0♪ ♪ It’s almost over\\xa0♪ ♪ It’s just begun\\xa0♪ ♪ Don’t overthink this\\xa0♪ ♪ Look in my eye\\xa0♪ ♪ Don’t be scared, don’t be shy\\xa0♪ ♪ Come on in, the water’s fine\\xa0♪ ♪ We’re going to go Where everybody knows ♪ ♪ Everybody knows\\xa0♪ ♪ Everybody\\xa0♪ ♪ We’re going to go Where everybody knows ♪ ♪ Everybody knows\\xa0♪ ♪ Get your fuckin’ hands up\\xa0♪ ♪ Get on out of your seat\\xa0♪ ♪ All eyes on me All eyes on me ♪ ♪ Get your fuckin’ hands up\\xa0♪ ♪ Get on out of your seat\\xa0♪ ♪ All eyes on me All eyes on me, yeah ♪ ♪ Hands down\\xa0♪ ♪ Pray for me\\xa0♪ ♪ Heads down now\\xa0♪ ♪ Pray for me\\xa0♪ ♪ Get your fuckin’ hands up\\xa0♪ ♪ Get on out of your seat\\xa0♪ ♪ All eyes on me All eyes on me ♪ You want to hear a funny story? So, uh, five years ago, I quit performing live comedy, because I was beginning to have, uh, severe panic attacks while on stage, which is not a great place to have them. So, I… I quit. And I didn’t perform for five years, and I spent that time… trying to improve myself mentally. And you know what? I did! I got better. I got so much better, in fact, that in January of 2020, I thought, “You know what, I should… start performing again.” “I’ve been hiding from the world, and I need to… reenter.” And then… the funniest thing happened. ♪ Are you feeling nervous?\\xa0♪ ♪ Are you having fun?\\xa0♪ ♪ It’s almost over\\xa0♪ ♪ It’s just begun\\xa0♪ ♪ Don’t overthink this\\xa0♪ ♪ Look in my eye\\xa0♪ ♪ Don’t be scared, don’t be shy\\xa0♪ ♪ Come on in, the water’s fine\\xa0♪ ♪ You say the ocean’s rising\\xa0♪ ♪ Like I give a shit\\xa0♪ ♪ You say the whole world’s ending\\xa0♪ ♪ Honey, it already did ♪ ♪ You’re not gonna slow it\\xa0♪ ♪ Heaven knows you tried\\xa0♪ ♪ Got it? Good. Now get inside ♪ ♪ We’re going to go Where everybody knows ♪ ♪ Everybody knows\\xa0♪ ♪ Everybody knows\\xa0♪ ♪ We’re going to go Where everybody knows ♪ ♪ Everybody knows\\xa0♪ ♪ Come on, get your fuckin’ hands up\\xa0♪ ♪ Get on out of your seat\\xa0♪ ♪ All eyes on me All eyes on me ♪ ♪ Come on, get your fuckin’ hands up\\xa0♪ ♪ Get on out of your seat\\xa0♪ ♪ All eyes on me All eyes on me, yeah ♪ ♪ Hands down\\xa0♪ ♪ Pray for me\\xa0♪ ♪ Heads down now\\xa0♪ ♪ Pray for me\\xa0♪ ♪ I said, get your fuckin’ hands up…\\xa0♪ Get up. Get up. I’m talking to you, get the fuck up! ♪ Get your fuckin’ hands up\\xa0♪ ♪ Get on out of your seat\\xa0♪ ♪ All eyes on me All eyes on me ♪ ♪ Hey, now get your fuckin’ hands up\\xa0♪ ♪ Get on out of your seat\\xa0♪ ♪ All eyes on me All eyes on me, yeah\\xa0♪ ♪ Come on, hands down\\xa0♪ ♪ Pray for me\\xa0♪ ♪ Heads down now\\xa0♪ ♪ Pray for me\\xa0♪ ♪ I said get your fuckin’ hands up\\xa0♪ ♪ Get–\\xa0♪ ♪ All eyes on me All eyes on me ♪ Hi. Welcome to, uh, whatever this is, um… I think– I think I’m… I’m done. Um, possible… uh, ending song that is not finished yet. Test. Take one. ♪ So long\\xa0♪ ♪ Goodbye\\xa0♪ ♪ I’ll see you when I see you\\xa0♪ ♪ You can pick the street\\xa0♪ ♪ I’ll meet you on the other side\\xa0♪ ♪ So long\\xa0♪ ♪ Goodbye\\xa0♪ ♪ Do I really have to finish?\\xa0♪ ♪ Do returns always diminish?\\xa0♪ ♪ Did I say that right?\\xa0♪ ♪ Does anybody want To joke when no one’s ♪ ♪ Laughing in the background?\\xa0♪ ♪ So this is how it ends\\xa0♪ ♪ I promise\\xa0♪ ♪ To never go outside again\\xa0♪ ♪ So long\\xa0♪ ♪ Bye\\xa0♪ ♪ I’m slowly losing power\\xa0♪ ♪ Has it only been an hour?\\xa0♪ ♪No, that can’t be right\\xa0♪ ♪ So long\\xa0♪ ♪ Goodbye\\xa0♪ ♪ Hey, here’s a fun idea\\xa0♪ ♪ How about I sit on the couch\\xa0♪ ♪ And I watch you next time\\xa0♪ ♪ I wanna hear you tell\\xa0♪ ♪ A joke when no one’s\\xa0♪ ♪ Laughing in the background\\xa0♪ ♪ So this is how it ends\\xa0♪ ♪ I promise\\xa0♪ ♪ To never go outside again\\xa0♪ ♪ Am I going crazy?\\xa0♪ ♪ Would I even know?\\xa0♪ ♪ Am I right back where I started Fourteen years ago?\\xa0♪ ♪ Wanna guess the ending?\\xa0♪ ♪ If it ever does\\xa0♪ ♪ I swear to God That all I’ve ever wanted ♪ ♪ Was a little bit of everything\\xa0♪ ♪ All of the time\\xa0♪ ♪ A bit of everything all of the time\\xa0♪ ♪ Apathy’s a tragedy And boredom is a crime ♪ ♪ I’m finished playing And I’m staying inside\\xa0♪ ♪ If I wake up in a house That’s full of smoke\\xa0♪ ♪ I’ll panic So call me up and tell me a joke\\xa0♪ ♪ When I’m fully irrelevant And totally broken, damn it ♪ ♪ Call me up and tell me a joke\\xa0♪ ♪ Oh shit\\xa0♪ ♪ You’re really joking At a time like this ♪ ♪ Well, well ♪ ♪ Look who’s inside again\\xa0♪ ♪ Went out to look\\xa0♪ ♪ For a reason to hide again\\xa0♪ ♪ Well, well\\xa0♪ ♪ Buddy, you found it\\xa0♪ ♪ Now come out with your hands up\\xa0♪ ♪ We’ve got you surrounded\\xa0♪ ♪ It’ll stop any day now\\xa0♪ ♪ Any day now\\xa0♪ ♪ Any day now\\xa0♪ ♪ It’ll stop any day now\\xa0♪ ♪ Any day now\\xa0♪ ♪ Any day now\\xa0♪ ♪ It’ll stop any day now\\xa0♪ ♪ Any day now\\xa0♪ ♪ Any day now\\xa0♪ ♪ It’ll stop any day now\\xa0♪ ♪ Any day now\\xa0♪ ♪ Any day\\xa0now\\xa0♪ ♪ It’ll stop any day now\\xa0♪ ♪ Any day now\\xa0♪ ♪ Any day now\\xa0♪ ♪ It’ll stop any day now\\xa0♪ ♪ Any day now\\xa0♪ Brilliant. This is brilliant. I love this thank you. Your email address will not be published. Required fields are marked * Name* E-mail* Website  \\n\\n Dave Chappelle talks about Kanye West, the 2022 midterm elections and Donald Trump. Dave Chappelle delivers a speech at his prestigious alma mater that reflects on his comedy roots, his rise to fame and why artists “should never behave.” With topics ranging from tight rompers to ugly bras to why every man needs a box spring, Iliza remains the hilarious, affecting voice of her generation. Features Gabriel “Fluffy” Iglesias as he talks about growing up in Los Angeles, an attempt at extortion towards him, and where he holds the record for receiving the highest fine on stage.'"
            ]
          },
          "execution_count": 40,
          "metadata": {},
          "output_type": "execute_result"
        }
      ],
      "source": [
        "data_df.transcript.loc['burnham']"
      ]
    },
    {
      "cell_type": "code",
      "execution_count": 41,
      "metadata": {
        "colab": {
          "background_save": true
        },
        "collapsed": true,
        "id": "-HL8aOqIlhOJ"
      },
      "outputs": [],
      "source": [
        "# Apply a first round of text cleaning techniques\n",
        "import re\n",
        "import string\n",
        "\n",
        "def clean_text_round1(text):\n",
        "    '''Make text lowercase, remove text in square brackets, remove punctuation and remove words containing numbers.'''\n",
        "    text = text.lower()\n",
        "    text = re.sub('\\[.*?\\]', '', text)\n",
        "    text = re.sub('[%s]' % re.escape(string.punctuation), '', text)\n",
        "    text = re.sub('\\w*\\d\\w*', '', text)\n",
        "    return text\n",
        "\n",
        "round1 = lambda x: clean_text_round1(x)"
      ]
    },
    {
      "cell_type": "code",
      "execution_count": 42,
      "metadata": {
        "colab": {
          "background_save": true
        },
        "id": "yoT_J8pBlhOJ",
        "outputId": "b3c24a7d-aa95-4bb0-8ffe-088ad43bfe99"
      },
      "outputs": [
        {
          "data": {
            "text/html": [
              "<div>\n",
              "<style scoped>\n",
              "    .dataframe tbody tr th:only-of-type {\n",
              "        vertical-align: middle;\n",
              "    }\n",
              "\n",
              "    .dataframe tbody tr th {\n",
              "        vertical-align: top;\n",
              "    }\n",
              "\n",
              "    .dataframe thead th {\n",
              "        text-align: right;\n",
              "    }\n",
              "</style>\n",
              "<table border=\"1\" class=\"dataframe\">\n",
              "  <thead>\n",
              "    <tr style=\"text-align: right;\">\n",
              "      <th></th>\n",
              "      <th>transcript</th>\n",
              "    </tr>\n",
              "  </thead>\n",
              "  <tbody>\n",
              "    <tr>\n",
              "      <th>brennan</th>\n",
              "      <td>all right let me explain friend of mine… “former friend” we’ll call her  …is an artist right and the theme of our friendship is kind of feeling alone in the world right so i wrote thi...</td>\n",
              "    </tr>\n",
              "    <tr>\n",
              "      <th>burnham</th>\n",
              "      <td>exploring mental health decline over  the constant challenges our world faces and the struggles of life itself bo burnham creates a wonderful masterpiece to explain each of these both fr...</td>\n",
              "    </tr>\n",
              "    <tr>\n",
              "      <th>burr</th>\n",
              "      <td>recorded live at the royal albert hall london england   ladies and gentlemen please welcome bill burr all right thank you thank you very much thank you thank you thank you thank you how ...</td>\n",
              "    </tr>\n",
              "    <tr>\n",
              "      <th>carlin</th>\n",
              "      <td>recorded on january –  state theatre new brunswick new jersey so you want to talk about it oh yeah it all started in  i mean that’s when i started doing it regularly how many times have ...</td>\n",
              "    </tr>\n",
              "    <tr>\n",
              "      <th>dave</th>\n",
              "      <td>sticks  stones is dave chappelle’s fifth netflix special\\nin the promotional trailer morgan freeman narrates as chappelle swaggers across a salt flat in leather pants aviator shades and ...</td>\n",
              "    </tr>\n",
              "    <tr>\n",
              "      <th>hasan</th>\n",
              "      <td>what’s up davis what’s up i’m home i had to bring it back here netflix said “where do you want to do the special la chicago new york” i was like “nah son davis california”  this has um...</td>\n",
              "    </tr>\n",
              "    <tr>\n",
              "      <th>louis</th>\n",
              "      <td>recorded at the madison square garden on august      ♪♪  ♪♪ ♪ once upon a time you dressed so fine ♪\\n♪ threw the bums a dime in your prime ♪\\n♪ didn’t you ♪ ♪♪ ♪ people call say beware ...</td>\n",
              "    </tr>\n",
              "    <tr>\n",
              "      <th>murphy</th>\n",
              "      <td>after achieving fame with saturday night live and beverly hills cop eddie murphy released a film version of one of his live standup performances he mainly focuses on the topics of divorc...</td>\n",
              "    </tr>\n",
              "    <tr>\n",
              "      <th>norm</th>\n",
              "      <td>then people go “goddamn at least he’s not a hypocrite” “you’ve got to give it to him that’s the worst part of it” all right i ate a pork chop i don’t want to brag or anything like that b...</td>\n",
              "    </tr>\n",
              "    <tr>\n",
              "      <th>pete</th>\n",
              "      <td>so louis ck tried to get me fired from snl my first year and this is that story so it’s like  or ’ uh and it’s the finale of snl and ii was so shocked and happy that i didn’t get fired a...</td>\n",
              "    </tr>\n",
              "    <tr>\n",
              "      <th>ricky</th>\n",
              "      <td>good evening ladies and gentlemen please welcome to the stage a man who really doesn’t need to do this  ricky gervais     hello hello thank you  shush thank you very much shush no shus...</td>\n",
              "    </tr>\n",
              "    <tr>\n",
              "      <th>rock</th>\n",
              "      <td>were you at the uh white house party  yes i was at the white house everybody was there it was like… whoa the last party at the white house…  you been to the white house  yes it’s amazin...</td>\n",
              "    </tr>\n",
              "    <tr>\n",
              "      <th>taylor</th>\n",
              "      <td>♪ darling go ♪ ♪ hey ♪\\n♪ watch your head ♪\\n♪ don’t look down baby ♪\\n♪ under the bed ♪\\n♪ let it show ♪\\n♪ what you’ve read… ♪  ladies and gentlemen please welcome taylor tomlinson  w...</td>\n",
              "    </tr>\n",
              "    <tr>\n",
              "      <th>trevor</th>\n",
              "      <td>potatoeszah zah potatoes baby  baby  baby  can i hear it without the house for a second yep yep  yep  “all those who try…”  all right bring it all in  “ladies and gentlemen in the red c...</td>\n",
              "    </tr>\n",
              "    <tr>\n",
              "      <th>vir</th>\n",
              "      <td>i lost  of my mind it’s very freeing you should see the look on your faces right now by the way oh good evening san francisco are you guys excited yeah all right well my name is vir das ...</td>\n",
              "    </tr>\n",
              "  </tbody>\n",
              "</table>\n",
              "</div>"
            ],
            "text/plain": [
              "                                                                                                                                                                                            transcript\n",
              "brennan     all right let me explain friend of mine… “former friend” we’ll call her  …is an artist right and the theme of our friendship is kind of feeling alone in the world right so i wrote thi...\n",
              "burnham  exploring mental health decline over  the constant challenges our world faces and the struggles of life itself bo burnham creates a wonderful masterpiece to explain each of these both fr...\n",
              "burr     recorded live at the royal albert hall london england   ladies and gentlemen please welcome bill burr all right thank you thank you very much thank you thank you thank you thank you how ...\n",
              "carlin   recorded on january –  state theatre new brunswick new jersey so you want to talk about it oh yeah it all started in  i mean that’s when i started doing it regularly how many times have ...\n",
              "dave     sticks  stones is dave chappelle’s fifth netflix special\\nin the promotional trailer morgan freeman narrates as chappelle swaggers across a salt flat in leather pants aviator shades and ...\n",
              "hasan      what’s up davis what’s up i’m home i had to bring it back here netflix said “where do you want to do the special la chicago new york” i was like “nah son davis california”  this has um...\n",
              "louis    recorded at the madison square garden on august      ♪♪  ♪♪ ♪ once upon a time you dressed so fine ♪\\n♪ threw the bums a dime in your prime ♪\\n♪ didn’t you ♪ ♪♪ ♪ people call say beware ...\n",
              "murphy   after achieving fame with saturday night live and beverly hills cop eddie murphy released a film version of one of his live standup performances he mainly focuses on the topics of divorc...\n",
              "norm     then people go “goddamn at least he’s not a hypocrite” “you’ve got to give it to him that’s the worst part of it” all right i ate a pork chop i don’t want to brag or anything like that b...\n",
              "pete     so louis ck tried to get me fired from snl my first year and this is that story so it’s like  or ’ uh and it’s the finale of snl and ii was so shocked and happy that i didn’t get fired a...\n",
              "ricky      good evening ladies and gentlemen please welcome to the stage a man who really doesn’t need to do this  ricky gervais     hello hello thank you  shush thank you very much shush no shus...\n",
              "rock      were you at the uh white house party  yes i was at the white house everybody was there it was like… whoa the last party at the white house…  you been to the white house  yes it’s amazin...\n",
              "taylor    ♪ darling go ♪ ♪ hey ♪\\n♪ watch your head ♪\\n♪ don’t look down baby ♪\\n♪ under the bed ♪\\n♪ let it show ♪\\n♪ what you’ve read… ♪  ladies and gentlemen please welcome taylor tomlinson  w...\n",
              "trevor    potatoeszah zah potatoes baby  baby  baby  can i hear it without the house for a second yep yep  yep  “all those who try…”  all right bring it all in  “ladies and gentlemen in the red c...\n",
              "vir      i lost  of my mind it’s very freeing you should see the look on your faces right now by the way oh good evening san francisco are you guys excited yeah all right well my name is vir das ..."
            ]
          },
          "execution_count": 42,
          "metadata": {},
          "output_type": "execute_result"
        }
      ],
      "source": [
        "# Let's take a look at the updated text\n",
        "data_clean = pd.DataFrame(data_df.transcript.apply(round1))\n",
        "data_clean"
      ]
    },
    {
      "cell_type": "code",
      "execution_count": 43,
      "metadata": {
        "colab": {
          "background_save": true
        },
        "collapsed": true,
        "id": "iapiu8wflhOK"
      },
      "outputs": [],
      "source": [
        "# Apply a second round of cleaning\n",
        "def clean_text_round2(text):\n",
        "    '''Get rid of some additional punctuation and non-sensical text that was missed the first time around.'''\n",
        "    text = re.sub('[‘’“”…♪–]', '', text)\n",
        "    text = re.sub('\\n', '', text)\n",
        "    return text\n",
        "\n",
        "round2 = lambda x: clean_text_round2(x)"
      ]
    },
    {
      "cell_type": "code",
      "execution_count": 44,
      "metadata": {
        "colab": {
          "background_save": true
        },
        "id": "mnOm4jwZlhOK",
        "outputId": "db684423-f387-469f-b60c-f9ff78b392ea"
      },
      "outputs": [
        {
          "data": {
            "text/html": [
              "<div>\n",
              "<style scoped>\n",
              "    .dataframe tbody tr th:only-of-type {\n",
              "        vertical-align: middle;\n",
              "    }\n",
              "\n",
              "    .dataframe tbody tr th {\n",
              "        vertical-align: top;\n",
              "    }\n",
              "\n",
              "    .dataframe thead th {\n",
              "        text-align: right;\n",
              "    }\n",
              "</style>\n",
              "<table border=\"1\" class=\"dataframe\">\n",
              "  <thead>\n",
              "    <tr style=\"text-align: right;\">\n",
              "      <th></th>\n",
              "      <th>transcript</th>\n",
              "    </tr>\n",
              "  </thead>\n",
              "  <tbody>\n",
              "    <tr>\n",
              "      <th>brennan</th>\n",
              "      <td>all right let me explain friend of mine former friend well call her  is an artist right and the theme of our friendship is kind of feeling alone in the world right so i wrote this sho...</td>\n",
              "    </tr>\n",
              "    <tr>\n",
              "      <th>burnham</th>\n",
              "      <td>exploring mental health decline over  the constant challenges our world faces and the struggles of life itself bo burnham creates a wonderful masterpiece to explain each of these both fr...</td>\n",
              "    </tr>\n",
              "    <tr>\n",
              "      <th>burr</th>\n",
              "      <td>recorded live at the royal albert hall london england   ladies and gentlemen please welcome bill burr all right thank you thank you very much thank you thank you thank you thank you how ...</td>\n",
              "    </tr>\n",
              "    <tr>\n",
              "      <th>carlin</th>\n",
              "      <td>recorded on january   state theatre new brunswick new jersey so you want to talk about it oh yeah it all started in  i mean thats when i started doing it regularly how many times have yo...</td>\n",
              "    </tr>\n",
              "    <tr>\n",
              "      <th>dave</th>\n",
              "      <td>sticks  stones is dave chappelles fifth netflix specialin the promotional trailer morgan freeman narrates as chappelle swaggers across a salt flat in leather pants aviator shades and a r...</td>\n",
              "    </tr>\n",
              "    <tr>\n",
              "      <th>hasan</th>\n",
              "      <td>whats up davis whats up im home i had to bring it back here netflix said where do you want to do the special la chicago new york i was like nah son davis california  this has um this h...</td>\n",
              "    </tr>\n",
              "    <tr>\n",
              "      <th>louis</th>\n",
              "      <td>recorded at the madison square garden on august          once upon a time you dressed so fine  threw the bums a dime in your prime  didnt you    people call say beware doll  youre bound ...</td>\n",
              "    </tr>\n",
              "    <tr>\n",
              "      <th>murphy</th>\n",
              "      <td>after achieving fame with saturday night live and beverly hills cop eddie murphy released a film version of one of his live standup performances he mainly focuses on the topics of divorc...</td>\n",
              "    </tr>\n",
              "    <tr>\n",
              "      <th>norm</th>\n",
              "      <td>then people go goddamn at least hes not a hypocrite youve got to give it to him thats the worst part of it all right i ate a pork chop i dont want to brag or anything like that but its i...</td>\n",
              "    </tr>\n",
              "    <tr>\n",
              "      <th>pete</th>\n",
              "      <td>so louis ck tried to get me fired from snl my first year and this is that story so its like  or  uh and its the finale of snl and ii was so shocked and happy that i didnt get fired and t...</td>\n",
              "    </tr>\n",
              "    <tr>\n",
              "      <th>ricky</th>\n",
              "      <td>good evening ladies and gentlemen please welcome to the stage a man who really doesnt need to do this  ricky gervais     hello hello thank you  shush thank you very much shush no shush...</td>\n",
              "    </tr>\n",
              "    <tr>\n",
              "      <th>rock</th>\n",
              "      <td>were you at the uh white house party  yes i was at the white house everybody was there it was like whoa the last party at the white house  you been to the white house  yes its amazing  ...</td>\n",
              "    </tr>\n",
              "    <tr>\n",
              "      <th>taylor</th>\n",
              "      <td>darling go   hey  watch your head  dont look down baby  under the bed  let it show  what youve read   ladies and gentlemen please welcome taylor tomlinson  wow i hope my ex sees this t...</td>\n",
              "    </tr>\n",
              "    <tr>\n",
              "      <th>trevor</th>\n",
              "      <td>potatoeszah zah potatoes baby  baby  baby  can i hear it without the house for a second yep yep  yep  all those who try  all right bring it all in  ladies and gentlemen in the red corne...</td>\n",
              "    </tr>\n",
              "    <tr>\n",
              "      <th>vir</th>\n",
              "      <td>i lost  of my mind its very freeing you should see the look on your faces right now by the way oh good evening san francisco are you guys excited yeah all right well my name is vir das w...</td>\n",
              "    </tr>\n",
              "  </tbody>\n",
              "</table>\n",
              "</div>"
            ],
            "text/plain": [
              "                                                                                                                                                                                            transcript\n",
              "brennan     all right let me explain friend of mine former friend well call her  is an artist right and the theme of our friendship is kind of feeling alone in the world right so i wrote this sho...\n",
              "burnham  exploring mental health decline over  the constant challenges our world faces and the struggles of life itself bo burnham creates a wonderful masterpiece to explain each of these both fr...\n",
              "burr     recorded live at the royal albert hall london england   ladies and gentlemen please welcome bill burr all right thank you thank you very much thank you thank you thank you thank you how ...\n",
              "carlin   recorded on january   state theatre new brunswick new jersey so you want to talk about it oh yeah it all started in  i mean thats when i started doing it regularly how many times have yo...\n",
              "dave     sticks  stones is dave chappelles fifth netflix specialin the promotional trailer morgan freeman narrates as chappelle swaggers across a salt flat in leather pants aviator shades and a r...\n",
              "hasan      whats up davis whats up im home i had to bring it back here netflix said where do you want to do the special la chicago new york i was like nah son davis california  this has um this h...\n",
              "louis    recorded at the madison square garden on august          once upon a time you dressed so fine  threw the bums a dime in your prime  didnt you    people call say beware doll  youre bound ...\n",
              "murphy   after achieving fame with saturday night live and beverly hills cop eddie murphy released a film version of one of his live standup performances he mainly focuses on the topics of divorc...\n",
              "norm     then people go goddamn at least hes not a hypocrite youve got to give it to him thats the worst part of it all right i ate a pork chop i dont want to brag or anything like that but its i...\n",
              "pete     so louis ck tried to get me fired from snl my first year and this is that story so its like  or  uh and its the finale of snl and ii was so shocked and happy that i didnt get fired and t...\n",
              "ricky      good evening ladies and gentlemen please welcome to the stage a man who really doesnt need to do this  ricky gervais     hello hello thank you  shush thank you very much shush no shush...\n",
              "rock      were you at the uh white house party  yes i was at the white house everybody was there it was like whoa the last party at the white house  you been to the white house  yes its amazing  ...\n",
              "taylor     darling go   hey  watch your head  dont look down baby  under the bed  let it show  what youve read   ladies and gentlemen please welcome taylor tomlinson  wow i hope my ex sees this t...\n",
              "trevor    potatoeszah zah potatoes baby  baby  baby  can i hear it without the house for a second yep yep  yep  all those who try  all right bring it all in  ladies and gentlemen in the red corne...\n",
              "vir      i lost  of my mind its very freeing you should see the look on your faces right now by the way oh good evening san francisco are you guys excited yeah all right well my name is vir das w..."
            ]
          },
          "execution_count": 44,
          "metadata": {},
          "output_type": "execute_result"
        }
      ],
      "source": [
        "# Let's take a look at the updated text\n",
        "data_clean = pd.DataFrame(data_clean.transcript.apply(round2))\n",
        "data_clean"
      ]
    },
    {
      "cell_type": "markdown",
      "metadata": {
        "id": "MwvvH9KOlhOL"
      },
      "source": [
        "## Organizing The Data"
      ]
    },
    {
      "cell_type": "markdown",
      "metadata": {
        "id": "8tQjNGpqlhOL"
      },
      "source": [
        "### Assignment:\n",
        "1. Organized data in two standard text formats:\n",
        "   a) Corpus - corpus is a collection of texts, and they are all put together neatly in a pandas dataframe here.\n",
        "   b) Document-Term Matrix - word counts in matrix format"
      ]
    },
    {
      "cell_type": "markdown",
      "metadata": {
        "id": "uNpl-l9mlhOL"
      },
      "source": [
        "### Corpus: Example"
      ]
    },
    {
      "cell_type": "markdown",
      "metadata": {
        "id": "i4E-l4TKlhOM"
      },
      "source": [
        "A corpus is a collection of texts, and they are all put together neatly in a pandas dataframe here."
      ]
    },
    {
      "cell_type": "code",
      "execution_count": 45,
      "metadata": {
        "colab": {
          "background_save": true
        },
        "id": "uNEBj_0elhOM",
        "outputId": "7070eac8-a1f7-41c9-f82d-b2b621259771"
      },
      "outputs": [
        {
          "data": {
            "text/html": [
              "<div>\n",
              "<style scoped>\n",
              "    .dataframe tbody tr th:only-of-type {\n",
              "        vertical-align: middle;\n",
              "    }\n",
              "\n",
              "    .dataframe tbody tr th {\n",
              "        vertical-align: top;\n",
              "    }\n",
              "\n",
              "    .dataframe thead th {\n",
              "        text-align: right;\n",
              "    }\n",
              "</style>\n",
              "<table border=\"1\" class=\"dataframe\">\n",
              "  <thead>\n",
              "    <tr style=\"text-align: right;\">\n",
              "      <th></th>\n",
              "      <th>transcript</th>\n",
              "    </tr>\n",
              "  </thead>\n",
              "  <tbody>\n",
              "    <tr>\n",
              "      <th>brennan</th>\n",
              "      <td>[gentle music playing] [audience applauding] [audience cheering] All right, let me explain. Friend of mine… “Former friend,” we’ll call her. [audience laughter] …is an artist, right? And...</td>\n",
              "    </tr>\n",
              "    <tr>\n",
              "      <th>burnham</th>\n",
              "      <td>Exploring mental health decline over 2020, the constant challenges our world faces, and the struggles of life itself, Bo Burnham creates a wonderful masterpiece to explain each of these,...</td>\n",
              "    </tr>\n",
              "    <tr>\n",
              "      <th>burr</th>\n",
              "      <td>Recorded Live at the Royal Albert Hall, London, England [cheering and applause] [female announcer] Ladies and gentlemen, please welcome Bill Burr! All right, thank you. Thank you very mu...</td>\n",
              "    </tr>\n",
              "    <tr>\n",
              "      <th>carlin</th>\n",
              "      <td>Recorded on January 12–13, 1990, State Theatre, New Brunswick, New Jersey So you want to talk about it? Oh yeah. It all started in 1977. I mean, that’s when I started doing it regularly....</td>\n",
              "    </tr>\n",
              "    <tr>\n",
              "      <th>dave</th>\n",
              "      <td>Sticks &amp; Stones is Dave Chappelle’s fifth Netflix special.\\nIn the promotional trailer Morgan Freeman narrates as Chappelle swaggers across a salt flat in leather pants, aviator shades a...</td>\n",
              "    </tr>\n",
              "    <tr>\n",
              "      <th>hasan</th>\n",
              "      <td>[theme music: orchestral hip-hop] [crowd roars] What’s up? Davis, what’s up? I’m home. I had to bring it back here. Netflix said, “Where do you want to do the special? LA, Chicago, New Y...</td>\n",
              "    </tr>\n",
              "    <tr>\n",
              "      <th>louis</th>\n",
              "      <td>Recorded at the Madison Square Garden on August 14, 2021 * * * ♪♪ [“Like a Rolling Stone” by Bob Dylan playing] ♪♪ ♪ Once upon a time you dressed so fine ♪\\n♪ Threw the bums a dime in yo...</td>\n",
              "    </tr>\n",
              "    <tr>\n",
              "      <th>murphy</th>\n",
              "      <td>After achieving fame with Saturday Night Live and Beverly Hills Cop, Eddie Murphy released a film version of one of his live stand-up performances. He mainly focuses on the topics of div...</td>\n",
              "    </tr>\n",
              "    <tr>\n",
              "      <th>norm</th>\n",
              "      <td>Then people go, “Goddamn, at least he’s not a hypocrite.” “You’ve got to give it to him, that’s the worst part of it.” All right. I ate a pork chop. I don’t want to brag or anything like...</td>\n",
              "    </tr>\n",
              "    <tr>\n",
              "      <th>pete</th>\n",
              "      <td>So, Louis C.K. tried to get me fired from SNL my first year, and this is that story. So, it’s, like, 2014 or ’15, uh, and it’s the finale of SNL, and I-I was so shocked and happy that I ...</td>\n",
              "    </tr>\n",
              "    <tr>\n",
              "      <th>ricky</th>\n",
              "      <td>[audience cheering and applauding] [announcer] Good evening, ladies and gentlemen. Please welcome to the stage a man who really doesn’t need to do this. [audience laughing] Ricky Gervais...</td>\n",
              "    </tr>\n",
              "    <tr>\n",
              "      <th>rock</th>\n",
              "      <td>[Jimmy Fallon] Were you at the, uh, White House party? [Chris Rock] Yes, I was at the White House. Everybody was there. It was like… whoa. The last party at the White House… [chuckles so...</td>\n",
              "    </tr>\n",
              "    <tr>\n",
              "      <th>taylor</th>\n",
              "      <td>[“Making Love to the Dead” by Beginners plays] ♪ Darling, go ♪ ♪ Hey ♪\\n♪ Watch your head ♪\\n♪ Don’t look down, baby ♪\\n♪ Under the bed ♪\\n♪ Let it show ♪\\n♪ What you’ve read… ♪ [emcee] ...</td>\n",
              "    </tr>\n",
              "    <tr>\n",
              "      <th>trevor</th>\n",
              "      <td>[orchestral warmup] Potatoeszah. Zah. Potatoes. Baby. [low voice] Baby. [high voice] Baby. [normal voice] Can I hear it without the house for a second? Yep. Yep. [drawnout] Yep. [malevol...</td>\n",
              "    </tr>\n",
              "    <tr>\n",
              "      <th>vir</th>\n",
              "      <td>I lost 80% of my mind. It’s very freeing. You should see the look on your faces right now, by the way. Oh! Good evening, San Francisco. Are you guys excited, yeah? All right. Well, my na...</td>\n",
              "    </tr>\n",
              "  </tbody>\n",
              "</table>\n",
              "</div>"
            ],
            "text/plain": [
              "                                                                                                                                                                                            transcript\n",
              "brennan  [gentle music playing] [audience applauding] [audience cheering] All right, let me explain. Friend of mine… “Former friend,” we’ll call her. [audience laughter] …is an artist, right? And...\n",
              "burnham  Exploring mental health decline over 2020, the constant challenges our world faces, and the struggles of life itself, Bo Burnham creates a wonderful masterpiece to explain each of these,...\n",
              "burr     Recorded Live at the Royal Albert Hall, London, England [cheering and applause] [female announcer] Ladies and gentlemen, please welcome Bill Burr! All right, thank you. Thank you very mu...\n",
              "carlin   Recorded on January 12–13, 1990, State Theatre, New Brunswick, New Jersey So you want to talk about it? Oh yeah. It all started in 1977. I mean, that’s when I started doing it regularly....\n",
              "dave     Sticks & Stones is Dave Chappelle’s fifth Netflix special.\\nIn the promotional trailer Morgan Freeman narrates as Chappelle swaggers across a salt flat in leather pants, aviator shades a...\n",
              "hasan    [theme music: orchestral hip-hop] [crowd roars] What’s up? Davis, what’s up? I’m home. I had to bring it back here. Netflix said, “Where do you want to do the special? LA, Chicago, New Y...\n",
              "louis    Recorded at the Madison Square Garden on August 14, 2021 * * * ♪♪ [“Like a Rolling Stone” by Bob Dylan playing] ♪♪ ♪ Once upon a time you dressed so fine ♪\\n♪ Threw the bums a dime in yo...\n",
              "murphy   After achieving fame with Saturday Night Live and Beverly Hills Cop, Eddie Murphy released a film version of one of his live stand-up performances. He mainly focuses on the topics of div...\n",
              "norm     Then people go, “Goddamn, at least he’s not a hypocrite.” “You’ve got to give it to him, that’s the worst part of it.” All right. I ate a pork chop. I don’t want to brag or anything like...\n",
              "pete     So, Louis C.K. tried to get me fired from SNL my first year, and this is that story. So, it’s, like, 2014 or ’15, uh, and it’s the finale of SNL, and I-I was so shocked and happy that I ...\n",
              "ricky    [audience cheering and applauding] [announcer] Good evening, ladies and gentlemen. Please welcome to the stage a man who really doesn’t need to do this. [audience laughing] Ricky Gervais...\n",
              "rock     [Jimmy Fallon] Were you at the, uh, White House party? [Chris Rock] Yes, I was at the White House. Everybody was there. It was like… whoa. The last party at the White House… [chuckles so...\n",
              "taylor   [“Making Love to the Dead” by Beginners plays] ♪ Darling, go ♪ ♪ Hey ♪\\n♪ Watch your head ♪\\n♪ Don’t look down, baby ♪\\n♪ Under the bed ♪\\n♪ Let it show ♪\\n♪ What you’ve read… ♪ [emcee] ...\n",
              "trevor   [orchestral warmup] Potatoeszah. Zah. Potatoes. Baby. [low voice] Baby. [high voice] Baby. [normal voice] Can I hear it without the house for a second? Yep. Yep. [drawnout] Yep. [malevol...\n",
              "vir      I lost 80% of my mind. It’s very freeing. You should see the look on your faces right now, by the way. Oh! Good evening, San Francisco. Are you guys excited, yeah? All right. Well, my na..."
            ]
          },
          "execution_count": 45,
          "metadata": {},
          "output_type": "execute_result"
        }
      ],
      "source": [
        "# Let's take a look at our dataframe\n",
        "data_df"
      ]
    },
    {
      "cell_type": "code",
      "execution_count": 46,
      "metadata": {
        "colab": {
          "background_save": true
        },
        "id": "8Na-vBmrlhOM",
        "outputId": "ad381468-21f5-44d2-acf1-1948705d7684"
      },
      "outputs": [
        {
          "data": {
            "text/html": [
              "<div>\n",
              "<style scoped>\n",
              "    .dataframe tbody tr th:only-of-type {\n",
              "        vertical-align: middle;\n",
              "    }\n",
              "\n",
              "    .dataframe tbody tr th {\n",
              "        vertical-align: top;\n",
              "    }\n",
              "\n",
              "    .dataframe thead th {\n",
              "        text-align: right;\n",
              "    }\n",
              "</style>\n",
              "<table border=\"1\" class=\"dataframe\">\n",
              "  <thead>\n",
              "    <tr style=\"text-align: right;\">\n",
              "      <th></th>\n",
              "      <th>transcript</th>\n",
              "      <th>full_name</th>\n",
              "    </tr>\n",
              "  </thead>\n",
              "  <tbody>\n",
              "    <tr>\n",
              "      <th>brennan</th>\n",
              "      <td>[gentle music playing] [audience applauding] [audience cheering] All right, let me explain. Friend of mine… “Former friend,” we’ll call her. [audience laughter] …is an artist, right? And...</td>\n",
              "      <td>Neal Brennan</td>\n",
              "    </tr>\n",
              "    <tr>\n",
              "      <th>burnham</th>\n",
              "      <td>Exploring mental health decline over 2020, the constant challenges our world faces, and the struggles of life itself, Bo Burnham creates a wonderful masterpiece to explain each of these,...</td>\n",
              "      <td>Bo Burnham</td>\n",
              "    </tr>\n",
              "    <tr>\n",
              "      <th>burr</th>\n",
              "      <td>Recorded Live at the Royal Albert Hall, London, England [cheering and applause] [female announcer] Ladies and gentlemen, please welcome Bill Burr! All right, thank you. Thank you very mu...</td>\n",
              "      <td>Bill Burr</td>\n",
              "    </tr>\n",
              "    <tr>\n",
              "      <th>carlin</th>\n",
              "      <td>Recorded on January 12–13, 1990, State Theatre, New Brunswick, New Jersey So you want to talk about it? Oh yeah. It all started in 1977. I mean, that’s when I started doing it regularly....</td>\n",
              "      <td>George Carlin</td>\n",
              "    </tr>\n",
              "    <tr>\n",
              "      <th>dave</th>\n",
              "      <td>Sticks &amp; Stones is Dave Chappelle’s fifth Netflix special.\\nIn the promotional trailer Morgan Freeman narrates as Chappelle swaggers across a salt flat in leather pants, aviator shades a...</td>\n",
              "      <td>Dave Chappelle</td>\n",
              "    </tr>\n",
              "    <tr>\n",
              "      <th>hasan</th>\n",
              "      <td>[theme music: orchestral hip-hop] [crowd roars] What’s up? Davis, what’s up? I’m home. I had to bring it back here. Netflix said, “Where do you want to do the special? LA, Chicago, New Y...</td>\n",
              "      <td>Hasan Minhaj</td>\n",
              "    </tr>\n",
              "    <tr>\n",
              "      <th>louis</th>\n",
              "      <td>Recorded at the Madison Square Garden on August 14, 2021 * * * ♪♪ [“Like a Rolling Stone” by Bob Dylan playing] ♪♪ ♪ Once upon a time you dressed so fine ♪\\n♪ Threw the bums a dime in yo...</td>\n",
              "      <td>Louis C.K.</td>\n",
              "    </tr>\n",
              "    <tr>\n",
              "      <th>murphy</th>\n",
              "      <td>After achieving fame with Saturday Night Live and Beverly Hills Cop, Eddie Murphy released a film version of one of his live stand-up performances. He mainly focuses on the topics of div...</td>\n",
              "      <td>Eddie Murphy</td>\n",
              "    </tr>\n",
              "    <tr>\n",
              "      <th>norm</th>\n",
              "      <td>Then people go, “Goddamn, at least he’s not a hypocrite.” “You’ve got to give it to him, that’s the worst part of it.” All right. I ate a pork chop. I don’t want to brag or anything like...</td>\n",
              "      <td>Norm Macdonald</td>\n",
              "    </tr>\n",
              "    <tr>\n",
              "      <th>pete</th>\n",
              "      <td>So, Louis C.K. tried to get me fired from SNL my first year, and this is that story. So, it’s, like, 2014 or ’15, uh, and it’s the finale of SNL, and I-I was so shocked and happy that I ...</td>\n",
              "      <td>Pete Davidson</td>\n",
              "    </tr>\n",
              "    <tr>\n",
              "      <th>ricky</th>\n",
              "      <td>[audience cheering and applauding] [announcer] Good evening, ladies and gentlemen. Please welcome to the stage a man who really doesn’t need to do this. [audience laughing] Ricky Gervais...</td>\n",
              "      <td>Ricky Gervais</td>\n",
              "    </tr>\n",
              "    <tr>\n",
              "      <th>rock</th>\n",
              "      <td>[Jimmy Fallon] Were you at the, uh, White House party? [Chris Rock] Yes, I was at the White House. Everybody was there. It was like… whoa. The last party at the White House… [chuckles so...</td>\n",
              "      <td>Chris Rock</td>\n",
              "    </tr>\n",
              "    <tr>\n",
              "      <th>taylor</th>\n",
              "      <td>[“Making Love to the Dead” by Beginners plays] ♪ Darling, go ♪ ♪ Hey ♪\\n♪ Watch your head ♪\\n♪ Don’t look down, baby ♪\\n♪ Under the bed ♪\\n♪ Let it show ♪\\n♪ What you’ve read… ♪ [emcee] ...</td>\n",
              "      <td>Taylor Tomlinson</td>\n",
              "    </tr>\n",
              "    <tr>\n",
              "      <th>trevor</th>\n",
              "      <td>[orchestral warmup] Potatoeszah. Zah. Potatoes. Baby. [low voice] Baby. [high voice] Baby. [normal voice] Can I hear it without the house for a second? Yep. Yep. [drawnout] Yep. [malevol...</td>\n",
              "      <td>Trevor Noah</td>\n",
              "    </tr>\n",
              "    <tr>\n",
              "      <th>vir</th>\n",
              "      <td>I lost 80% of my mind. It’s very freeing. You should see the look on your faces right now, by the way. Oh! Good evening, San Francisco. Are you guys excited, yeah? All right. Well, my na...</td>\n",
              "      <td>Vir Das</td>\n",
              "    </tr>\n",
              "  </tbody>\n",
              "</table>\n",
              "</div>"
            ],
            "text/plain": [
              "                                                                                                                                                                                            transcript  \\\n",
              "brennan  [gentle music playing] [audience applauding] [audience cheering] All right, let me explain. Friend of mine… “Former friend,” we’ll call her. [audience laughter] …is an artist, right? And...   \n",
              "burnham  Exploring mental health decline over 2020, the constant challenges our world faces, and the struggles of life itself, Bo Burnham creates a wonderful masterpiece to explain each of these,...   \n",
              "burr     Recorded Live at the Royal Albert Hall, London, England [cheering and applause] [female announcer] Ladies and gentlemen, please welcome Bill Burr! All right, thank you. Thank you very mu...   \n",
              "carlin   Recorded on January 12–13, 1990, State Theatre, New Brunswick, New Jersey So you want to talk about it? Oh yeah. It all started in 1977. I mean, that’s when I started doing it regularly....   \n",
              "dave     Sticks & Stones is Dave Chappelle’s fifth Netflix special.\\nIn the promotional trailer Morgan Freeman narrates as Chappelle swaggers across a salt flat in leather pants, aviator shades a...   \n",
              "hasan    [theme music: orchestral hip-hop] [crowd roars] What’s up? Davis, what’s up? I’m home. I had to bring it back here. Netflix said, “Where do you want to do the special? LA, Chicago, New Y...   \n",
              "louis    Recorded at the Madison Square Garden on August 14, 2021 * * * ♪♪ [“Like a Rolling Stone” by Bob Dylan playing] ♪♪ ♪ Once upon a time you dressed so fine ♪\\n♪ Threw the bums a dime in yo...   \n",
              "murphy   After achieving fame with Saturday Night Live and Beverly Hills Cop, Eddie Murphy released a film version of one of his live stand-up performances. He mainly focuses on the topics of div...   \n",
              "norm     Then people go, “Goddamn, at least he’s not a hypocrite.” “You’ve got to give it to him, that’s the worst part of it.” All right. I ate a pork chop. I don’t want to brag or anything like...   \n",
              "pete     So, Louis C.K. tried to get me fired from SNL my first year, and this is that story. So, it’s, like, 2014 or ’15, uh, and it’s the finale of SNL, and I-I was so shocked and happy that I ...   \n",
              "ricky    [audience cheering and applauding] [announcer] Good evening, ladies and gentlemen. Please welcome to the stage a man who really doesn’t need to do this. [audience laughing] Ricky Gervais...   \n",
              "rock     [Jimmy Fallon] Were you at the, uh, White House party? [Chris Rock] Yes, I was at the White House. Everybody was there. It was like… whoa. The last party at the White House… [chuckles so...   \n",
              "taylor   [“Making Love to the Dead” by Beginners plays] ♪ Darling, go ♪ ♪ Hey ♪\\n♪ Watch your head ♪\\n♪ Don’t look down, baby ♪\\n♪ Under the bed ♪\\n♪ Let it show ♪\\n♪ What you’ve read… ♪ [emcee] ...   \n",
              "trevor   [orchestral warmup] Potatoeszah. Zah. Potatoes. Baby. [low voice] Baby. [high voice] Baby. [normal voice] Can I hear it without the house for a second? Yep. Yep. [drawnout] Yep. [malevol...   \n",
              "vir      I lost 80% of my mind. It’s very freeing. You should see the look on your faces right now, by the way. Oh! Good evening, San Francisco. Are you guys excited, yeah? All right. Well, my na...   \n",
              "\n",
              "                full_name  \n",
              "brennan      Neal Brennan  \n",
              "burnham        Bo Burnham  \n",
              "burr            Bill Burr  \n",
              "carlin      George Carlin  \n",
              "dave       Dave Chappelle  \n",
              "hasan        Hasan Minhaj  \n",
              "louis          Louis C.K.  \n",
              "murphy       Eddie Murphy  \n",
              "norm       Norm Macdonald  \n",
              "pete        Pete Davidson  \n",
              "ricky       Ricky Gervais  \n",
              "rock           Chris Rock  \n",
              "taylor   Taylor Tomlinson  \n",
              "trevor        Trevor Noah  \n",
              "vir               Vir Das  "
            ]
          },
          "execution_count": 46,
          "metadata": {},
          "output_type": "execute_result"
        }
      ],
      "source": [
        "# Let's add the comedians' full names as well\n",
        "full_names = ['Neal Brennan','Bo Burnham', 'Bill Burr', 'George Carlin', 'Dave Chappelle', 'Hasan Minhaj', 'Louis C.K.',\n",
        "              'Eddie Murphy', 'Norm Macdonald', 'Pete Davidson', 'Ricky Gervais', 'Chris Rock', 'Taylor Tomlinson','Trevor Noah','Vir Das']\n",
        "\n",
        "data_df['full_name'] = full_names\n",
        "data_df"
      ]
    },
    {
      "cell_type": "code",
      "execution_count": 47,
      "metadata": {
        "colab": {
          "background_save": true
        },
        "collapsed": true,
        "id": "xd9LTURrlhOM"
      },
      "outputs": [],
      "source": [
        "# Let's pickle it for later use\n",
        "data_df.to_pickle(\"corpus.pkl\")"
      ]
    },
    {
      "cell_type": "markdown",
      "metadata": {
        "id": "QwrEUA7wlhOM"
      },
      "source": [
        "### Document-Term Matrix: Example"
      ]
    },
    {
      "cell_type": "markdown",
      "metadata": {
        "id": "Vvkp5Rf2lhON"
      },
      "source": [
        "For many of the techniques we'll be using in future assignment, the text must be tokenized, meaning broken down into smaller pieces. The most common tokenization technique is to break down text into words. We can do this using scikit-learn's ` CountVectorizer `, where every row will represent a different document and every column will represent a different word.\n",
        "\n",
        "In addition, with ` CountVectorizer `, we can remove stop words. Stop words are common words that add no additional meaning to text such as 'a', 'the', etc."
      ]
    },
    {
      "cell_type": "code",
      "execution_count": 48,
      "metadata": {
        "id": "pnjgd_NolhON"
      },
      "outputs": [
        {
          "name": "stderr",
          "output_type": "stream",
          "text": [
            "/Library/Frameworks/Python.framework/Versions/3.10/lib/python3.10/site-packages/sklearn/utils/deprecation.py:87: FutureWarning: Function get_feature_names is deprecated; get_feature_names is deprecated in 1.0 and will be removed in 1.2. Please use get_feature_names_out instead.\n",
            "  warnings.warn(msg, category=FutureWarning)\n"
          ]
        },
        {
          "data": {
            "text/html": [
              "<div>\n",
              "<style scoped>\n",
              "    .dataframe tbody tr th:only-of-type {\n",
              "        vertical-align: middle;\n",
              "    }\n",
              "\n",
              "    .dataframe tbody tr th {\n",
              "        vertical-align: top;\n",
              "    }\n",
              "\n",
              "    .dataframe thead th {\n",
              "        text-align: right;\n",
              "    }\n",
              "</style>\n",
              "<table border=\"1\" class=\"dataframe\">\n",
              "  <thead>\n",
              "    <tr style=\"text-align: right;\">\n",
              "      <th></th>\n",
              "      <th>aaaah</th>\n",
              "      <th>aah</th>\n",
              "      <th>aall</th>\n",
              "      <th>aand</th>\n",
              "      <th>aarrives</th>\n",
              "      <th>abandon</th>\n",
              "      <th>abbreviation</th>\n",
              "      <th>abducted</th>\n",
              "      <th>abducting</th>\n",
              "      <th>abdullahs</th>\n",
              "      <th>...</th>\n",
              "      <th>zoo</th>\n",
              "      <th>zoom</th>\n",
              "      <th>zoomed</th>\n",
              "      <th>zoomers</th>\n",
              "      <th>zucchinis</th>\n",
              "      <th>zucker</th>\n",
              "      <th>zuckerberg</th>\n",
              "      <th>zuckerfuck</th>\n",
              "      <th>zuckerfucker</th>\n",
              "      <th>zuckermother</th>\n",
              "    </tr>\n",
              "  </thead>\n",
              "  <tbody>\n",
              "    <tr>\n",
              "      <th>brennan</th>\n",
              "      <td>0</td>\n",
              "      <td>3</td>\n",
              "      <td>0</td>\n",
              "      <td>0</td>\n",
              "      <td>0</td>\n",
              "      <td>0</td>\n",
              "      <td>0</td>\n",
              "      <td>0</td>\n",
              "      <td>0</td>\n",
              "      <td>0</td>\n",
              "      <td>...</td>\n",
              "      <td>0</td>\n",
              "      <td>0</td>\n",
              "      <td>0</td>\n",
              "      <td>0</td>\n",
              "      <td>0</td>\n",
              "      <td>0</td>\n",
              "      <td>0</td>\n",
              "      <td>0</td>\n",
              "      <td>0</td>\n",
              "      <td>0</td>\n",
              "    </tr>\n",
              "    <tr>\n",
              "      <th>burnham</th>\n",
              "      <td>0</td>\n",
              "      <td>0</td>\n",
              "      <td>0</td>\n",
              "      <td>0</td>\n",
              "      <td>0</td>\n",
              "      <td>0</td>\n",
              "      <td>0</td>\n",
              "      <td>0</td>\n",
              "      <td>0</td>\n",
              "      <td>0</td>\n",
              "      <td>...</td>\n",
              "      <td>0</td>\n",
              "      <td>1</td>\n",
              "      <td>0</td>\n",
              "      <td>1</td>\n",
              "      <td>0</td>\n",
              "      <td>0</td>\n",
              "      <td>1</td>\n",
              "      <td>0</td>\n",
              "      <td>0</td>\n",
              "      <td>0</td>\n",
              "    </tr>\n",
              "    <tr>\n",
              "      <th>burr</th>\n",
              "      <td>0</td>\n",
              "      <td>0</td>\n",
              "      <td>0</td>\n",
              "      <td>0</td>\n",
              "      <td>0</td>\n",
              "      <td>0</td>\n",
              "      <td>0</td>\n",
              "      <td>0</td>\n",
              "      <td>0</td>\n",
              "      <td>0</td>\n",
              "      <td>...</td>\n",
              "      <td>1</td>\n",
              "      <td>0</td>\n",
              "      <td>1</td>\n",
              "      <td>0</td>\n",
              "      <td>0</td>\n",
              "      <td>0</td>\n",
              "      <td>0</td>\n",
              "      <td>0</td>\n",
              "      <td>0</td>\n",
              "      <td>0</td>\n",
              "    </tr>\n",
              "    <tr>\n",
              "      <th>carlin</th>\n",
              "      <td>0</td>\n",
              "      <td>0</td>\n",
              "      <td>0</td>\n",
              "      <td>0</td>\n",
              "      <td>0</td>\n",
              "      <td>0</td>\n",
              "      <td>0</td>\n",
              "      <td>0</td>\n",
              "      <td>0</td>\n",
              "      <td>0</td>\n",
              "      <td>...</td>\n",
              "      <td>0</td>\n",
              "      <td>0</td>\n",
              "      <td>0</td>\n",
              "      <td>0</td>\n",
              "      <td>0</td>\n",
              "      <td>0</td>\n",
              "      <td>0</td>\n",
              "      <td>0</td>\n",
              "      <td>0</td>\n",
              "      <td>0</td>\n",
              "    </tr>\n",
              "    <tr>\n",
              "      <th>dave</th>\n",
              "      <td>1</td>\n",
              "      <td>2</td>\n",
              "      <td>0</td>\n",
              "      <td>2</td>\n",
              "      <td>0</td>\n",
              "      <td>1</td>\n",
              "      <td>0</td>\n",
              "      <td>0</td>\n",
              "      <td>0</td>\n",
              "      <td>0</td>\n",
              "      <td>...</td>\n",
              "      <td>0</td>\n",
              "      <td>0</td>\n",
              "      <td>0</td>\n",
              "      <td>0</td>\n",
              "      <td>0</td>\n",
              "      <td>0</td>\n",
              "      <td>0</td>\n",
              "      <td>0</td>\n",
              "      <td>0</td>\n",
              "      <td>0</td>\n",
              "    </tr>\n",
              "    <tr>\n",
              "      <th>hasan</th>\n",
              "      <td>0</td>\n",
              "      <td>0</td>\n",
              "      <td>0</td>\n",
              "      <td>0</td>\n",
              "      <td>0</td>\n",
              "      <td>0</td>\n",
              "      <td>0</td>\n",
              "      <td>0</td>\n",
              "      <td>0</td>\n",
              "      <td>0</td>\n",
              "      <td>...</td>\n",
              "      <td>0</td>\n",
              "      <td>0</td>\n",
              "      <td>0</td>\n",
              "      <td>0</td>\n",
              "      <td>0</td>\n",
              "      <td>0</td>\n",
              "      <td>0</td>\n",
              "      <td>0</td>\n",
              "      <td>0</td>\n",
              "      <td>0</td>\n",
              "    </tr>\n",
              "    <tr>\n",
              "      <th>louis</th>\n",
              "      <td>0</td>\n",
              "      <td>0</td>\n",
              "      <td>0</td>\n",
              "      <td>0</td>\n",
              "      <td>0</td>\n",
              "      <td>0</td>\n",
              "      <td>0</td>\n",
              "      <td>0</td>\n",
              "      <td>0</td>\n",
              "      <td>0</td>\n",
              "      <td>...</td>\n",
              "      <td>9</td>\n",
              "      <td>0</td>\n",
              "      <td>0</td>\n",
              "      <td>0</td>\n",
              "      <td>0</td>\n",
              "      <td>0</td>\n",
              "      <td>0</td>\n",
              "      <td>0</td>\n",
              "      <td>0</td>\n",
              "      <td>0</td>\n",
              "    </tr>\n",
              "    <tr>\n",
              "      <th>murphy</th>\n",
              "      <td>0</td>\n",
              "      <td>1</td>\n",
              "      <td>0</td>\n",
              "      <td>0</td>\n",
              "      <td>0</td>\n",
              "      <td>0</td>\n",
              "      <td>0</td>\n",
              "      <td>0</td>\n",
              "      <td>0</td>\n",
              "      <td>1</td>\n",
              "      <td>...</td>\n",
              "      <td>0</td>\n",
              "      <td>0</td>\n",
              "      <td>0</td>\n",
              "      <td>0</td>\n",
              "      <td>0</td>\n",
              "      <td>0</td>\n",
              "      <td>0</td>\n",
              "      <td>0</td>\n",
              "      <td>0</td>\n",
              "      <td>0</td>\n",
              "    </tr>\n",
              "    <tr>\n",
              "      <th>norm</th>\n",
              "      <td>0</td>\n",
              "      <td>0</td>\n",
              "      <td>0</td>\n",
              "      <td>0</td>\n",
              "      <td>0</td>\n",
              "      <td>0</td>\n",
              "      <td>1</td>\n",
              "      <td>0</td>\n",
              "      <td>0</td>\n",
              "      <td>0</td>\n",
              "      <td>...</td>\n",
              "      <td>0</td>\n",
              "      <td>0</td>\n",
              "      <td>0</td>\n",
              "      <td>0</td>\n",
              "      <td>0</td>\n",
              "      <td>0</td>\n",
              "      <td>0</td>\n",
              "      <td>0</td>\n",
              "      <td>0</td>\n",
              "      <td>0</td>\n",
              "    </tr>\n",
              "    <tr>\n",
              "      <th>pete</th>\n",
              "      <td>0</td>\n",
              "      <td>0</td>\n",
              "      <td>1</td>\n",
              "      <td>3</td>\n",
              "      <td>1</td>\n",
              "      <td>0</td>\n",
              "      <td>0</td>\n",
              "      <td>0</td>\n",
              "      <td>0</td>\n",
              "      <td>0</td>\n",
              "      <td>...</td>\n",
              "      <td>0</td>\n",
              "      <td>0</td>\n",
              "      <td>0</td>\n",
              "      <td>0</td>\n",
              "      <td>0</td>\n",
              "      <td>0</td>\n",
              "      <td>0</td>\n",
              "      <td>0</td>\n",
              "      <td>0</td>\n",
              "      <td>0</td>\n",
              "    </tr>\n",
              "    <tr>\n",
              "      <th>ricky</th>\n",
              "      <td>0</td>\n",
              "      <td>0</td>\n",
              "      <td>0</td>\n",
              "      <td>0</td>\n",
              "      <td>0</td>\n",
              "      <td>0</td>\n",
              "      <td>0</td>\n",
              "      <td>0</td>\n",
              "      <td>1</td>\n",
              "      <td>0</td>\n",
              "      <td>...</td>\n",
              "      <td>0</td>\n",
              "      <td>0</td>\n",
              "      <td>0</td>\n",
              "      <td>0</td>\n",
              "      <td>0</td>\n",
              "      <td>0</td>\n",
              "      <td>0</td>\n",
              "      <td>0</td>\n",
              "      <td>0</td>\n",
              "      <td>0</td>\n",
              "    </tr>\n",
              "    <tr>\n",
              "      <th>rock</th>\n",
              "      <td>0</td>\n",
              "      <td>0</td>\n",
              "      <td>0</td>\n",
              "      <td>0</td>\n",
              "      <td>0</td>\n",
              "      <td>0</td>\n",
              "      <td>0</td>\n",
              "      <td>0</td>\n",
              "      <td>0</td>\n",
              "      <td>0</td>\n",
              "      <td>...</td>\n",
              "      <td>0</td>\n",
              "      <td>0</td>\n",
              "      <td>0</td>\n",
              "      <td>0</td>\n",
              "      <td>0</td>\n",
              "      <td>2</td>\n",
              "      <td>1</td>\n",
              "      <td>1</td>\n",
              "      <td>1</td>\n",
              "      <td>2</td>\n",
              "    </tr>\n",
              "    <tr>\n",
              "      <th>taylor</th>\n",
              "      <td>0</td>\n",
              "      <td>0</td>\n",
              "      <td>0</td>\n",
              "      <td>0</td>\n",
              "      <td>0</td>\n",
              "      <td>0</td>\n",
              "      <td>0</td>\n",
              "      <td>1</td>\n",
              "      <td>0</td>\n",
              "      <td>0</td>\n",
              "      <td>...</td>\n",
              "      <td>0</td>\n",
              "      <td>0</td>\n",
              "      <td>0</td>\n",
              "      <td>0</td>\n",
              "      <td>1</td>\n",
              "      <td>0</td>\n",
              "      <td>0</td>\n",
              "      <td>0</td>\n",
              "      <td>0</td>\n",
              "      <td>0</td>\n",
              "    </tr>\n",
              "    <tr>\n",
              "      <th>trevor</th>\n",
              "      <td>0</td>\n",
              "      <td>0</td>\n",
              "      <td>0</td>\n",
              "      <td>0</td>\n",
              "      <td>0</td>\n",
              "      <td>1</td>\n",
              "      <td>0</td>\n",
              "      <td>0</td>\n",
              "      <td>0</td>\n",
              "      <td>0</td>\n",
              "      <td>...</td>\n",
              "      <td>0</td>\n",
              "      <td>1</td>\n",
              "      <td>0</td>\n",
              "      <td>0</td>\n",
              "      <td>0</td>\n",
              "      <td>0</td>\n",
              "      <td>0</td>\n",
              "      <td>0</td>\n",
              "      <td>0</td>\n",
              "      <td>0</td>\n",
              "    </tr>\n",
              "    <tr>\n",
              "      <th>vir</th>\n",
              "      <td>0</td>\n",
              "      <td>0</td>\n",
              "      <td>0</td>\n",
              "      <td>0</td>\n",
              "      <td>0</td>\n",
              "      <td>0</td>\n",
              "      <td>0</td>\n",
              "      <td>1</td>\n",
              "      <td>0</td>\n",
              "      <td>0</td>\n",
              "      <td>...</td>\n",
              "      <td>0</td>\n",
              "      <td>0</td>\n",
              "      <td>0</td>\n",
              "      <td>0</td>\n",
              "      <td>0</td>\n",
              "      <td>0</td>\n",
              "      <td>0</td>\n",
              "      <td>0</td>\n",
              "      <td>0</td>\n",
              "      <td>0</td>\n",
              "    </tr>\n",
              "  </tbody>\n",
              "</table>\n",
              "<p>15 rows × 8412 columns</p>\n",
              "</div>"
            ],
            "text/plain": [
              "         aaaah  aah  aall  aand  aarrives  abandon  abbreviation  abducted  \\\n",
              "brennan      0    3     0     0         0        0             0         0   \n",
              "burnham      0    0     0     0         0        0             0         0   \n",
              "burr         0    0     0     0         0        0             0         0   \n",
              "carlin       0    0     0     0         0        0             0         0   \n",
              "dave         1    2     0     2         0        1             0         0   \n",
              "hasan        0    0     0     0         0        0             0         0   \n",
              "louis        0    0     0     0         0        0             0         0   \n",
              "murphy       0    1     0     0         0        0             0         0   \n",
              "norm         0    0     0     0         0        0             1         0   \n",
              "pete         0    0     1     3         1        0             0         0   \n",
              "ricky        0    0     0     0         0        0             0         0   \n",
              "rock         0    0     0     0         0        0             0         0   \n",
              "taylor       0    0     0     0         0        0             0         1   \n",
              "trevor       0    0     0     0         0        1             0         0   \n",
              "vir          0    0     0     0         0        0             0         1   \n",
              "\n",
              "         abducting  abdullahs  ...  zoo  zoom  zoomed  zoomers  zucchinis  \\\n",
              "brennan          0          0  ...    0     0       0        0          0   \n",
              "burnham          0          0  ...    0     1       0        1          0   \n",
              "burr             0          0  ...    1     0       1        0          0   \n",
              "carlin           0          0  ...    0     0       0        0          0   \n",
              "dave             0          0  ...    0     0       0        0          0   \n",
              "hasan            0          0  ...    0     0       0        0          0   \n",
              "louis            0          0  ...    9     0       0        0          0   \n",
              "murphy           0          1  ...    0     0       0        0          0   \n",
              "norm             0          0  ...    0     0       0        0          0   \n",
              "pete             0          0  ...    0     0       0        0          0   \n",
              "ricky            1          0  ...    0     0       0        0          0   \n",
              "rock             0          0  ...    0     0       0        0          0   \n",
              "taylor           0          0  ...    0     0       0        0          1   \n",
              "trevor           0          0  ...    0     1       0        0          0   \n",
              "vir              0          0  ...    0     0       0        0          0   \n",
              "\n",
              "         zucker  zuckerberg  zuckerfuck  zuckerfucker  zuckermother  \n",
              "brennan       0           0           0             0             0  \n",
              "burnham       0           1           0             0             0  \n",
              "burr          0           0           0             0             0  \n",
              "carlin        0           0           0             0             0  \n",
              "dave          0           0           0             0             0  \n",
              "hasan         0           0           0             0             0  \n",
              "louis         0           0           0             0             0  \n",
              "murphy        0           0           0             0             0  \n",
              "norm          0           0           0             0             0  \n",
              "pete          0           0           0             0             0  \n",
              "ricky         0           0           0             0             0  \n",
              "rock          2           1           1             1             2  \n",
              "taylor        0           0           0             0             0  \n",
              "trevor        0           0           0             0             0  \n",
              "vir           0           0           0             0             0  \n",
              "\n",
              "[15 rows x 8412 columns]"
            ]
          },
          "execution_count": 48,
          "metadata": {},
          "output_type": "execute_result"
        }
      ],
      "source": [
        "# We are going to create a document-term matrix using CountVectorizer, and exclude common English stop words\n",
        "from sklearn.feature_extraction.text import CountVectorizer\n",
        "\n",
        "cv = CountVectorizer(stop_words='english')\n",
        "data_cv = cv.fit_transform(data_clean.transcript)\n",
        "data_dtm = pd.DataFrame(data_cv.toarray(), columns=cv.get_feature_names())\n",
        "data_dtm.index = data_clean.index\n",
        "data_dtm"
      ]
    },
    {
      "cell_type": "code",
      "execution_count": 49,
      "metadata": {
        "collapsed": true,
        "id": "FtDPRc6plhON"
      },
      "outputs": [],
      "source": [
        "# Let's pickle it for later use\n",
        "data_dtm.to_pickle(\"dtm.pkl\")"
      ]
    },
    {
      "cell_type": "code",
      "execution_count": 50,
      "metadata": {
        "collapsed": true,
        "id": "EweKbpGClhON"
      },
      "outputs": [],
      "source": [
        "# Let's also pickle the cleaned data (before we put it in document-term matrix format) and the CountVectorizer object\n",
        "data_clean.to_pickle('data_clean.pkl')\n",
        "pickle.dump(cv, open(\"cv.pkl\", \"wb\"))"
      ]
    },
    {
      "cell_type": "markdown",
      "metadata": {
        "collapsed": true,
        "id": "ciR9M98vlhON"
      },
      "source": [
        "## Additional Assignments:"
      ]
    },
    {
      "cell_type": "markdown",
      "metadata": {
        "id": "vNvouT9ylhON"
      },
      "source": [
        "1. Can you add an additional regular expression to the clean_text_round2 function to further clean the text?\n",
        "2. Play around with CountVectorizer's parameters. What is ngram_range? What is min_df and max_df?"
      ]
    },
    {
      "attachments": {},
      "cell_type": "markdown",
      "metadata": {
        "id": "ho9k9xoIcclJ"
      },
      "source": [
        "1. On clear inspection of transcripts after first round of cleaning, we can see we can clearly remove music symbol (♪) and hypen (-) in the transcript of some comedians which is also not necessary for your processing, Therefore I've added it to re.sub function's regular expression. After second round of cleaning, it is removed and transcript is not more workable.\n",
        "\n",
        "2. CountVectorizer has many parameters such as encoding, strip_accent, stop_words, token_pattern, ngram_range ...... etc. More could be found on https://scikit-learn.org/stable/modules/generated/sklearn.feature_extraction.text.CountVectorizer.html official documentation for same"
      ]
    }
  ],
  "metadata": {
    "colab": {
      "provenance": []
    },
    "kernelspec": {
      "display_name": "base",
      "language": "python",
      "name": "python3"
    },
    "language_info": {
      "codemirror_mode": {
        "name": "ipython",
        "version": 3
      },
      "file_extension": ".py",
      "mimetype": "text/x-python",
      "name": "python",
      "nbconvert_exporter": "python",
      "pygments_lexer": "ipython3",
      "version": "3.9.13"
    },
    "toc": {
      "nav_menu": {},
      "number_sections": true,
      "sideBar": true,
      "skip_h1_title": false,
      "toc_cell": false,
      "toc_position": {},
      "toc_section_display": "block",
      "toc_window_display": false
    },
    "varInspector": {
      "cols": {
        "lenName": 16,
        "lenType": 16,
        "lenVar": 40
      },
      "kernels_config": {
        "python": {
          "delete_cmd_postfix": "",
          "delete_cmd_prefix": "del ",
          "library": "var_list.py",
          "varRefreshCmd": "print(var_dic_list())"
        },
        "r": {
          "delete_cmd_postfix": ") ",
          "delete_cmd_prefix": "rm(",
          "library": "var_list.r",
          "varRefreshCmd": "cat(var_dic_list()) "
        }
      },
      "types_to_exclude": [
        "module",
        "function",
        "builtin_function_or_method",
        "instance",
        "_Feature"
      ],
      "window_display": false
    },
    "vscode": {
      "interpreter": {
        "hash": "3caa6a72f96ffb25748736284ffabe24b559518c30516210d5345169c8442d50"
      }
    }
  },
  "nbformat": 4,
  "nbformat_minor": 0
}
